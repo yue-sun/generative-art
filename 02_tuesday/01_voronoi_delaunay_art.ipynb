{
 "cells": [
  {
   "cell_type": "markdown",
   "id": "9d043955",
   "metadata": {},
   "source": [
    "[![Open In Colab](https://colab.research.google.com/assets/colab-badge.svg)](http://colab.research.google.com/github/yue-sun/generative-art/blob/main/02_tuesday/01_voronoi_delaunay_art.ipynb)"
   ]
  },
  {
   "cell_type": "markdown",
   "id": "5ceff31e",
   "metadata": {},
   "source": [
    "# Voronoi-Delaunay Image Art \n",
    "Jiayin Lu, Dec 2022, Jan 2023 mini-course"
   ]
  },
  {
   "cell_type": "markdown",
   "id": "9a7073c6",
   "metadata": {},
   "source": [
    "![Voro_art_preview.PNG](https://raw.githubusercontent.com/yue-sun/generative-art/master/02_tuesday/figs/voro_art_preview.PNG)"
   ]
  },
  {
   "cell_type": "markdown",
   "id": "ffad8c31",
   "metadata": {},
   "source": [
    "## Learning goals:\n",
    " - Voronoi diagram\n",
    " - Delaunay triangulation\n",
    " - Geometry meshing\n",
    " - Image color representation (and manipulation)\n",
    "\n",
    "## Artistic goal: \n",
    " - Photo art using the above!"
   ]
  },
  {
   "cell_type": "markdown",
   "id": "a1c96556",
   "metadata": {},
   "source": [
    "## Overview\n",
    "    1. Voronoi Diagram\n",
    "        1.1. A simple demo with random points\n",
    "        1.2. Photo art time!\n",
    "            1.2.1. Color representation\n",
    "            1.2.2. Generate Voronoi diagram overlaying the image\n",
    "            1.2.3. Use input points' RGB to fill their Voronoi cells' colors\n",
    "    2. Delaunay triangulation\n",
    "        2.1. Simple demo with random points\n",
    "        2.2. Photo art time!\n",
    "            2.2.1. Bilinear interpolation for coloring \n",
    "            2.2.2. Use triangle vertex RGB and bilinear interpolation to fill the triangle cells colors\n",
    "    3. Geometry meshing\n",
    "        3.1. Signed Distance Function (SDF): shape representation\n",
    "        3.2. Centroidal Voronoi Diagram (CVD) and Lloyd's Algorithm\n",
    "            3.2.1. Centroidal Voronoi Diagram\n",
    "            3.2.2. Lloyd's algorithm\n",
    "        3.3. Meshing algorithm\n",
    "            3.3.1. Trim points inside shape\n",
    "            3.3.2. Project outside points back to geometry boundary\n",
    "            3.3.3. Lloyd's iterations and projection of outside points\n",
    "            3.3.4. Delaunay triangulation and coloring\n",
    "    4. Free creating! Be creative :)"
   ]
  },
  {
   "cell_type": "code",
   "execution_count": null,
   "id": "4a395c00",
   "metadata": {},
   "outputs": [],
   "source": [
    "#Import relevant libraries\n",
    "import numpy as np\n",
    "import matplotlib.pyplot as plt\n",
    "from scipy.spatial import Voronoi, voronoi_plot_2d\n",
    "from scipy.spatial import Delaunay\n",
    "import matplotlib.tri as mtri\n",
    "import matplotlib.colors as clr\n",
    "import requests\n",
    "from io import BytesIO\n",
    "from PIL import Image"
   ]
  },
  {
   "cell_type": "markdown",
   "id": "bcaff450",
   "metadata": {},
   "source": [
    "# 1. Voronoi diagram"
   ]
  },
  {
   "attachments": {},
   "cell_type": "markdown",
   "id": "5e9f8f81",
   "metadata": {},
   "source": [
    "![Voro_concept.PNG](https://raw.githubusercontent.com/yue-sun/generative-art/master/02_tuesday/figs/Voro_concept.PNG)"
   ]
  },
  {
   "attachments": {},
   "cell_type": "markdown",
   "id": "7c9dba5c",
   "metadata": {},
   "source": [
    "![Voro_app_1.PNG](https://raw.githubusercontent.com/yue-sun/generative-art/master/02_tuesday/figs/Voro_app_1.PNG)"
   ]
  },
  {
   "attachments": {},
   "cell_type": "markdown",
   "id": "0cf6204b",
   "metadata": {},
   "source": [
    "![Voro_app_2.png](https://raw.githubusercontent.com/yue-sun/generative-art/master/02_tuesday/figs/Voro_app_2.PNG)"
   ]
  },
  {
   "cell_type": "markdown",
   "id": "1d9f2d2f",
   "metadata": {},
   "source": [
    "## 1.1. A simple demo with random points "
   ]
  },
  {
   "cell_type": "markdown",
   "id": "09d672fd",
   "metadata": {},
   "source": [
    "Set random seed, generate random points, and compute the Voronoi diagram of the points."
   ]
  },
  {
   "cell_type": "code",
   "execution_count": null,
   "id": "ec9ba885",
   "metadata": {},
   "outputs": [],
   "source": [
    "#https://numpy.org/doc/stable/reference/random/generator.html\n",
    "seed=10\n",
    "rng = np.random.default_rng(seed) #random number generator\n",
    "points = rng.integers(low=0,high=100,size=(10,2),endpoint=True) \n",
    "#print(points)"
   ]
  },
  {
   "cell_type": "code",
   "execution_count": null,
   "id": "fda1611b",
   "metadata": {},
   "outputs": [],
   "source": [
    "#https://docs.scipy.org/doc/scipy/reference/generated/scipy.spatial.Voronoi.html\n",
    "vor = Voronoi(points)"
   ]
  },
  {
   "cell_type": "code",
   "execution_count": null,
   "id": "0e816bce",
   "metadata": {},
   "outputs": [],
   "source": [
    "#https://docs.scipy.org/doc/scipy/reference/generated/scipy.spatial.voronoi_plot_2d.html\n",
    "fig = plt.figure(figsize=(10,10))\n",
    "ax = fig.add_subplot(111)\n",
    "voronoi_plot_2d(vor,ax)\n",
    "plt.show()"
   ]
  },
  {
   "cell_type": "markdown",
   "id": "f85f7091",
   "metadata": {},
   "source": [
    "Get different information of the Voronoi cells."
   ]
  },
  {
   "cell_type": "code",
   "execution_count": null,
   "id": "a21b2ba5",
   "metadata": {},
   "outputs": [],
   "source": [
    "#Input points/generators\n",
    "vor.points"
   ]
  },
  {
   "cell_type": "code",
   "execution_count": null,
   "id": "bb6335e1",
   "metadata": {},
   "outputs": [],
   "source": [
    "#Voronoi cell vertices\n",
    "vor.vertices"
   ]
  },
  {
   "cell_type": "code",
   "execution_count": null,
   "id": "b4b0185b",
   "metadata": {},
   "outputs": [],
   "source": [
    "#Input points neighbor pairs (ID): \n",
    "#Between each pair there lies a Voronoi cell boundary\n",
    "vor.ridge_points"
   ]
  },
  {
   "cell_type": "code",
   "execution_count": null,
   "id": "5db5f65a",
   "metadata": {},
   "outputs": [],
   "source": [
    "#Voronoi vertices (ID) forming each Voronoi edge\n",
    "vor.ridge_vertices"
   ]
  },
  {
   "cell_type": "code",
   "execution_count": null,
   "id": "ca0c4531",
   "metadata": {},
   "outputs": [],
   "source": [
    "#Indices of the Voronoi vertices forming each Voronoi region. \n",
    "#-1 indicates vertex outside the Voronoi diagram.\n",
    "vor.regions"
   ]
  },
  {
   "cell_type": "code",
   "execution_count": null,
   "id": "67357a13",
   "metadata": {},
   "outputs": [],
   "source": [
    "#Index of the Voronoi region for each input point.\n",
    "#For example, here, point 0 is associated with the 2nd Voronoi region, [2,-1]\n",
    "vor.point_region"
   ]
  },
  {
   "cell_type": "markdown",
   "id": "d3526cb5",
   "metadata": {},
   "source": [
    "As we can see, it is very useful to assign ID to points, and refer to points with their IDs. \n",
    "\n",
    "The IDs are also very useful in linking related information.\n",
    "\n",
    "It is also very common to use dummy values, like \"-1\", to represent special case values, that we may ignore sometimes. \n",
    "\n",
    "We can use the above information as needed later."
   ]
  },
  {
   "cell_type": "markdown",
   "id": "f412fc69",
   "metadata": {},
   "source": [
    "## 1.2. Photo art time!"
   ]
  },
  {
   "cell_type": "markdown",
   "id": "a99d5362",
   "metadata": {},
   "source": [
    "Import an image and view"
   ]
  },
  {
   "cell_type": "code",
   "execution_count": null,
   "id": "25fed6b7",
   "metadata": {},
   "outputs": [],
   "source": [
    "url = 'https://raw.githubusercontent.com/yue-sun/generative-art/main/02_tuesday/puppy.jpg'\n",
    "page = requests.get(url)\n",
    "img_file=Image.open(BytesIO(page.content))\n",
    "img = np.asarray(img_file)\n",
    "img=np.flip(img,axis=0)"
   ]
  },
  {
   "cell_type": "code",
   "execution_count": null,
   "id": "2d9bf62f",
   "metadata": {},
   "outputs": [],
   "source": [
    "dim_x=len(img[0,:])\n",
    "dim_y=len(img[:,0])\n",
    "print(\"dim_x, {}; dim_y, {}\".format(dim_x,dim_y))"
   ]
  },
  {
   "cell_type": "code",
   "execution_count": null,
   "id": "b2bf530e",
   "metadata": {},
   "outputs": [],
   "source": [
    "plt.figure(figsize=(10,int(10*dim_y/dim_x)))\n",
    "plt.imshow(img,origin=\"lower\")"
   ]
  },
  {
   "cell_type": "markdown",
   "id": "86c2a9f1",
   "metadata": {},
   "source": [
    "## 1.2.1. Color representation"
   ]
  },
  {
   "cell_type": "markdown",
   "id": "a966a437",
   "metadata": {},
   "source": [
    "Let's look at the img array to understand how color at each pixel point is represented."
   ]
  },
  {
   "cell_type": "code",
   "execution_count": null,
   "id": "c6544cec",
   "metadata": {},
   "outputs": [],
   "source": [
    "print(img[0,0:3]) #first row, first three pixels"
   ]
  },
  {
   "cell_type": "markdown",
   "id": "11571343",
   "metadata": {},
   "source": [
    "The color at each pixel is represented by three interger numbers, in the R(ed), G(reen), B(lue) channels, in the range of [0,255].\n",
    "You can look up colors here too: https://www.rapidtables.com/web/color/RGB_Color.html"
   ]
  },
  {
   "cell_type": "markdown",
   "id": "6b50cc3f",
   "metadata": {},
   "source": [
    "In python plotting, we can also specify the color of plotting, by converting the color from [0,255] to floating number [0,1]. You can look up colors here: https://www.tug.org/pracjourn/2007-4/walden/color.pdf"
   ]
  },
  {
   "cell_type": "markdown",
   "id": "a6c4a3f7",
   "metadata": {},
   "source": [
    "For example, if we want to plot points with the color [106,162,221], we convert it by dividing all numbers by 255. And use a \"tuple\" of float values (r,g,b) to represent the colors."
   ]
  },
  {
   "cell_type": "code",
   "execution_count": null,
   "id": "d9950803",
   "metadata": {},
   "outputs": [],
   "source": [
    "r=106/255\n",
    "g=162/255\n",
    "b=221/255\n",
    "plt.plot(points[:,0],points[:,1],\"*\",color=(r,g,b))"
   ]
  },
  {
   "cell_type": "markdown",
   "id": "1e7d99fc",
   "metadata": {},
   "source": [
    "## 1.2.2. Generate Voronoi diagram overlaying the image"
   ]
  },
  {
   "cell_type": "markdown",
   "id": "a2cce173",
   "metadata": {},
   "source": [
    "First, let's generate a new set of points, that covers the image region. I use a \"eps\" here to generate points in a range slightly larger than the image dimensions range."
   ]
  },
  {
   "cell_type": "code",
   "execution_count": null,
   "id": "c9186d05",
   "metadata": {},
   "outputs": [],
   "source": [
    "points_img = [] \n",
    "eps=50\n",
    "Np=5000\n",
    "for i in range(Np):\n",
    "    points_img.append([rng.integers(low=-eps,high=dim_x+eps,endpoint=True), \\\n",
    "                   rng.integers(low=-eps,high=dim_y+eps,endpoint=True)])\n",
    "points_img = np.array(points_img)"
   ]
  },
  {
   "cell_type": "code",
   "execution_count": null,
   "id": "8253726a",
   "metadata": {},
   "outputs": [],
   "source": [
    "vor_img = Voronoi(points_img)"
   ]
  },
  {
   "cell_type": "markdown",
   "id": "374a6563",
   "metadata": {},
   "source": [
    "View the Voronoi diagram overlaying the image."
   ]
  },
  {
   "cell_type": "code",
   "execution_count": null,
   "id": "bbc58d88",
   "metadata": {},
   "outputs": [],
   "source": [
    "fig = plt.figure(figsize=(20,int(20*dim_y/dim_x)))\n",
    "ax = fig.add_subplot(111)\n",
    "ax.imshow(img)\n",
    "voronoi_plot_2d(vor_img,ax=ax)\n",
    "plt.show()"
   ]
  },
  {
   "cell_type": "markdown",
   "id": "9a051758",
   "metadata": {},
   "source": [
    "## 1.2.3. Use input points' RGB to fill their Voronoi cells' colors"
   ]
  },
  {
   "cell_type": "markdown",
   "id": "be57b401",
   "metadata": {},
   "source": [
    "Now, we may create a mosaic version of the image by simply reading in the RGB value of the image at each input/generator point of the Voronoi diagram, and assign to the Voronoi cells the associated colors. "
   ]
  },
  {
   "cell_type": "code",
   "execution_count": null,
   "id": "8ddaa2da",
   "metadata": {
    "scrolled": true
   },
   "outputs": [],
   "source": [
    "# plot Voronoi diagram, and fill finite regions with color mapped from speed value\n",
    "\n",
    "# set figure size\n",
    "fig = plt.figure(figsize=(20,int(20*dim_y/dim_x)))\n",
    "ax = fig.add_subplot(111)\n",
    "\n",
    "# plot Voronoi diagram\n",
    "voronoi_plot_2d(vor_img, ax=ax,show_points=False, show_vertices=False, line_width=0.1, line_alpha=0.5)\n",
    "\n",
    "# for each input/generator point, fill color of its Voronoi cell\n",
    "for pi in range(0,Np):\n",
    "    \n",
    "    # generator point coordinate [px,py]\n",
    "    px=points_img[pi,0]\n",
    "    py=points_img[pi,1]\n",
    "    \n",
    "    # if the point is inside the image range\n",
    "    if px>=0 and px<dim_x and py>=0 and py<dim_y:\n",
    "        \n",
    "        #get the corresponding RGB value, convert to float tuple\n",
    "        rgb_img= tuple(img[py,px]/255)\n",
    "        \n",
    "        #get the Voronoi region associated with the input/generator point\n",
    "        ri=vor_img.point_region[pi]\n",
    "        \n",
    "        #if the Voronoi region is valid and finite, \n",
    "        #fill the polygon defined by the Voronoi cell with the color\n",
    "        if ri!=-1:\n",
    "            region = vor_img.regions[ri]\n",
    "            if not -1 in region:\n",
    "                polygon = [vor_img.vertices[i] for i in region]\n",
    "                ax.fill(*zip(*polygon), color=rgb_img)\n",
    "\n",
    "#hide plot axis\n",
    "ax.axis('off')\n",
    "#set plotting x range and y range\n",
    "plt.xlim((0,dim_x))\n",
    "plt.ylim((0,dim_y))\n",
    "plt.show()"
   ]
  },
  {
   "cell_type": "markdown",
   "id": "f621f148",
   "metadata": {},
   "source": [
    "# 2. Delaunay triangulation"
   ]
  },
  {
   "attachments": {},
   "cell_type": "markdown",
   "id": "a9892175",
   "metadata": {},
   "source": [
    "![Delaunay_concept.PNG](https://raw.githubusercontent.com/yue-sun/generative-art/master/02_tuesday/figs/Delaunay_concept.PNG)"
   ]
  },
  {
   "attachments": {},
   "cell_type": "markdown",
   "id": "d4302368",
   "metadata": {},
   "source": [
    "![Delaunay_app_1.PNG](https://raw.githubusercontent.com/yue-sun/generative-art/master/02_tuesday/figs/Delaunay_app_1.PNG)"
   ]
  },
  {
   "cell_type": "markdown",
   "id": "3ecced19",
   "metadata": {},
   "source": [
    "## 2.1. Simple demo with random points"
   ]
  },
  {
   "cell_type": "markdown",
   "id": "bae6e38d",
   "metadata": {},
   "source": [
    "Overlay Delaunay triangulation with Voronoi diagram:"
   ]
  },
  {
   "cell_type": "markdown",
   "id": "081a8a17",
   "metadata": {},
   "source": [
    "Delaunay triangulation: https://docs.scipy.org/doc/scipy/reference/generated/scipy.spatial.Delaunay.html\n",
    "\n",
    "To draw the triangulation, we can use plt.triplot: https://matplotlib.org/stable/api/_as_gen/matplotlib.pyplot.triplot.html"
   ]
  },
  {
   "cell_type": "code",
   "execution_count": null,
   "id": "bc0e55d5",
   "metadata": {},
   "outputs": [],
   "source": [
    "seed=10\n",
    "rng = np.random.default_rng(seed) #random number generator\n",
    "points = rng.integers(low=0,high=100,size=(10,2),endpoint=True) "
   ]
  },
  {
   "cell_type": "code",
   "execution_count": null,
   "id": "88fb973a",
   "metadata": {},
   "outputs": [],
   "source": [
    "vor = Voronoi(points)\n",
    "tri = Delaunay(points)"
   ]
  },
  {
   "cell_type": "code",
   "execution_count": null,
   "id": "75ebe473",
   "metadata": {},
   "outputs": [],
   "source": [
    "fig = plt.figure(figsize=(10,10))\n",
    "ax = fig.add_subplot(111)\n",
    "\n",
    "#plot the Voronoi diagram\n",
    "voronoi_plot_2d(vor,ax)\n",
    "\n",
    "#plot the Delaunay triangulation\n",
    "plt.triplot(points[:,0], points[:,1], tri.simplices, \"-o\")\n",
    "\n",
    "plt.show()\n"
   ]
  },
  {
   "cell_type": "markdown",
   "id": "277148b6",
   "metadata": {},
   "source": [
    "Get different information of the triangle elements:"
   ]
  },
  {
   "cell_type": "code",
   "execution_count": null,
   "id": "028723c8",
   "metadata": {},
   "outputs": [],
   "source": [
    "#Point IDs forming each triangle\n",
    "tri.simplices"
   ]
  },
  {
   "cell_type": "code",
   "execution_count": null,
   "id": "520fc80d",
   "metadata": {},
   "outputs": [],
   "source": [
    "#Point coordinates forming each triangle\n",
    "points[tri.simplices]"
   ]
  },
  {
   "cell_type": "markdown",
   "id": "2b424752",
   "metadata": {},
   "source": [
    "## 2.2. Photo art time!"
   ]
  },
  {
   "cell_type": "markdown",
   "id": "13fa9695",
   "metadata": {},
   "source": [
    "Similar to before, first, we overlay Delaunay triangulation on the image. "
   ]
  },
  {
   "cell_type": "code",
   "execution_count": null,
   "id": "4f669bfc",
   "metadata": {},
   "outputs": [],
   "source": [
    "#generate random points based on the image dimensions\n",
    "points_img = [] \n",
    "eps=50\n",
    "Np=5000\n",
    "for i in range(Np):\n",
    "    points_img.append([rng.integers(low=-eps,high=dim_x+eps,endpoint=True), \\\n",
    "                   rng.integers(low=-eps,high=dim_y+eps,endpoint=True)])\n",
    "points_img = np.array(points_img)"
   ]
  },
  {
   "cell_type": "code",
   "execution_count": null,
   "id": "a9a9d204",
   "metadata": {},
   "outputs": [],
   "source": [
    "#Delaunay triangulation\n",
    "tria_img = Delaunay(points_img)"
   ]
  },
  {
   "cell_type": "code",
   "execution_count": null,
   "id": "d0e230a5",
   "metadata": {},
   "outputs": [],
   "source": [
    "#View the triangulation overlaying the image\n",
    "fig = plt.figure(figsize=(20,int(20*dim_y/dim_x)))\n",
    "ax = fig.add_subplot(111)\n",
    "ax.imshow(img,origin=\"lower\")\n",
    "plt.triplot(points_img[:,0], points_img[:,1], tria_img.simplices,\"-o\")\n",
    "plt.show()"
   ]
  },
  {
   "cell_type": "markdown",
   "id": "6bbe1df0",
   "metadata": {},
   "source": [
    "## 2.2.1. Bilinear interpolation for coloring "
   ]
  },
  {
   "cell_type": "markdown",
   "id": "6ef48a4d",
   "metadata": {},
   "source": [
    "We can try a different coloring scheme for each triangle cells. \n",
    "\n",
    "For each triangle, we can read three RGB values at its three vertices. Then, we may use bilinear triangulation to fill the color inside the triangle cell. Each vertex of the triangle will have the exact RGB color they are assigned. For the area in between, the color is defined linearly, by the linear plane defined by the three points' values.\n",
    "\n",
    "The coloring we get from this scheme is continuous, but not differentiable. "
   ]
  },
  {
   "attachments": {},
   "cell_type": "markdown",
   "id": "822990f8",
   "metadata": {},
   "source": [
    "![bilinear_tria.PNG](https://raw.githubusercontent.com/yue-sun/generative-art/master/02_tuesday/figs/bilinear_tria.PNG)"
   ]
  },
  {
   "cell_type": "markdown",
   "id": "9cc6f24e",
   "metadata": {},
   "source": [
    "Recommended reading: https://en.wikipedia.org/wiki/Bilinear_interpolation"
   ]
  },
  {
   "cell_type": "markdown",
   "id": "68f85001",
   "metadata": {},
   "source": [
    "Here, we can simply use the functions provided in Python to do the plotting with bilinear interpolation of colors."
   ]
  },
  {
   "cell_type": "markdown",
   "id": "ec8e7cdf",
   "metadata": {},
   "source": [
    "## 2.2.2. Use triangle vertex RGB and bilinear interpolation to fill the triangle cells colors"
   ]
  },
  {
   "cell_type": "markdown",
   "id": "9d6b9130",
   "metadata": {},
   "source": [
    "First, let's trim the number of triangles, and keep only triangles with all three vertices inside the image. That is, keep only triangles with color values defined on all three vertices. "
   ]
  },
  {
   "cell_type": "code",
   "execution_count": null,
   "id": "992f9360",
   "metadata": {},
   "outputs": [],
   "source": [
    "#original triangle count\n",
    "tria_ct=len(tria_img.simplices)\n",
    "tria_ct"
   ]
  },
  {
   "cell_type": "code",
   "execution_count": null,
   "id": "0065b1b5",
   "metadata": {},
   "outputs": [],
   "source": [
    "#trimmed triangles \n",
    "tria_simplices_trim=[]\n",
    "\n",
    "#loop through each original triangle\n",
    "for ti in range(0,tria_ct):\n",
    "    \n",
    "    #get the three vertex coordinates\n",
    "    v1id=tria_img.simplices[ti][0]\n",
    "    v2id=tria_img.simplices[ti][1]\n",
    "    v3id=tria_img.simplices[ti][2]\n",
    "    v1x=points_img[v1id,0]\n",
    "    v2x=points_img[v2id,0]\n",
    "    v3x=points_img[v3id,0]\n",
    "    v1y=points_img[v1id,1]\n",
    "    v2y=points_img[v2id,1]\n",
    "    v3y=points_img[v3id,1]\n",
    "    \n",
    "    #check all three vertices' coordinates are inside image\n",
    "    if v1x>=0 and v1x<dim_x and v1y>=0 and v1y<dim_y:\n",
    "        if v2x>=0 and v2x<dim_x and v2y>=0 and v2y<dim_y:\n",
    "            if v3x>=0 and v3x<dim_x and v3y>=0 and v3y<dim_y:\n",
    "                \n",
    "                #store the valid triangle\n",
    "                tria_simplices_trim.append(tria_img.simplices[ti])\n",
    "\n",
    "tria_simplices_trim=np.array(tria_simplices_trim)"
   ]
  },
  {
   "cell_type": "code",
   "execution_count": null,
   "id": "fcd57779",
   "metadata": {},
   "outputs": [],
   "source": [
    "#trimmed triangle count\n",
    "tria_ct_trim=len(tria_simplices_trim)\n",
    "tria_ct_trim"
   ]
  },
  {
   "cell_type": "markdown",
   "id": "2ffccd96",
   "metadata": {},
   "source": [
    "Next, we can loop through each point, and obtain the point's associated RGB value from the image, if the point lies inside the iamge:"
   ]
  },
  {
   "cell_type": "code",
   "execution_count": null,
   "id": "3e4fb3c7",
   "metadata": {},
   "outputs": [],
   "source": [
    "ver_rgb = np.zeros((Np,3))\n",
    "for pi in range(0,Np):\n",
    "    # generator point coordinate [px,py]\n",
    "    px=points_img[pi,0]\n",
    "    py=points_img[pi,1]\n",
    "    \n",
    "    # if the point is inside the image range\n",
    "    if px>=0 and px<dim_x and py>=0 and py<dim_y:\n",
    "        \n",
    "        #get the corresponding RGB value, convert to float tuple\n",
    "        ver_rgb[pi,:]= img[py,px]/255"
   ]
  },
  {
   "cell_type": "code",
   "execution_count": null,
   "id": "2da8346e",
   "metadata": {},
   "outputs": [],
   "source": [
    "#take a look at the RGB associated with each point: \n",
    "ver_rgb"
   ]
  },
  {
   "cell_type": "markdown",
   "id": "faf98775",
   "metadata": {},
   "source": [
    "To use bilinear interpolation for the triangle element coloring, we can use plt.tripcolor(...) with the option \"shading=\"gouraud\"\": https://matplotlib.org/stable/api/_as_gen/matplotlib.pyplot.tripcolor.html\n",
    "\n",
    "There is a complication here: the function does not allow explicit input of RGB color. But we can work around the issue by defining a colormap to pass in ourselves. The colormap basically creates a linear segmented look up table for each vertex's RGB color."
   ]
  },
  {
   "cell_type": "code",
   "execution_count": null,
   "id": "41145006",
   "metadata": {},
   "outputs": [],
   "source": [
    "#create our own color map for use in tripcolor(...) plotting later\n",
    "z = np.arange(len(ver_rgb))\n",
    "cmap = clr.LinearSegmentedColormap.from_list(\n",
    "    \"mymap\", ver_rgb, N=len(ver_rgb)\n",
    ")"
   ]
  },
  {
   "cell_type": "code",
   "execution_count": null,
   "id": "da7007b8",
   "metadata": {},
   "outputs": [],
   "source": [
    "#create a triangulation object for use in tripcolor(...) plotting later\n",
    "triang_obj = mtri.Triangulation(points_img[:,0], points_img[:,1], tria_simplices_trim)"
   ]
  },
  {
   "cell_type": "code",
   "execution_count": null,
   "id": "ed4fab7d",
   "metadata": {},
   "outputs": [],
   "source": [
    "# plot Delaunay triangulation, and fill triangles inside the image with bilinear color interpolation\n",
    "\n",
    "# set figure size\n",
    "fig = plt.figure(figsize=(20,int(20*dim_y/dim_x)))\n",
    "ax = fig.add_subplot(111)\n",
    "\n",
    "# plot Delaunay triangulation\n",
    "ax.triplot(points_img[:,0], points_img[:,1], tria_simplices_trim,linewidth=0.1,alpha=0.5,color=\"black\")\n",
    "\n",
    "#bilinear interpolation coloring\n",
    "ax.tripcolor(triang_obj, z, shading=\"gouraud\", cmap=cmap)\n",
    "\n",
    "#hide plot axis\n",
    "ax.axis('off')\n",
    "#set plotting x range and y range\n",
    "plt.xlim((0,dim_x))\n",
    "plt.ylim((0,dim_y))\n",
    "plt.show()"
   ]
  },
  {
   "cell_type": "markdown",
   "id": "52dca69f",
   "metadata": {},
   "source": [
    "# 3. Geometry meshing"
   ]
  },
  {
   "cell_type": "markdown",
   "id": "a13c44a4",
   "metadata": {},
   "source": [
    "We can try some simple geometry meshing. As a simple example, maybe we can try:\n",
    "- doing the delaunay triangulation restricted by a circular shape;\n",
    "- AND the triangle mesh should be \"nicely spaced\" and \"nicely shaped\", rather than \"randomly distributed\"."
   ]
  },
  {
   "cell_type": "markdown",
   "id": "0011a580",
   "metadata": {},
   "source": [
    "## 3.1. Signed Distance Function (SDF): shape representation"
   ]
  },
  {
   "attachments": {},
   "cell_type": "markdown",
   "id": "7f2f8b5d",
   "metadata": {},
   "source": [
    "![sdf_illustration.PNG](https://raw.githubusercontent.com/yue-sun/generative-art/master/02_tuesday/figs/sdf_illustration.PNG)"
   ]
  },
  {
   "cell_type": "code",
   "execution_count": null,
   "id": "a639935e",
   "metadata": {},
   "outputs": [],
   "source": [
    "#signed distance function for point (x,y) of a circle centered at (x0,y0) with radius r.\n",
    "def sdf_circle(x,y,x0,y0,r):\n",
    "    return np.sqrt((x-x0)**2+(y-y0)**2)-r"
   ]
  },
  {
   "cell_type": "code",
   "execution_count": null,
   "id": "743304fd",
   "metadata": {},
   "outputs": [],
   "source": [
    "#create arrays of X and Y: 50 evenly spaced values in between 0 and 2\n",
    "X=np.linspace(0,2,50)\n",
    "Y=np.linspace(0,2,50)\n",
    "#create a 2D array to store the SDF value correspond to each (x,y) value\n",
    "sdf_array=np.zeros((50,50))\n",
    "#compute the SDF array values\n",
    "for i in range(0,50):\n",
    "    for j in range(0,50):\n",
    "        x=X[i]\n",
    "        y=Y[j]\n",
    "        #SDF of (x,y) for a circle centered at (1,1) with radius 0.5\n",
    "        sdf_array[j,i]=sdf_circle(x,y,1,1,0.5)"
   ]
  },
  {
   "cell_type": "code",
   "execution_count": null,
   "id": "d9cb641b",
   "metadata": {},
   "outputs": [],
   "source": [
    "#visualize the SDF field\n",
    "plt.figure(figsize=(10,8))\n",
    "plt.pcolor(X,Y,sdf_array,cmap=\"seismic\")\n",
    "plt.clim(-0.8,0.8)\n",
    "plt.colorbar()"
   ]
  },
  {
   "cell_type": "markdown",
   "id": "bed8203d",
   "metadata": {},
   "source": [
    "## 3.2. Centroidal Voronoi Diagram (CVD) and Lloyd's Algorithm"
   ]
  },
  {
   "cell_type": "markdown",
   "id": "c7156f03",
   "metadata": {},
   "source": [
    "## 3.2.1. Centroidal Voronoi Diagram"
   ]
  },
  {
   "cell_type": "markdown",
   "id": "cc69f73e",
   "metadata": {},
   "source": [
    "Reference: Du, Q., Faber, V., and Gunzburger, M. 1999. Centroidal Voronoi tessellations: Applications and algorithms. SIAM Review 41, 4, 637--676.\n",
    "\n",
    "https://people.sc.fsu.edu/~jburkardt/classes/urop_2016/du_faber_gunzburger.pdf"
   ]
  },
  {
   "cell_type": "markdown",
   "id": "4713ff01",
   "metadata": {},
   "source": [
    "For simplicity purpose, we assume a uniform density function field in what follows."
   ]
  },
  {
   "attachments": {},
   "cell_type": "markdown",
   "id": "6d32cb2b",
   "metadata": {},
   "source": [
    "![CVD_concept.PNG](https://raw.githubusercontent.com/yue-sun/generative-art/master/02_tuesday/figs/CVD_concept.PNG)"
   ]
  },
  {
   "attachments": {},
   "cell_type": "markdown",
   "id": "f04416dc",
   "metadata": {},
   "source": [
    "![CVD_app_2.PNG](https://raw.githubusercontent.com/yue-sun/generative-art/master/02_tuesday/figs/CVD_app_2.PNG)"
   ]
  },
  {
   "attachments": {},
   "cell_type": "markdown",
   "id": "ede0189f",
   "metadata": {},
   "source": [
    "![CVD_app_1.PNG](https://raw.githubusercontent.com/yue-sun/generative-art/master/02_tuesday/figs/CVD_app_1.PNG)"
   ]
  },
  {
   "cell_type": "markdown",
   "id": "259ed706",
   "metadata": {},
   "source": [
    "## 3.2.2. Lloyd's algorithm"
   ]
  },
  {
   "attachments": {},
   "cell_type": "markdown",
   "id": "92982eed",
   "metadata": {},
   "source": [
    "![lloyds_alg.PNG](https://raw.githubusercontent.com/yue-sun/generative-art/master/02_tuesday/figs/lloyds_alg.PNG)"
   ]
  },
  {
   "cell_type": "markdown",
   "id": "19456672",
   "metadata": {},
   "source": [
    "To implement the above algorithm, we first need to create a bounded Voronoi diagram, where the Voronoi diagram has a rectangular bound (ax,bx,ay,by). This can be achieved by adding \"mirrored points\" of the original boundary points in the four directions (up, down, left, right). Then, the original points' Voronoi diagram will be bounded by the rectangular box."
   ]
  },
  {
   "cell_type": "markdown",
   "id": "eb2a53ad",
   "metadata": {},
   "source": [
    "#### The following code taken from the previous MIT version of the course, https://gvarnavides.com/generative-art-workshop-website/docs/01.25-Tuesday/space-filling-curves. Nice code!!! XD"
   ]
  },
  {
   "cell_type": "code",
   "execution_count": null,
   "id": "0f1dee5c",
   "metadata": {},
   "outputs": [],
   "source": [
    "\n",
    "# Compute a Voronoi diagram with rectangular bounds.\n",
    "def bounded_voronoi(pts, bounds):\n",
    "    # create the initial Voronoi diagram.\n",
    "    vor = Voronoi(pts, incremental=True)\n",
    "\n",
    "    # find vertices that lie outside the bounded domain, and store their index.\n",
    "    # Also include -1, which is scipy's flag for a vertex outside the Voronoi diagram.\n",
    "    out_vert_ids = [-1]+[i for i,v in enumerate(vor.vertices) if not in_bounds(v, bounds)]\n",
    "\n",
    "    # identify which points have cell vertices outside the domain, and store their index.\n",
    "    bound_ids = [i for i,r in enumerate(vor.point_region)\n",
    "                 if any(v in out_vert_ids for v in vor.regions[r])]\n",
    "\n",
    "    # mirror the boundary points and add them to the diagram. This makes the cells of\n",
    "    # all our original points bounded in the rectangular domain.\n",
    "    pts_add = mirror_points(pts[bound_ids,:], bounds)\n",
    "    vor.add_points(pts_add)\n",
    "    return vor\n",
    "\n",
    "def mirror_points(pts, bounds):\n",
    "    # inspired by: https://stackoverflow.com/questions/28665491/getting-a-bounded-polygon\n",
    "    #-coordinates-from-voronoi-cells.\n",
    "    # mirror the points over the boundaries of the bounding box to obtain bounded\n",
    "    # polygons for all voronoi cells of interest.\n",
    "    xmin, xmax, ymin, ymax = bounds\n",
    "    xmid = 0.5*(xmin+xmax)\n",
    "    ymid = 0.5*(ymin+ymax)\n",
    "    pts_n = np.copy(pts[pts[:,1]>ymid]); pts_s = np.copy(pts[pts[:,1]<ymid])\n",
    "    pts_e = np.copy(pts[pts[:,0]>xmid]); pts_w = np.copy(pts[pts[:,0]<xmid])\n",
    "    pts_n[:,1] = ymax+(ymax-pts_n[:,1])\n",
    "    pts_s[:,1] = ymin-(pts_s[:,1]-ymin)\n",
    "    pts_e[:,0] = xmax+(xmax-pts_e[:,0])\n",
    "    pts_w[:,0] = xmin-(pts_w[:,0]-xmin)\n",
    "    pts_c = np.vstack([pts_n,pts_s,pts_e,pts_w])\n",
    "    return pts_c\n",
    "\n",
    "def in_bounds(pt, bounds):\n",
    "    xmin, xmax, ymin, ymax = bounds\n",
    "    return (xmin <= pt[0] <= xmax) and (ymin <= pt[1] <= ymax)\n"
   ]
  },
  {
   "cell_type": "markdown",
   "id": "81ae7bfa",
   "metadata": {},
   "source": [
    "Let's visualize what the above does:"
   ]
  },
  {
   "cell_type": "code",
   "execution_count": null,
   "id": "23b14713",
   "metadata": {},
   "outputs": [],
   "source": [
    "seed=10\n",
    "neps=1\n",
    "rng = np.random.default_rng(seed) #random number generator\n",
    "pts=rng.integers(low=0+neps,high=100-neps,size=(10,2),endpoint=True) \n",
    "b_vor=bounded_voronoi(pts,(0,100,0,100))\n",
    "\n",
    "fig = plt.figure(figsize=(10,10))\n",
    "ax = fig.add_subplot(111)\n",
    "voronoi_plot_2d(b_vor,ax)\n",
    "plt.show()"
   ]
  },
  {
   "cell_type": "markdown",
   "id": "c2181f66",
   "metadata": {},
   "source": [
    "The above allows us to compute the centroids related to each original point, since they all have bounded Voronoi cells now."
   ]
  },
  {
   "cell_type": "markdown",
   "id": "0f24b5c8",
   "metadata": {},
   "source": [
    "Next, let's create a function that calculates the centroid for a polygon defined by an array of vertex. And we can implement the Lloyd's algorithm. "
   ]
  },
  {
   "cell_type": "markdown",
   "id": "54d15ce5",
   "metadata": {},
   "source": [
    "#### The following code taken from the previous MIT version of the course, https://gvarnavides.com/generative-art-workshop-website/docs/01.25-Tuesday/space-filling-curves. Nice code!!! XD"
   ]
  },
  {
   "cell_type": "code",
   "execution_count": null,
   "id": "0986450f",
   "metadata": {},
   "outputs": [],
   "source": [
    "#Numba: Numba translates Python functions to optimized machine code at runtime. A simple way to speed up the code.\n",
    "from numba import njit\n",
    "\n",
    "# Converge to a centroidal voronoi diagram.\n",
    "def centroidal_voronoi(pts, bounds, iters=1):\n",
    "    N = len(pts) # the number of points to adjust.\n",
    "    for k in range(iters):\n",
    "        vor = bounded_voronoi(pts, bounds)\n",
    "        \n",
    "        # find the polygons corresponding to the original points' Voronoi cells. Each\n",
    "        # polygon is represented by a list of vertex coordinates, with the last matching\n",
    "        # the first to form a closed loop. To use njit, we will need to unravel the list\n",
    "        # of lists of vertex ids and use a pointer to indicate the start of each new\n",
    "        # polygon's vertex set.\n",
    "        vert_ids = [vor.regions[r]+[vor.regions[r][0]] for r in vor.point_region[:N]]\n",
    "        vert_ptr = np.cumsum(np.array([0]+[len(verts) for verts in vert_ids]))\n",
    "        vert_ids = np.array([v for verts in vert_ids for v in verts])\n",
    "        vert_pos = np.array(vor.vertices)\n",
    "        \n",
    "        # update the current set of points to the centroids of the cells.\n",
    "        pts = get_centroids(vert_ids, vert_ptr, vert_pos)\n",
    "    return pts\n",
    "\n",
    "@njit\n",
    "def centroid(pts):\n",
    "    # compute the centroid of a closed polygon with coordinates given by pts.\n",
    "    # the first and last coordinates should be the same.\n",
    "    area=0; c=np.zeros(2)\n",
    "    for i in range(len(pts)-1):\n",
    "        s = pts[i,0]*pts[i+1,1]-pts[i+1,0]*pts[i,1]\n",
    "        area += s\n",
    "        c+=s*(pts[i]+pts[i+1])\n",
    "    c = np.abs(c)/(3*np.abs(area))\n",
    "    return c\n",
    "\n",
    "@njit\n",
    "def get_centroids(vert_ids, vert_ptr, vert_pos):\n",
    "    N = len(vert_ptr)-1\n",
    "    centroids = np.zeros((N,2))\n",
    "    for i in range(N):\n",
    "        verts = vert_ids[vert_ptr[i]:vert_ptr[i+1]]\n",
    "        pos = vert_pos[verts]\n",
    "        centroids[i] = centroid(pos)\n",
    "    return centroids"
   ]
  },
  {
   "cell_type": "markdown",
   "id": "42534355",
   "metadata": {},
   "source": [
    "Let's use the above code on some random points, and run some iterations of Lloyd's algorithm, and visualize the resulting Voronoi diagram. We can also try the resulting bounded CVT on our image!"
   ]
  },
  {
   "cell_type": "code",
   "execution_count": null,
   "id": "aa31c87d",
   "metadata": {},
   "outputs": [],
   "source": [
    "#Generate Np random points in the image img range.\n",
    "points = [] \n",
    "eps=1\n",
    "Np=5000\n",
    "for i in range(Np):\n",
    "    points.append([rng.integers(low=eps,high=dim_x-eps,endpoint=False), \\\n",
    "                   rng.integers(low=eps,high=dim_y-eps,endpoint=False)])\n",
    "points = np.array(points)\n",
    "#Define the bounds\n",
    "bounds=(0,dim_x,0,dim_y)\n",
    "#Get the set of final points after some iterations of Lloyd's algorithm\n",
    "final_points=centroidal_voronoi(points, bounds, iters=200)\n",
    "#Obtain the Voronoi diagram with the final set of points\n",
    "b_vor_final=bounded_voronoi(final_points,bounds)"
   ]
  },
  {
   "cell_type": "code",
   "execution_count": null,
   "id": "e459c1d8",
   "metadata": {},
   "outputs": [],
   "source": [
    "#Visulize the bounded Voronoi diagram with the image\n",
    "fig = plt.figure(figsize=(20,int(20*dim_y/dim_x)))\n",
    "ax = fig.add_subplot(111)\n",
    "ax.imshow(img)\n",
    "voronoi_plot_2d(b_vor_final,ax=ax)\n",
    "plt.show()"
   ]
  },
  {
   "cell_type": "code",
   "execution_count": null,
   "id": "cb927a21",
   "metadata": {},
   "outputs": [],
   "source": [
    "#Visualize our intereted domain\n",
    "fig = plt.figure(figsize=(20,int(20*dim_y/dim_x)))\n",
    "ax = fig.add_subplot(111)\n",
    "ax.imshow(img)\n",
    "voronoi_plot_2d(b_vor_final,ax)\n",
    "plt.xlim(0,dim_x)\n",
    "plt.ylim(0,dim_y)\n",
    "plt.show()"
   ]
  },
  {
   "cell_type": "code",
   "execution_count": null,
   "id": "ea8dd125",
   "metadata": {},
   "outputs": [],
   "source": [
    "# plot Voronoi diagram, and fill finite regions with color mapped from speed value\n",
    "\n",
    "# set figure size\n",
    "fig = plt.figure(figsize=(10,int(10*dim_y/dim_x)))\n",
    "ax = fig.add_subplot(111)\n",
    "\n",
    "# plot Voronoi diagram\n",
    "voronoi_plot_2d(b_vor_final, ax=ax,show_points=False, show_vertices=False, line_width=0.1, line_alpha=0.5)\n",
    "\n",
    "# for each input/generator point, fill color of its Voronoi cell\n",
    "for pi in range(0,Np):\n",
    "    \n",
    "    # generator point coordinate [px,py]\n",
    "    px=points[pi,0]\n",
    "    py=points[pi,1]\n",
    "    \n",
    "    # if the point is inside the image range\n",
    "    if px>=0 and px<dim_x and py>=0 and py<dim_y:\n",
    "        \n",
    "        #get the corresponding RGB value, convert to float tuple\n",
    "        rgb_img= tuple(img[py,px]/255)\n",
    "        \n",
    "        #get the Voronoi region associated with the input/generator point\n",
    "        ri=b_vor_final.point_region[pi]\n",
    "        \n",
    "        #if the Voronoi region is valid and finite, \n",
    "        #fill the polygon defined by the Voronoi cell with the color\n",
    "        if ri!=-1:\n",
    "            region = b_vor_final.regions[ri]\n",
    "            if not -1 in region:\n",
    "                polygon = [b_vor_final.vertices[i] for i in region]\n",
    "                ax.fill(*zip(*polygon), color=rgb_img)\n",
    "\n",
    "#hide plot axis\n",
    "ax.axis('off')\n",
    "#set plotting x range and y range\n",
    "plt.xlim((0,dim_x))\n",
    "plt.ylim((0,dim_y))\n",
    "plt.show()"
   ]
  },
  {
   "cell_type": "markdown",
   "id": "f359ca58",
   "metadata": {},
   "source": [
    "## 3.3. Meshing algorithm"
   ]
  },
  {
   "cell_type": "markdown",
   "id": "d19486e8",
   "metadata": {},
   "source": [
    "Our goal is to get a nice triangular mesh on a circular shape, and then do the image coloring on it. This can be break down into a few steps: \n",
    "- First, trim the original set of random points, and discard points outside of the circle (sdf>0), keep only points inside/on the circle (sdf<=0).\n",
    "- Then, perform bounded CVT on this trimmed set of points. In each iteration:\n",
    "    - if point moved outside of shape (i.e. centroid outside of shape), project point back onto the shape boundary. \n",
    "- Once we get the final set of points after some iterations of the Lloyd's algorithm, we may get the Delaunay triangulation on the set of points.\n",
    "- Lastly, do the coloring with bilinear interpolation in the triangles."
   ]
  },
  {
   "cell_type": "markdown",
   "id": "3a045b0a",
   "metadata": {},
   "source": [
    "## 3.3.1. Trim points inside shape"
   ]
  },
  {
   "cell_type": "markdown",
   "id": "a4521130",
   "metadata": {},
   "source": [
    "Suppose we want our circle to be centered at (600,450) with radius 400, which should roughly covers the puppy's face."
   ]
  },
  {
   "cell_type": "code",
   "execution_count": null,
   "id": "eab9da71",
   "metadata": {},
   "outputs": [],
   "source": [
    "#sdf related: \n",
    "x0=600\n",
    "y0=450\n",
    "r=400\n",
    "#Generate random points in the image img range.\n",
    "points = [] \n",
    "eps=0\n",
    "Np=5000\n",
    "#h0: charastertistic element lengthscale\n",
    "h0=dim_x/np.sqrt(Np)\n",
    "#Generate points\n",
    "for i in range(Np):\n",
    "    \n",
    "    #Trim points and only keep points with SDF <= 0.\n",
    "    x=rng.integers(low=-eps,high=dim_x+eps,endpoint=False)\n",
    "    y=rng.integers(low=-eps,high=dim_y+eps,endpoint=False)\n",
    "    if sdf_circle(x,y,x0,y0,r)<=0:\n",
    "        points.append([x,y])\n",
    "\n",
    "points = np.array(points)\n",
    "Np=len(points)"
   ]
  },
  {
   "cell_type": "code",
   "execution_count": null,
   "id": "01b1e518",
   "metadata": {},
   "outputs": [],
   "source": [
    "#Visualize the initial set of points\n",
    "plt.figure(figsize=(10,10))\n",
    "plt.plot(points[:,0],points[:,1], \"o\")"
   ]
  },
  {
   "cell_type": "markdown",
   "id": "57e0a2a4",
   "metadata": {},
   "source": [
    "## 3.3.2. Project outside points back to geometry boundary"
   ]
  },
  {
   "cell_type": "markdown",
   "id": "e9b32c0a",
   "metadata": {},
   "source": [
    "For a point lying outside of the geometry domain, its negative gradient direction points to the smallest distance towards the boundary (i.e. perpendicular to the tangent of the closest point on the geometry boundary.)"
   ]
  },
  {
   "attachments": {},
   "cell_type": "markdown",
   "id": "80fe8d17",
   "metadata": {},
   "source": [
    "![projection.PNG](https://raw.githubusercontent.com/yue-sun/generative-art/master/02_tuesday/figs/projection.PNG)"
   ]
  },
  {
   "cell_type": "code",
   "execution_count": null,
   "id": "e0ada696",
   "metadata": {},
   "outputs": [],
   "source": [
    "num_eps=0.1\n",
    "def projection(x,y):\n",
    "    xk=x\n",
    "    yk=y\n",
    "    sdf_old=sdf_circle(x,y,x0,y0,r)\n",
    "    if sdf_old>0:\n",
    "        dgradx=(sdf_circle(x+num_eps,y,x0,y0,r)-sdf_old)/num_eps\n",
    "        dgrady=(sdf_circle(x,y+num_eps,x0,y0,r)-sdf_old)/num_eps\n",
    "        xk=x-sdf_old*dgradx\n",
    "        yk=y-sdf_old*dgrady\n",
    "    return [xk,yk]"
   ]
  },
  {
   "cell_type": "markdown",
   "id": "fd3099da",
   "metadata": {},
   "source": [
    "## 3.3.3. Lloyd's iterations and projection of outside points"
   ]
  },
  {
   "cell_type": "code",
   "execution_count": null,
   "id": "3e221453",
   "metadata": {},
   "outputs": [],
   "source": [
    "#Define the bounds\n",
    "beps=5\n",
    "bounds=(x0-r-eps,x0+r+beps,y0-r-beps,y0+r+beps)"
   ]
  },
  {
   "cell_type": "code",
   "execution_count": null,
   "id": "97270153",
   "metadata": {},
   "outputs": [],
   "source": [
    "#Do Niter iterations of Lloyd's algorithm\n",
    "Niter=200\n",
    "old_pt=np.copy(points)\n",
    "movement_thres=h0\n",
    "\n",
    "#Iterations of Lloyd's algorithm\n",
    "for i in range(Niter):\n",
    "    #new points position, i.e. centroids\n",
    "    new_pt=centroidal_voronoi(old_pt, bounds, iters=1)\n",
    "    \n",
    "    #loop through the set of new points, and if any point is outside of the geometry,\n",
    "    #project it back to the geometry boundary\n",
    "    for pi in range(0,Np):\n",
    "        px=new_pt[pi,0]\n",
    "        py=new_pt[pi,1]\n",
    "        \n",
    "        #project point if it still lies outside of geometry\n",
    "        if sdf_circle(px,py,x0,y0,r)>0:\n",
    "            pt_proj=projection(px,py)\n",
    "            new_pt[pi,0]=pt_proj[0]\n",
    "            new_pt[pi,1]=pt_proj[1]\n",
    "    old_pt=new_pt"
   ]
  },
  {
   "cell_type": "code",
   "execution_count": null,
   "id": "ccf29d4d",
   "metadata": {},
   "outputs": [],
   "source": [
    "plt.figure(figsize=(8,8))\n",
    "plt.plot(old_pt[:,0],old_pt[:,1], \"o\")"
   ]
  },
  {
   "cell_type": "code",
   "execution_count": null,
   "id": "c8a83fd0",
   "metadata": {},
   "outputs": [],
   "source": [
    "#Get the set of final points after some iterations of Lloyd's algorithm\n",
    "final_points=old_pt\n",
    "#Obtain the Voronoi diagram with the final set of points\n",
    "b_vor_final=bounded_voronoi(final_points,bounds)"
   ]
  },
  {
   "cell_type": "code",
   "execution_count": null,
   "id": "ec135934",
   "metadata": {},
   "outputs": [],
   "source": [
    "#Visualize our intereted domain\n",
    "fig = plt.figure(figsize=(20,int(20*dim_y/dim_x)))\n",
    "ax = fig.add_subplot(111)\n",
    "ax.imshow(img)\n",
    "voronoi_plot_2d(b_vor_final,ax)\n",
    "plt.xlim(bounds[0],bounds[1])\n",
    "plt.ylim(bounds[2],bounds[3])\n",
    "plt.show()"
   ]
  },
  {
   "cell_type": "markdown",
   "id": "d9d8b091",
   "metadata": {},
   "source": [
    "## 3.3.4. Delaunay triangulation and coloring"
   ]
  },
  {
   "cell_type": "markdown",
   "id": "2629e9d3",
   "metadata": {},
   "source": [
    "Lastly, as before, obtain the Delaunay triangulation and do the bilinear coloring."
   ]
  },
  {
   "cell_type": "code",
   "execution_count": null,
   "id": "37e5ec72",
   "metadata": {},
   "outputs": [],
   "source": [
    "tria_img = Delaunay(final_points)"
   ]
  },
  {
   "cell_type": "code",
   "execution_count": null,
   "id": "2cd341da",
   "metadata": {},
   "outputs": [],
   "source": [
    "#View the triangulation overlaying the image\n",
    "fig = plt.figure(figsize=(20,int(20*dim_y/dim_x)))\n",
    "ax = fig.add_subplot(111)\n",
    "ax.imshow(img,origin=\"lower\")\n",
    "plt.triplot(final_points[:,0],final_points[:,1], tria_img.simplices,\"-o\")\n",
    "plt.xlim(bounds[0],bounds[1])\n",
    "plt.ylim(bounds[2],bounds[3])\n",
    "plt.show()"
   ]
  },
  {
   "cell_type": "code",
   "execution_count": null,
   "id": "67eb2e0b",
   "metadata": {},
   "outputs": [],
   "source": [
    "ver_rgb = np.zeros((Np,3))\n",
    "for pi in range(0,Np):\n",
    "    # generator point coordinate [px,py]\n",
    "    px=final_points[pi,0]\n",
    "    py=final_points[pi,1]\n",
    "    \n",
    "    # if the point is inside the image range\n",
    "    if px>=0 and px<dim_x and py>=0 and py<dim_y:\n",
    "        \n",
    "        #get the corresponding RGB value, convert to float tuple\n",
    "        ver_rgb[pi,:]= img[int(py),int(px)]/255"
   ]
  },
  {
   "cell_type": "code",
   "execution_count": null,
   "id": "e33050d8",
   "metadata": {},
   "outputs": [],
   "source": [
    "#create our own color map for use in tripcolor(...) plotting later\n",
    "z = np.arange(len(ver_rgb))\n",
    "cmap = clr.LinearSegmentedColormap.from_list(\n",
    "    \"mymap\", ver_rgb, N=len(ver_rgb)\n",
    ")"
   ]
  },
  {
   "cell_type": "code",
   "execution_count": null,
   "id": "a0503a20",
   "metadata": {},
   "outputs": [],
   "source": [
    "#create a triangulation object for use in tripcolor(...) plotting later\n",
    "triang_obj = mtri.Triangulation(final_points[:,0],final_points[:,1], tria_img.simplices)"
   ]
  },
  {
   "cell_type": "code",
   "execution_count": null,
   "id": "57e1cf20",
   "metadata": {},
   "outputs": [],
   "source": [
    "# plot Delaunay triangulation, and fill triangles inside the image with bilinear color interpolation\n",
    "\n",
    "# set figure size\n",
    "fig = plt.figure(figsize=(15,15))\n",
    "ax = fig.add_subplot(111)\n",
    "\n",
    "# plot Delaunay triangulation\n",
    "ax.triplot(final_points[:,0],final_points[:,1],tria_img.simplices,linewidth=0.1,alpha=0.5,color=\"black\")\n",
    "\n",
    "#bilinear interpolation coloring\n",
    "ax.tripcolor(triang_obj, z, shading=\"gouraud\", cmap=cmap)\n",
    "\n",
    "#hide plot axis\n",
    "ax.axis('off')\n",
    "#set plotting x range and y range\n",
    "plt.xlim(bounds[0],bounds[1])\n",
    "plt.ylim(bounds[2],bounds[3])\n",
    "plt.show()"
   ]
  },
  {
   "cell_type": "markdown",
   "id": "2d9e5b95",
   "metadata": {},
   "source": [
    "So cute!"
   ]
  },
  {
   "cell_type": "markdown",
   "id": "d219fb7b",
   "metadata": {},
   "source": [
    "# 4. Free creating!"
   ]
  },
  {
   "cell_type": "markdown",
   "id": "51a46b1b",
   "metadata": {},
   "source": [
    "Some potential variables to consider:\n",
    "- image selection\n",
    "- random seed\n",
    "- number of points\t\n",
    "- SDF shape representation \n",
    "- solid coloring or bilinear coloring\n",
    "- Get creative! Color scaling and creative manipulations of RGB values\n",
    "- Use CVD meshing or not\n",
    "\n",
    "More advanced:\n",
    "\n",
    "- What if more complicated shapes? Shapes combination? Union, Intersection, Difference\n",
    "- Shape with concaveness? Dealing with concaveness: Keep only triangles with centroids inside shape\n",
    "- Meshing with non-uniform density fields\n",
    "- others...\n",
    "- Recommended readings: \n",
    "\n",
    "    https://people.sc.fsu.edu/~jburkardt/classes/urop_2016/du_faber_gunzburger.pdf\n",
    "    \n",
    "    http://persson.berkeley.edu/distmesh/persson04mesh.pdf"
   ]
  },
  {
   "cell_type": "markdown",
   "id": "c97b2fc1",
   "metadata": {},
   "source": [
    "# ~ Thank You ~ #"
   ]
  },
  {
   "cell_type": "markdown",
   "id": "8365b53b",
   "metadata": {},
   "source": [
    "## Gallery "
   ]
  },
  {
   "cell_type": "markdown",
   "id": "0c73bd8d",
   "metadata": {},
   "source": [
    "![cat_voro_cvd.PNG](https://raw.githubusercontent.com/yue-sun/generative-art/master/02_tuesday/figs/cat_voro_cvd.png)"
   ]
  },
  {
   "cell_type": "markdown",
   "id": "6cbd1363",
   "metadata": {},
   "source": [
    "Guess where the following places are?"
   ]
  },
  {
   "cell_type": "markdown",
   "id": "09ab69ac",
   "metadata": {},
   "source": [
    "![blue_hill_voro.PNG](https://raw.githubusercontent.com/yue-sun/generative-art/master/02_tuesday/figs/blue_hill_voro.png)"
   ]
  },
  {
   "cell_type": "markdown",
   "id": "7f867b38",
   "metadata": {},
   "source": [
    "![fuji_voro.PNG](https://raw.githubusercontent.com/yue-sun/generative-art/master/02_tuesday/figs/fuji_voro.png)"
   ]
  },
  {
   "cell_type": "markdown",
   "id": "704ae717",
   "metadata": {},
   "source": [
    "![seoul_tria.PNG](https://raw.githubusercontent.com/yue-sun/generative-art/master/02_tuesday/figs/seoul_tria.png)"
   ]
  },
  {
   "cell_type": "markdown",
   "id": "cdb454d6",
   "metadata": {},
   "source": []
  }
 ],
 "metadata": {
  "kernelspec": {
   "display_name": "Python 3",
   "language": "python",
   "name": "python3"
  },
  "language_info": {
   "codemirror_mode": {
    "name": "ipython",
    "version": 3
   },
   "file_extension": ".py",
   "mimetype": "text/x-python",
   "name": "python",
   "nbconvert_exporter": "python",
   "pygments_lexer": "ipython3",
   "version": "3.8.8"
  },
  "vscode": {
   "interpreter": {
    "hash": "b0fa6594d8f4cbf19f97940f81e996739fb7646882a419484c72d19e05852a7e"
   }
  }
 },
 "nbformat": 4,
 "nbformat_minor": 5
}
