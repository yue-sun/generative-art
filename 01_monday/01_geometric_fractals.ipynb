{
  "nbformat": 4,
  "nbformat_minor": 0,
  "metadata": {
    "colab": {
      "provenance": [],
      "toc_visible": true,
      "include_colab_link": true
    },
    "kernelspec": {
      "name": "python3",
      "display_name": "Python 3"
    }
  },
  "cells": [
    {
      "cell_type": "markdown",
      "metadata": {
        "id": "view-in-github",
        "colab_type": "text"
      },
      "source": [
        "<a href=\"https://colab.research.google.com/github/yue-sun/generative-art/blob/d1_geom_fractals/01_monday/01_geometric_fractals.ipynb\" target=\"_parent\"><img src=\"https://colab.research.google.com/assets/colab-badge.svg\" alt=\"Open In Colab\"/></a>"
      ]
    },
    {
      "cell_type": "markdown",
      "source": [
        "# Geometric Fractals\n",
        "\n",
        "Geometric fractals are formed by repeating a pattern or action at smaller and smaller scales. Fractals can be observed in many fascinating natural examples, from branching river networks, blood vessels, and lightning, to trees, broccoli, and ice crystals! According to Benoit Mandelbrot:\n",
        "\n",
        "> \"Bottomless wonders spring from simple rules, which are repeated without end.\"\n",
        "\n",
        "The repetition of simple rules is the key principle behind generating geometric fractals that we will look at in this session.\n",
        "\n",
        "## Turtle Graphics\n",
        "\n",
        "In order to visualize our mathematical art, we will make use of [ColabTurtle](https://github.com/tolgaatam/ColabTurtle). Let's start by installing the necessary package:"
      ],
      "metadata": {
        "id": "ORmPTJf4wjQV"
      }
    },
    {
      "cell_type": "code",
      "source": [
        "print('installing ColabTurtle...')\n",
        "!pip3 install ColabTurtle > /dev/null\n",
        "print('done!')"
      ],
      "metadata": {
        "id": "HREbRwUjXEnT"
      },
      "execution_count": null,
      "outputs": []
    },
    {
      "cell_type": "markdown",
      "source": [
        "We'll set up our window size, a small palette of colors, and linewidth (which you are welcome to change!) The full list of available colors can be [found here (line 25)](https://github.com/tolgaatam/ColabTurtle/blob/master/ColabTurtle/Turtle.py)."
      ],
      "metadata": {
        "id": "W_c69_Caq8Bm"
      }
    },
    {
      "cell_type": "code",
      "source": [
        "import numpy as np\n",
        "from ColabTurtle.Turtle import *\n",
        "\n",
        "# define a small palette of colors to use\n",
        "palette = {'beige':'linen', 'red':'darksalmon',\n",
        "           'yellow': 'burlywood', 'green':'olivedrab',\n",
        "           'blue':'cadetblue'}\n",
        "\n",
        "W = 600\n",
        "H = 400\n",
        "initializeTurtle(initial_window_size=(W,H))\n",
        "bgcolor(palette['beige']) # background color\n",
        "color(palette['green'])  # turtle color\n",
        "width(3)"
      ],
      "metadata": {
        "id": "ZzuDH9PQci68"
      },
      "execution_count": null,
      "outputs": []
    },
    {
      "cell_type": "markdown",
      "source": [
        "The following are a few basic functions to know when using ColabTurtle:\n",
        "\n",
        "- `clear()` : Clear the screen of all drawings.\n",
        "- `penup()/pendown()` : Lift/lower the pen for drawing.\n",
        "- `forward(units)` : Advance turtle forward by the given number of pixel units. When the pen is down, this draws a line.\n",
        "- `left(degrees)/right(degrees)` : Rotate the turtle's heading left or right by the specified degrees.\n",
        "- `hideturtle()/showturtle()` : Hide or display the turtle icon on the screen.\n",
        "- `speed(value)` : Set the turtle draw speed, an integer on $[1,13]$.\n",
        "- `setx(x)/sety(y)`: Set the x and y position of the turtle (in pixels).\n",
        "- `getx()/gety()`: Returns the x and y position of the turtle.\n",
        "- `setheading(h)/getheading()`: Set or return the heading of the turtle. 0 degrees points due East, 90 degrees points due South.\n",
        "\n",
        "Let's practice a simple drawing:"
      ],
      "metadata": {
        "id": "f-CSu9Ydrrlo"
      }
    },
    {
      "cell_type": "code",
      "source": [
        "# clear the screen\n",
        "clear()\n",
        "\n",
        "# set the speed\n",
        "speed(5)\n",
        "\n",
        "# set position and heading of the turtle with pen up\n",
        "showturtle()\n",
        "penup()\n",
        "L = 200\n",
        "setx(200); sety(100)\n",
        "setheading(0)\n",
        "pendown()\n",
        "\n",
        "# draw a line\n",
        "color(palette['red'])\n",
        "forward(L)\n",
        "\n",
        "# draw another line in a new color\n",
        "right(90)\n",
        "color(palette['yellow'])\n",
        "forward(L)\n",
        "\n",
        "# repeat!\n",
        "right(90)\n",
        "color(palette['green'])\n",
        "forward(L)\n",
        "\n",
        "# repeat!\n",
        "right(90)\n",
        "color(palette['blue'])\n",
        "forward(L)\n",
        "\n",
        "# hide turtle at the end\n",
        "hideturtle()"
      ],
      "metadata": {
        "id": "nxGew70eQWZw"
      },
      "execution_count": null,
      "outputs": []
    },
    {
      "cell_type": "markdown",
      "source": [
        "## Lindenmayer Systems (L-Systems)\n",
        "\n",
        "Lindenmayer systems are a type of \"grammar\", or writing rules, developed in 1968 by botanist Aristid Lindenmayer to model the growth and development of plants. In a nutshell, L-systems are a compact way of representing an iterative geometric structure using symbols. When we attribute a meaning to each letter or symbol, such as whether to draw a line or rotate our heading, we can generate beautiful geometric fractals.\n",
        "\n",
        "L-systems are defined by three components:\n",
        "> 1. An **alphabet**, or set of symbols to use\n",
        "2. An **axiom**, or initiator string of symbols\n",
        "3. A set of **rules** specifying how each symbol in the alphabet evolves in the next generation\n",
        "> \n",
        ">Also, there can be two types of symbols in the alphabet:\n",
        "> >1. **variables**, which are replaced in subsequent generations\n",
        "2. **constants**, which are not replaced\n",
        "\n",
        "Consider the following L-system:\n",
        "1. Alphabet: `F` (variable) `+`, `-` (constants)\n",
        "2. Axiom: `F`\n",
        "3. Rule: `F --> F+F--F+F`\n",
        "\n",
        "What do the first three generations of this L-system look like?\n",
        "\n",
        "- Generation 0: `F` (axiom)\n",
        "- Generation 1: <font color=red>`F+F--F+F`</font>\n",
        "- Generation 2: <font color=orange>`F+F--F+F`</font><font color=red>`+`</font><font color=green>`F+F--F+F`</font><font color=red>`--`</font><font color=blue>`F+F--F+F`</font><font color=red>`+`</font><font color=purple>`F+F--F+F`</font>\n",
        "\n",
        "We can start to see that generating subsequent iterations lends itself to a recursive algorithm. Now let's attribute meaning to each symbol:\n",
        "- `F` : advance forward and draw a line\n",
        "- `+` : turn left 60 degrees\n",
        "- `-` : turn right 60 degrees\n",
        "\n",
        "When interpreted in this way, this fairly simple L-system in fact describes the generation rule for the Koch curve! Let's see this in action:"
      ],
      "metadata": {
        "id": "h_JPSWG5xEiJ"
      }
    },
    {
      "cell_type": "code",
      "source": [
        "#function to create koch curve\n",
        "def koch_curve(depth, headings, length, symbol='F'):\n",
        "    if depth == 0:\n",
        "        forward(length)\n",
        "        headings += [heading()]\n",
        "        return\n",
        "    else:\n",
        "        koch_curve(depth-1, headings, length/3., 'F') # F\n",
        "\n",
        "        left(60) # +\n",
        "        koch_curve(depth-1, headings, length/3., 'F') # F\n",
        "\n",
        "        right(120) # --\n",
        "        koch_curve(depth-1, headings, length/3., 'F') # F\n",
        "\n",
        "        left(60) # +\n",
        "        koch_curve(depth-1, headings, length/3., 'F') # F"
      ],
      "metadata": {
        "id": "S6fptFOzXFKW"
      },
      "execution_count": null,
      "outputs": []
    },
    {
      "cell_type": "markdown",
      "source": [
        "One thing to note: To prevent our Koch curve from growing in size with each added iteration, we rescale the lengths by a factor of three. This ensures our Koch curve occupies the same horizontal width regardless of the recursion depth.\n",
        "\n",
        "Next let's defined a general-purpose function that accepts a fractal-generating function as input, sets up the turtle, and executes the drawing. Notice we are keeping track of the turtle's headings over the course of the drawing - you can ignore this for now, but we will make use of those headings later!"
      ],
      "metadata": {
        "id": "ZRI3jDM64vzc"
      }
    },
    {
      "cell_type": "code",
      "source": [
        "def make_fractal(fractal_fun, depth, length, symbol, # fractal settings\n",
        "                 position, angle, draw_speed): # turtle settings\n",
        "  # speed is integer on [1,13]\n",
        "  \n",
        "  hideturtle()\n",
        "  penup() # lift the pen\n",
        "  setx(position[0])\n",
        "  sety(position[1])\n",
        "  setheading(angle)\n",
        "  pendown() # lower the pen\n",
        "  showturtle()    \n",
        "\n",
        "  headings = [angle] # accumulate headings\n",
        "  speed(draw_speed)\n",
        "  fractal_fun(depth, headings, length, symbol)\n",
        "  hideturtle()\n",
        "\n",
        "  return headings"
      ],
      "metadata": {
        "id": "8I5nmQeJ7AXk"
      },
      "execution_count": null,
      "outputs": []
    },
    {
      "cell_type": "code",
      "source": [
        "fractal_fun = koch_curve\n",
        "length = W//3\n",
        "angle = 0\n",
        "\n",
        "clear()\n",
        "# plot three different generations of the Koch curve\n",
        "color(palette['blue'])\n",
        "h1 = make_fractal(fractal_fun, 1, length, 'F', (W//3, 100), angle, 6)\n",
        "\n",
        "color(palette['yellow'])\n",
        "h2 = make_fractal(fractal_fun, 2, length, 'F', (W//3, 200), angle, 8)\n",
        "\n",
        "color(palette['red'])\n",
        "h3 = make_fractal(fractal_fun, 3, length, 'F', (W//3, 300), angle, 10)"
      ],
      "metadata": {
        "id": "qHJFcIa9cziR"
      },
      "execution_count": null,
      "outputs": []
    },
    {
      "cell_type": "markdown",
      "source": [
        "## Multi-symbol axioms\n",
        "\n",
        "How can we generate the Koch snowflake using three instances of the Koch curve? We can think of it as a longer axiom with the same alphabet and rules:\n",
        "\n",
        "1. Alphabet: `F` (variable) `+`, `-` (constants)\n",
        "2. Axiom: `F--F--F`\n",
        "3. Rule: `F --> F+F--F+F`"
      ],
      "metadata": {
        "id": "OkBBpQQH5vn8"
      }
    },
    {
      "cell_type": "code",
      "source": [
        "fractal_fun = koch_curve\n",
        "length = W//3\n",
        "angle = 0\n",
        "depth = 3\n",
        "\n",
        "clear()\n",
        "color(palette['blue'])\n",
        "\n",
        "# Axiom F--F--F\n",
        "h = make_fractal(fractal_fun, depth, length, 'F', (W//3, H//3), angle, 10)\n",
        "\n",
        "right(120) # --\n",
        "h += make_fractal(fractal_fun, depth, length, 'F', (getx(),gety()), getheading(), 10) # continue as part of the same curve\n",
        "\n",
        "right(120) # --\n",
        "h += make_fractal(fractal_fun, depth, length, 'F', (getx(),gety()), getheading(), 10) # continue as part of the same curve"
      ],
      "metadata": {
        "id": "ILDhn2KM6j--"
      },
      "execution_count": null,
      "outputs": []
    },
    {
      "cell_type": "markdown",
      "source": [
        "### Your turn!\n",
        "\n",
        "Complete the function below to generate a fractal crystal. The crystal is generated by the following L-system:\n",
        "\n",
        "1. Alphabet: `F` (variable) `+`, `-` (constants)\n",
        "2. Axiom: `F+F+F+F`\n",
        "3. Rule: `F --> FF+F++F+F`\n",
        "\n",
        "Use a length factor of 1/3 at each iteration (as with the Koch curve), and a rotation of 90 degrees for each left or right turn. The axiom has already been implemented for you in the second cell below. Your code should produce the following pattern:"
      ],
      "metadata": {
        "id": "0FeF_qPe7N6c"
      }
    },
    {
      "cell_type": "code",
      "source": [
        "#function to create crystal\n",
        "def crystal(depth, headings, length, symbol='F'):\n",
        "    if depth == 0:\n",
        "        forward(length)\n",
        "        headings += [heading()]\n",
        "        return\n",
        "    else:\n",
        "        # YOUR CODE HERE #\n",
        "        crystal(depth-1, headings, length/3., 'F')\n",
        "        crystal(depth-1, headings, length/3., 'F')\n",
        "\n",
        "        left(90)\n",
        "        crystal(depth-1, headings, length/3., 'F')\n",
        "\n",
        "        left(180)\n",
        "        crystal(depth-1, headings, length/3., 'F')\n",
        "\n",
        "        left(90)\n",
        "        crystal(depth-1, headings, length/3., 'F')"
      ],
      "metadata": {
        "id": "ja0rJXA8VSxZ"
      },
      "execution_count": null,
      "outputs": []
    },
    {
      "cell_type": "code",
      "source": [
        "fractal_fun = crystal\n",
        "length = W//3\n",
        "angle = 270\n",
        "depth = 3\n",
        "\n",
        "clear()\n",
        "color(palette['red'])\n",
        "\n",
        "# Axiom F+F+F+F\n",
        "h = make_fractal(fractal_fun, depth, length, 'F', (2*W//3, 3*H//4), angle, 10)\n",
        "\n",
        "left(90) # +\n",
        "h += make_fractal(fractal_fun, depth, length, 'F', (getx(), gety()), getheading(), 10)\n",
        "\n",
        "left(90) # +\n",
        "h += make_fractal(fractal_fun, depth, length, 'F', (getx(), gety()), getheading(), 10)\n",
        "\n",
        "left(90) # +\n",
        "h += make_fractal(fractal_fun, depth, length, 'F', (getx(), gety()), getheading(), 10)\n"
      ],
      "metadata": {
        "id": "RRumgNV5VVPW"
      },
      "execution_count": null,
      "outputs": []
    },
    {
      "cell_type": "markdown",
      "source": [
        "## Multi-variable L-systems\n",
        "\n",
        "The L-systems we've seen thus far all had one variable: F. What about multi-variable L-systems?\n",
        "\n",
        "Consider the following:\n",
        "1. Alphabet: `F`, `G` (variables) `+`, `-` (constants)\n",
        "2. Axiom: `F`\n",
        "3. Rules: `F --> F-G`, `G --> F+G`\n",
        "\n",
        "The combination of two types of symbols allows us to generate the dragon curve:"
      ],
      "metadata": {
        "id": "DUo_qf748g7g"
      }
    },
    {
      "cell_type": "code",
      "source": [
        "#function to create the dragon curve\n",
        "def dragon_curve(depth, headings, length, symbol):\n",
        "    if depth == 0:\n",
        "        if symbol == 'F': color(palette['red'])\n",
        "        else: color(palette['blue'])\n",
        "        forward(length)\n",
        "        headings += [heading()]\n",
        "        return\n",
        "    else:\n",
        "      dragon_curve(depth-1, headings, length/np.sqrt(2), 'F')\n",
        "      \n",
        "      if symbol == 'F': right(90)\n",
        "      else: left(90)\n",
        "      dragon_curve(depth-1, headings, length/np.sqrt(2), 'G')"
      ],
      "metadata": {
        "id": "_bGgvL1pzNgo"
      },
      "execution_count": null,
      "outputs": []
    },
    {
      "cell_type": "code",
      "source": [
        "fractal_fun = dragon_curve\n",
        "length = W//3\n",
        "\n",
        "clear()\n",
        "h = make_fractal(fractal_fun, 8, length, 'F', (W//3, H//2), 0, 12)"
      ],
      "metadata": {
        "id": "HapTbB9rzmyu"
      },
      "execution_count": null,
      "outputs": []
    },
    {
      "cell_type": "markdown",
      "source": [
        "### Your turn!\n",
        "\n",
        "Complete the function below to generate the Sierpinski arrowhead curve. The curve is generated by the following L-system:\n",
        "\n",
        "1. Alphabet: `F`, `G` (variables) `+`, `-` (constants)\n",
        "2. Axiom: `F`\n",
        "3. Rules: `F --> G-F-G`, `G --> F+G+F`\n",
        "\n",
        "Use a length factor of 1/2 at each iteration, and a rotation of 60 degrees for each left or right turn. The axiom has already been implemented for you in the second cell below. Your code should produce the following pattern:"
      ],
      "metadata": {
        "id": "YWqrLaJDftdd"
      }
    },
    {
      "cell_type": "code",
      "source": [
        "#function to create Sierpinski arrowhead curve\n",
        "def sierpinski_curve(depth, headings, length, symbol):\n",
        "    if depth == 0:\n",
        "        if symbol == 'F': color(palette['blue'])\n",
        "        else: color(palette['yellow'])\n",
        "        forward(length)\n",
        "        headings += [heading()]\n",
        "        return\n",
        "    else:\n",
        "        # YOUR CODE HERE\n",
        "        if symbol == 'F':\n",
        "            sierpinski_curve(depth-1, headings, length/2., 'G')\n",
        "            right(60)\n",
        "            sierpinski_curve(depth-1, headings, length/2., 'F')\n",
        "            right(60)\n",
        "            sierpinski_curve(depth-1, headings, length/2., 'G')\n",
        "\n",
        "        else:\n",
        "            sierpinski_curve(depth-1, headings, length/2., 'F')\n",
        "            left(60)\n",
        "            sierpinski_curve(depth-1, headings, length/2., 'G')\n",
        "            left(60)\n",
        "            sierpinski_curve(depth-1, headings, length/2., 'F')"
      ],
      "metadata": {
        "id": "FDhzWOz1q7nW"
      },
      "execution_count": null,
      "outputs": []
    },
    {
      "cell_type": "code",
      "source": [
        "fractal_fun = sierpinski_curve\n",
        "length = W//4\n",
        "angle = 0\n",
        "\n",
        "clear()\n",
        "# three different generations of the Sierpinski triangle\n",
        "h1 = make_fractal(fractal_fun, 3, length, 'F', (W//8,3*H//4), 300, 8)\n",
        "h2 = make_fractal(fractal_fun, 4, length, 'F', (3*W//8,H//2), 0, 10)\n",
        "h3 = make_fractal(fractal_fun, 5, length, 'F', (5*W//8,3*H//4), 300, 12)"
      ],
      "metadata": {
        "id": "F4GkgtzdsMQS"
      },
      "execution_count": null,
      "outputs": []
    },
    {
      "cell_type": "markdown",
      "source": [
        "## Push-Pop Operations\n",
        "\n",
        "The final twist to L-systems we'll introduce here are push-pop operations, denoted by brackets `[`,`]`. These indicate the following:\n",
        "- `[` : Save current position and heading (push)\n",
        "- `]` : Reset to most recent saved position and heading (pop)\n",
        "\n",
        "Typically, we'll want to lift our pen when resetting to a previous position. Let's define two helper functions for the push-pop operations:"
      ],
      "metadata": {
        "id": "SeDmeA_u9hW6"
      }
    },
    {
      "cell_type": "code",
      "source": [
        "def push():\n",
        "    x = getx()\n",
        "    y = gety()\n",
        "    h = getheading()\n",
        "    return x, y, h\n",
        "\n",
        "def pop(x, y, h):\n",
        "    penup()\n",
        "    setx(x)\n",
        "    sety(y)\n",
        "    setheading(h)\n",
        "    pendown()"
      ],
      "metadata": {
        "id": "IFfJyaJ98ZuC"
      },
      "execution_count": null,
      "outputs": []
    },
    {
      "cell_type": "markdown",
      "source": [
        "Push and pop are particularly useful for creating tree-like fractals, which have a lot of branching structures. Let's look at one example below.\n",
        "\n",
        "1. Alphabet: `F` (variable) `+`, `-`, `[`, `]` (constants)\n",
        "2. Axiom: `F`\n",
        "3. Rule: `F --> [+F]F[-F]F`\n",
        "\n",
        "Rotations here correspond to 30 degrees, and the length factor is 1."
      ],
      "metadata": {
        "id": "GnckKTIDho-6"
      }
    },
    {
      "cell_type": "code",
      "source": [
        "#function to create fractal tree\n",
        "def fractal_tree(depth, headings, length, symbol):\n",
        "    if depth == 0:\n",
        "        forward(length)\n",
        "        headings += [heading()]\n",
        "        return\n",
        "    else:\n",
        "        x, y, h = push() # save position and heading\n",
        "        left(30)\n",
        "        fractal_tree(depth-1, headings, length, 'F')\n",
        "\n",
        "        pop(x, y, h) # reset to saved position and heading\n",
        "        fractal_tree(depth-1, headings, length, 'F')\n",
        "\n",
        "        x, y, h = push() # save position and heading\n",
        "        right(30)\n",
        "        fractal_tree(depth-1, headings, length, 'F')\n",
        "\n",
        "        pop(x, y, h) # reset to saved position and heading\n",
        "        fractal_tree(depth-1, headings, length, 'F')"
      ],
      "metadata": {
        "id": "nsKro3E4hqzt"
      },
      "execution_count": null,
      "outputs": []
    },
    {
      "cell_type": "code",
      "source": [
        "fractal_fun = fractal_tree\n",
        "length = 10\n",
        "angle = 270\n",
        "\n",
        "clear()\n",
        "color(palette['green'])\n",
        "\n",
        "# four generations of the fractal tree\n",
        "h1 = make_fractal(fractal_fun, 1, length, 'F', (W//5,3*H//4), angle, 6)\n",
        "h2 = make_fractal(fractal_fun, 2, length, 'F', (2*W//5,3*H//4), angle, 8)\n",
        "h3 = make_fractal(fractal_fun, 3, length, 'F', (3*W//5,3*H//4), angle, 10)\n",
        "h4 = make_fractal(fractal_fun, 4, length, 'F', (4*W//5,3*H//4), angle, 12)"
      ],
      "metadata": {
        "id": "3-UNEUly9jm9"
      },
      "execution_count": null,
      "outputs": []
    },
    {
      "cell_type": "markdown",
      "source": [
        "L-systems provide us with broad flexibility to come up with unique patterns of our own through different combinations of variables, turns, and push-pop operations. A more complex, beautiful leaf example comes from [Paul Bourke](http://paulbourke.net/fractals/lsys/):\n",
        "\n",
        "\n",
        "1. Alphabet: `F`, `A`, `B`, `X`, `Y` (variables) `+`, `-`, `[`, `]` (constants)\n",
        "2. Axiom: `A`\n",
        "3. Rules: `F --> F`, `A --> F[+X]FB`, `B --> F[-Y]FA`, `X --> A`, `Y --> B`\n",
        "\n",
        "Note: For only the first rule `F --> F`, the subsequent segment length is multiplied by a factor of 1.36. For all other rules, segment length is left unchanged. `+` and `-` correspond to 45 degree rotations."
      ],
      "metadata": {
        "id": "Vq5xoqcyley8"
      }
    },
    {
      "cell_type": "code",
      "source": [
        "#function to create Paul Bourke's leaf\n",
        "def bourke_leaf(depth, headings, length, symbol):\n",
        "    if depth == 0:\n",
        "        if symbol == 'F': color(palette['green'])\n",
        "        else: color(palette['red'])\n",
        "\n",
        "        forward(length)\n",
        "        headings += [heading()]\n",
        "        return\n",
        "    else:\n",
        "        if symbol == 'F':\n",
        "            bourke_leaf(depth-1, headings, 1.36*length, 'F')\n",
        "\n",
        "        elif symbol == 'A':\n",
        "            bourke_leaf(depth-1, headings, length, 'F')\n",
        "            x, y, h = push()\n",
        "            left(45)\n",
        "            bourke_leaf(depth-1, headings, length, 'X')\n",
        "            pop(x, y, h)\n",
        "            bourke_leaf(depth-1, headings, length, 'F')\n",
        "            bourke_leaf(depth-1, headings, length, 'B')\n",
        "\n",
        "        elif symbol == 'B':\n",
        "            bourke_leaf(depth-1, headings, length, 'F')\n",
        "            x, y, h = push()\n",
        "            right(45)\n",
        "            bourke_leaf(depth-1, headings, length, 'Y')\n",
        "            pop(x, y, h)\n",
        "            bourke_leaf(depth-1, headings, length, 'F')\n",
        "            bourke_leaf(depth-1, headings, length, 'A')\n",
        "\n",
        "        elif symbol == 'X':\n",
        "            bourke_leaf(depth-1, headings, length, 'A')\n",
        "\n",
        "        else:\n",
        "            bourke_leaf(depth-1, headings, length, 'B')\n"
      ],
      "metadata": {
        "id": "8PDQGTNajNJ1"
      },
      "execution_count": null,
      "outputs": []
    },
    {
      "cell_type": "code",
      "source": [
        "fractal_fun = bourke_leaf\n",
        "length = 3\n",
        "angle = 270\n",
        "\n",
        "clear()\n",
        "h = make_fractal(fractal_fun, 10, length, 'A', (W//2,H), angle, 12)"
      ],
      "metadata": {
        "id": "d854M2cNkWyJ"
      },
      "execution_count": null,
      "outputs": []
    },
    {
      "cell_type": "markdown",
      "source": [
        "### Next Steps\n",
        "Try designing your own pattern! For inspiration, you can check out [Paul Bourke's page on L-systems](http://paulbourke.net/fractals/lsys/)."
      ],
      "metadata": {
        "id": "LYtJlbP09qii"
      }
    },
    {
      "cell_type": "markdown",
      "source": [
        "# Fractal Symphony\n",
        "\n",
        "If we could transform a geometric fractal into a musical composition, what would it sound like? To get started, let's install a few additional packages:"
      ],
      "metadata": {
        "id": "dd-VBuNNxHpT"
      }
    },
    {
      "cell_type": "code",
      "metadata": {
        "id": "hKDhJGQVqb3Y"
      },
      "source": [
        "# installation help from: https://groups.google.com/g/music21list/c/THJNzsgK-pg?pli=1\n",
        "# To render images of musical notes\n",
        "print('installing lilypond...')\n",
        "!apt-get install lilypond > /dev/null\n",
        "\n",
        "# To convert midi files to wav files and play them\n",
        "print('installing fluidsynth...')\n",
        "!apt-get install fluidsynth > /dev/null\n",
        "!cp /usr/share/sounds/sf2/FluidR3_GM.sf2 ./font.sf2\n",
        "\n",
        "print('done!')"
      ],
      "execution_count": null,
      "outputs": []
    },
    {
      "cell_type": "markdown",
      "source": [
        "We'll use the library [music21](https://web.mit.edu/music21/) in order to compose and play music based on our generated fractals. Let's import a few key modules and define helper functions for displaying and playing music."
      ],
      "metadata": {
        "id": "Mz_Jtv9ZovXN"
      }
    },
    {
      "cell_type": "code",
      "metadata": {
        "id": "-mUnsylHXK1o"
      },
      "source": [
        "from music21 import stream, note, scale, meter, tempo, instrument\n",
        "from IPython.display import Image, Audio\n",
        "\n",
        "def show(music):\n",
        "  display(Image(str(music.write('lily.png'))))\n",
        "\n",
        "def play(music):\n",
        "  filename = music.write('mid', fp='audio')\n",
        "  !fluidsynth -ni font.sf2 $filename -F $filename\\.wav -r 16000 > /dev/null\n",
        "  display(Audio(filename + '.wav'))"
      ],
      "execution_count": null,
      "outputs": []
    },
    {
      "cell_type": "markdown",
      "source": [
        "The following is a simple demonstration of how music21 works. We can define a note by its pitch (C), octave (4th), and duration (half note), and play it."
      ],
      "metadata": {
        "id": "dauajPORpMxX"
      }
    },
    {
      "cell_type": "code",
      "metadata": {
        "id": "TxLlKkizXMMG"
      },
      "source": [
        "n = note.Note('C4', type='half')\n",
        "play(n)\n",
        "show(n)"
      ],
      "execution_count": null,
      "outputs": []
    },
    {
      "cell_type": "markdown",
      "source": [
        "We can also specify other musical attributes. Here we construct a short score of two parts. Each part is assembled by appending a time signature, tempo, and notes to a \"stream\" much like writing music. We can also specify a different instrument to use. Each note stream is then assigned to a different part, and the parts are inserted into the same score."
      ],
      "metadata": {
        "id": "OpqvS-BxpyfQ"
      }
    },
    {
      "cell_type": "code",
      "metadata": {
        "id": "iWzgdel87Rrm"
      },
      "source": [
        "sc = stream.Score(id='score')\n",
        "ts = meter.TimeSignature('4/4')\n",
        "tm = tempo.MetronomeMark('andante')\n",
        "\n",
        "st1 = stream.Stream(id='stream1')\n",
        "st2 = stream.Stream(id='stream2')\n",
        "\n",
        "# add time signature, tempo marking, and notes to first stream\n",
        "st1.append(ts)\n",
        "st1.append(tm)\n",
        "st1.append(note.Note('C4', type=\"half\"))\n",
        "st1.append(note.Note('C4', type=\"half\"))\n",
        "\n",
        "# add time signature, tempo marking, and notes to second stream\n",
        "st2.append(ts)\n",
        "st2.append(tm)\n",
        "st2.append(note.Note('E4', type=\"quarter\"))\n",
        "st2.append(note.Note('F4', type=\"quarter\"))\n",
        "st2.append(note.Note('E4', type=\"quarter\"))\n",
        "st2.append(note.Note('F4', type=\"quarter\"))\n",
        "\n",
        "# create two parts from the two streams\n",
        "p1 = stream.Part(id='part1')\n",
        "p1.append(st1.makeMeasures())\n",
        "p1.insert(0, instrument.Violin())\n",
        "p2 = stream.Part(id='part2')\n",
        "p2.append(st2.makeMeasures())\n",
        "\n",
        "# insert parts into the score\n",
        "sc.insert(0, p1)\n",
        "sc.insert(0, p2)\n",
        "play(sc)\n",
        "show(sc)"
      ],
      "execution_count": null,
      "outputs": []
    },
    {
      "cell_type": "markdown",
      "source": [
        "Next, we'll define how we attribute a musical interpretation to our geometric fractals. We've constructed fractals by orienting our turtle at different headings and drawing lines as we go. We'll interpret each change in heading as a change in pitch up or down following a particular scale. The number of steps up or down the scale will correspond to the magnitude of the turn, measured as some multiple of a base rotation angle (e.g. 45 degrees, 60 degrees). First, we define a function that converts our list of headings returned from each fractal simulation to steps relative to a base starting pitch, to be chosen later."
      ],
      "metadata": {
        "id": "bGc7aKI8qzx2"
      }
    },
    {
      "cell_type": "code",
      "source": [
        "def headings2steps(headings, base_rotation):\n",
        "    h = np.array(headings, dtype=int) # headings array\n",
        "    diff = np.diff(h).astype(int) # sequential changes in heading\n",
        "    for i in range(len(diff)):\n",
        "        if np.abs(diff[i]+360) < np.abs(diff[i]): # pick smallest absolute angle\n",
        "            diff[i] += 360\n",
        "        if np.abs(diff[i]-360) < np.abs(diff[i]):\n",
        "            diff[i] -= 360\n",
        "    steps = np.cumsum(diff / base_rotation) # cumulative sum, so each entry reflects the steps up or down relative to starting pitch\n",
        "    return steps.astype(int)"
      ],
      "metadata": {
        "id": "6LrP0Bim8ke0"
      },
      "execution_count": null,
      "outputs": []
    },
    {
      "cell_type": "markdown",
      "source": [
        "As a starting example, let's generate the Koch curve once again, and convert the changes in heading to steps with a base rotation angle of 60 degrees."
      ],
      "metadata": {
        "id": "sNGvZ7Aqtw6k"
      }
    },
    {
      "cell_type": "code",
      "source": [
        "fractal_fun = koch_curve\n",
        "length = W//3\n",
        "angle = 0\n",
        "\n",
        "clear()\n",
        "color(palette['blue'])\n",
        "h1 = make_fractal(fractal_fun, 1, length, 'F', (W//3, 100), angle, 6)\n",
        "color(palette['yellow'])\n",
        "h2 = make_fractal(fractal_fun, 2, length, 'F', (W//3, 200), angle, 8)\n",
        "color(palette['red'])\n",
        "h3 = make_fractal(fractal_fun, 3, length, 'F', (W//3, 300), angle, 10)\n",
        "\n",
        "s1 = headings2steps(h1, 60)\n",
        "s2 = headings2steps(h2, 60)\n",
        "s3 = headings2steps(h3, 60)"
      ],
      "metadata": {
        "id": "k1W7IRIGeBiH"
      },
      "execution_count": null,
      "outputs": []
    },
    {
      "cell_type": "code",
      "source": [
        "print(h1)\n",
        "print(s1)"
      ],
      "metadata": {
        "id": "8Fad8R6uhnvG"
      },
      "execution_count": null,
      "outputs": []
    },
    {
      "cell_type": "code",
      "source": [
        "print(h2)\n",
        "print(s2)"
      ],
      "metadata": {
        "id": "nOQrm_oJVPMd"
      },
      "execution_count": null,
      "outputs": []
    },
    {
      "cell_type": "code",
      "source": [
        "print(len(s1),len(s2),len(s3))"
      ],
      "metadata": {
        "id": "QtWbJLfHiFtg"
      },
      "execution_count": null,
      "outputs": []
    },
    {
      "cell_type": "markdown",
      "source": [
        "Next, we treat each sequence of steps, corresponding to the three different generations of the Koch curve, as a \"part\" in our \"score\", with a different starting base pitch and octave. Notice that the length of each part is different, as later generations have more turns. Thus, we select the note durations appropriately so each part has the same overall duration. In this case, the first generation Koch curve will play as whole notes (4 beats in 4/4 time), the second as quarter notes (1 beat), and the third as sixteenth notes (1/4 beat)."
      ],
      "metadata": {
        "id": "VsCpeJ8auJ3H"
      }
    },
    {
      "cell_type": "code",
      "source": [
        "sc = scale.MajorScale('C')\n",
        "notes = [str(p) for p in sc.getPitches('C1', 'C7')]\n",
        "\n",
        "ts = meter.TimeSignature('4/4')\n",
        "tm = tempo.MetronomeMark('andante')\n",
        "base_pitches = ['C5','E4','G3']   # highest generation to lowest generation\n",
        "note_durations = [0.25, 1.0, 4.0] # sixteenth note, quarter note, whole note"
      ],
      "metadata": {
        "id": "AFWjxOLUV-tf"
      },
      "execution_count": null,
      "outputs": []
    },
    {
      "cell_type": "markdown",
      "source": [
        "The following function assembles our steps, time signature, tempo, pitches, and note durations into a complete score:"
      ],
      "metadata": {
        "id": "nhX4YEwfvuO6"
      }
    },
    {
      "cell_type": "code",
      "source": [
        "def generate_score(parts, scale, notes, base_pitches, time_signature, tempo, note_durations, instruments=None):\n",
        "    if len(parts) != len(base_pitches) or len(parts) != len(note_durations):\n",
        "        raise ValueError(\"Number of parts must equal number of base pitches and note durations.\")\n",
        "\n",
        "    sc = stream.Score(id='score')\n",
        "\n",
        "    for j,part in enumerate(parts):\n",
        "        st = stream.Stream(id='stream'+str(j))\n",
        "        st.append(time_signature)\n",
        "        st.append(tempo)\n",
        "        base_index = notes.index(base_pitches[j])\n",
        "        for i in part:\n",
        "            n = note.Note(notes[i+base_index])\n",
        "            n.duration.quarterLength = note_durations[j]\n",
        "            st.append(n)\n",
        "        p = stream.Part(id='part'+str(j))\n",
        "        p.append(st.makeMeasures())\n",
        "        if instruments is not None:\n",
        "            p.insert(0, instruments[j])\n",
        "        sc.insert(0, p)\n",
        "\n",
        "    return sc"
      ],
      "metadata": {
        "id": "Q2XmexgdieUe"
      },
      "execution_count": null,
      "outputs": []
    },
    {
      "cell_type": "code",
      "source": [
        "sc = generate_score([s3,s2,s1], sc, notes, base_pitches, ts, tm, note_durations)\n",
        "play(sc)\n",
        "show(sc)"
      ],
      "metadata": {
        "id": "nksHMkE056uv"
      },
      "execution_count": null,
      "outputs": []
    },
    {
      "cell_type": "markdown",
      "source": [
        "Let's try the Sierpinski arrowhead curve:"
      ],
      "metadata": {
        "id": "Gn36ByR_waJ6"
      }
    },
    {
      "cell_type": "code",
      "source": [
        "fractal_fun = sierpinski_curve\n",
        "length = W//4\n",
        "\n",
        "clear()\n",
        "# three different generations of the Sierpinski triangle\n",
        "h1 = make_fractal(fractal_fun, 2, length, 'F', (W//8,3*H//4), 0, 8)\n",
        "h2 = make_fractal(fractal_fun, 3, length, 'F', (3*W//8,H//2), 300, 10)\n",
        "h3 = make_fractal(fractal_fun, 4, length, 'F', (5*W//8,3*H//4), 0, 12)\n",
        "\n",
        "s1 = headings2steps(h1, 60)\n",
        "s2 = headings2steps(h2, 60)\n",
        "s3 = headings2steps(h3, 60)"
      ],
      "metadata": {
        "id": "6X-P2WXhLFNI"
      },
      "execution_count": null,
      "outputs": []
    },
    {
      "cell_type": "code",
      "source": [
        "print(len(s1), len(s2), len(s3))"
      ],
      "metadata": {
        "id": "XJUkpagWoKNG"
      },
      "execution_count": null,
      "outputs": []
    },
    {
      "cell_type": "markdown",
      "source": [
        "Since the lengths increase by factors of 3, we'll write this piece in 6/8 time (6 beats per measure, eighth note gets the beat)."
      ],
      "metadata": {
        "id": "ceM4BPvtwmhl"
      }
    },
    {
      "cell_type": "code",
      "source": [
        "sc = scale.MinorScale('A')\n",
        "notes = [str(p) for p in sc.getPitches('A1', 'A7')]\n",
        "\n",
        "ts = meter.TimeSignature('6/8')\n",
        "tm = tempo.MetronomeMark('allegro')\n",
        "base_pitches = ['F5','A4','D3']\n",
        "note_durations = [0.5, 1.5, 4.5]\n",
        "instruments = [instrument.Guitar(),\n",
        "               instrument.Guitar(),\n",
        "               instrument.Guitar()]"
      ],
      "metadata": {
        "id": "Cy0qw_H9oRgn"
      },
      "execution_count": null,
      "outputs": []
    },
    {
      "cell_type": "code",
      "source": [
        "sc = generate_score([s3,s2,s1], sc, notes, base_pitches, ts, tm, note_durations, instruments)\n",
        "\n",
        "play(sc)\n",
        "show(sc)"
      ],
      "metadata": {
        "id": "meGNnSY-o0e_"
      },
      "execution_count": null,
      "outputs": []
    },
    {
      "cell_type": "code",
      "source": [
        "fractal_fun = fractal_tree\n",
        "length = 10\n",
        "angle = 270\n",
        "\n",
        "clear()\n",
        "color(palette['green'])\n",
        "h1 = make_fractal(fractal_fun, 2, length, 'F', (W//4,3*H//4), angle, 12)\n",
        "h2 = make_fractal(fractal_fun, 3, length, 'F', (W//2,3*H//4), angle, 12)\n",
        "h3 = make_fractal(fractal_fun, 4, length, 'F', (3*W//4,3*H//4), angle, 12)\n",
        "\n",
        "s1 = headings2steps(h1, 30)\n",
        "s2 = headings2steps(h2, 30)\n",
        "s3 = headings2steps(h3, 30)"
      ],
      "metadata": {
        "id": "5faEbCrDo3RF"
      },
      "execution_count": null,
      "outputs": []
    },
    {
      "cell_type": "code",
      "source": [
        "print(len(s1), len(s2), len(s3))"
      ],
      "metadata": {
        "id": "lyl935pwFy1o"
      },
      "execution_count": null,
      "outputs": []
    },
    {
      "cell_type": "code",
      "source": [
        "sc = scale.MajorScale('C')\n",
        "notes = [str(p) for p in sc.getPitches('C1', 'C7')]\n",
        "\n",
        "ts = meter.TimeSignature('4/4')\n",
        "tm = tempo.MetronomeMark('moderato')\n",
        "base_pitches = ['C6','E4','G3']\n",
        "note_durations = [0.25, 1.0, 4.0]\n",
        "instruments = [instrument.Flute(),\n",
        "               instrument.Oboe(),\n",
        "               instrument.Bassoon()]"
      ],
      "metadata": {
        "id": "My5hcKzsF6zX"
      },
      "execution_count": null,
      "outputs": []
    },
    {
      "cell_type": "code",
      "source": [
        "sc = generate_score([s3,s2,s1], sc, notes, base_pitches, ts, tm, note_durations, instruments)\n",
        "play(sc)\n",
        "show(sc)"
      ],
      "metadata": {
        "id": "qgRkC6bPJOyI"
      },
      "execution_count": null,
      "outputs": []
    }
  ]
}