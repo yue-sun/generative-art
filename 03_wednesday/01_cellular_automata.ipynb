{
  "cells": [
    {
      "cell_type": "markdown",
      "metadata": {
        "id": "view-in-github",
        "colab_type": "text"
      },
      "source": [
        "<a href=\"https://colab.research.google.com/github/yue-sun/generative-art/blob/d3_cell_automata/03_wednesday/01_cellular_automata.ipynb\" target=\"_parent\"><img src=\"https://colab.research.google.com/assets/colab-badge.svg\" alt=\"Open In Colab\"/></a>"
      ]
    },
    {
      "cell_type": "markdown",
      "metadata": {
        "id": "-fEefDpydOYA"
      },
      "source": [
        "# Cellular automata\n",
        "\n",
        "## Cellular automata in 1D\n",
        "A cellular automaton is a system of interacting cells on a grid whose future state depends on the states of neighboring cells according to a pre-defined rule. Let's start by looking at cellular automata in one dimension. The following represents a sequence of cells:\n",
        "![cells](https://raw.githubusercontent.com/yue-sun/generative-art/d3_cell_automata/03_wednesday/figs/cells.png)\n",
        "\n",
        "The state of each cell is represented by a binary value, and in 1D, each cell has two neighbors. Thus, we can look at the \"code\" formed by considering a cell and its two neighbors in the order left, center, right (LCR).\n",
        "\n",
        "![triplets](https://raw.githubusercontent.com/yue-sun/generative-art/d3_cell_automata/03_wednesday/figs/ca_triplet.png)\n",
        "\n",
        "This binary triplet, such as 011 in the example shown, can be thought of as a unique identifier for that specific neighbor state configuration. We can also convert the representation of the code from binary to decimal.\n",
        "\n",
        "If our codes are only 3 digits long in binary, how many possible combinations are there? There are $2\\times2\\times2=8$ possibilities. Thus, our rules for the evolution of cellular automata must prescribe an outcome for each of the 8 possible configurations we can observe. These rules were formalized and extensively studied by Wolfram. Each rule is expressed as an 8-bit binary string, such as the example Rule 30 below:\n",
        "\n",
        "![rules](https://raw.githubusercontent.com/yue-sun/generative-art/d3_cell_automata/03_wednesday/figs/wolfram_rules.png)\n",
        "\n",
        "For each of the 8 neighbor configurations, the rule defines the state of the **center cell** in the next time step.\n",
        "\n",
        "We'll begin by writing a function that allows us to simulate cellular automata in one dimension. First, let's implement a helper function that allows us to generate the 8-bit rule representations."
      ]
    },
    {
      "cell_type": "code",
      "execution_count": null,
      "metadata": {
        "id": "O6-VGMx0tQqz"
      },
      "outputs": [],
      "source": [
        "import numpy as np\n",
        "from numba import njit\n",
        "import matplotlib.pyplot as plt\n",
        "import ipywidgets as widgets\n",
        "import gc\n",
        "import matplotlib.animation as animation\n",
        "from IPython.display import HTML\n",
        "from skimage.io import imread\n",
        "from google.colab import files"
      ]
    },
    {
      "cell_type": "code",
      "execution_count": null,
      "metadata": {
        "id": "aflg2iMHtQq1"
      },
      "outputs": [],
      "source": [
        "# Use numpy's decimal to binary representation function, binary_repr.\n",
        "# The first value is the decimal number, and the second is the number\n",
        "# of digits in binary to return.\n",
        "np.binary_repr(2,8)"
      ]
    },
    {
      "cell_type": "code",
      "execution_count": null,
      "metadata": {
        "id": "d9fruefwiJgv"
      },
      "outputs": [],
      "source": [
        "def get_rule(n, show=True):\n",
        "    '''Get the binary representation of a rule. Valid codes are n=0 to n=255.'''\n",
        "    if n<0 or n>255:\n",
        "        raise ValueError(\"Rule index must be between 0 and 255.\")\n",
        "        \n",
        "    rule = np.array([int(i) for i in np.binary_repr(n,8)], dtype=np.uint8)\n",
        "    # flip the order of the entries so that rule[decimal_rep] = new_state,\n",
        "    # where decimal_rep is the decimal representation of the 3-bit neighborhood.\n",
        "    rule = rule[::-1]\n",
        "    if show:\n",
        "        plot_rule(rule)\n",
        "    return rule\n",
        "\n",
        "def plot_rule(rule):\n",
        "    print(\"Rule\",sum([rule[i]*2**i for i in range(len(rule))]))\n",
        "    fig, axes = plt.subplots(2,8,figsize=(8,2))\n",
        "    \n",
        "    for i in range(8):   # iterate over all possible neighborhoods\n",
        "        neigh = np.array([int(j) for j in np.binary_repr(i,3)])    # convert to binary\n",
        "        new_state = np.nan*np.ones((3,3)); new_state[1,1] = rule[i]\n",
        "        ind = 7-i # facilitate plotting from right to left.\n",
        "        \n",
        "        axes[0,ind].imshow(neigh.reshape(1,3), vmin=0, vmax=1)     # plot the binary triplet\n",
        "        axes[1,ind].imshow(new_state, vmin=0, vmax=1)              # plot the new cell state below\n",
        "        axes[0,ind].axis('off'); axes[1,ind].axis('off')\n",
        "    fig.tight_layout()\n",
        "    plt.show()"
      ]
    },
    {
      "cell_type": "code",
      "execution_count": null,
      "metadata": {
        "id": "l5LxhoNoiYZ4"
      },
      "outputs": [],
      "source": [
        "rule = get_rule(2)"
      ]
    },
    {
      "cell_type": "markdown",
      "metadata": {
        "id": "OKqPlicZiqPN"
      },
      "source": [
        "## Implementation\n",
        "\n",
        "There are several different ways to implement the update for cellular automata, which applies a specified rule to a set of cells. Here, we present an approach using **convolution**. A visual representation of discrete convolution is illustrated below:\n",
        "\n",
        "![convolution](https://raw.githubusercontent.com/yue-sun/generative-art/d3_cell_automata/03_wednesday/figs/convolution.png)\n",
        "\n",
        "A convolution **kernel** scans across an array, here representing the cell states. At each position, the coinciding values of the kernel and array are multiplied, then added together. If the operation is performed cyclically, such that the kernel wraps back to the beginning, the result is a new array of the same size as the original, whose values have been transformed by the kernel.\n",
        "\n",
        "In the context of cellular automata, we can use convolution to perform binary-to-decimal conversion, by choosing the kernel $[2^0,2^1,2^2]=[1,2,4]$. Thus, we convert all triplet states to their decimal representation, an integer from 0 to 7. Then, we can use this decimal code to find the appropriate next state based on our chosen rule.\n",
        "\n",
        "![bin2dec](https://raw.githubusercontent.com/yue-sun/generative-art/d3_cell_automata/03_wednesday/figs/bin_to_dec.png)\n",
        "\n",
        "The function ```cellular_automaton``` below performs a simulation of a cellular automaton given a rule, the number of discrete steps to advance in time, and the initial states of the cells. Internally, the ```step``` function applies a 1D convolution to convert the current cell states to their decimal representations, then determine the next states based on the supplied rule.\n"
      ]
    },
    {
      "cell_type": "code",
      "execution_count": null,
      "metadata": {
        "id": "I2dqAuGNibI6"
      },
      "outputs": [],
      "source": [
        "from scipy.ndimage import convolve1d\n",
        "\n",
        "def cellular_automaton(rule, steps, init):\n",
        "    \"\"\"Simulate a cellular automaton.\n",
        "    rule - the 8-bit representation of the rule.\n",
        "    steps - the number of iterations to perform.\n",
        "    init - the initial state of the cells.\n",
        "    \"\"\"\n",
        "    size = len(init) # get the number of cells.\n",
        "    cells = np.zeros((steps+1, size), dtype=np.uint8)\n",
        "    cells[0,:] = init\n",
        "    \n",
        "    def step(cells, rule):\n",
        "        # convolve cells with \"converter\" array to convert binary LCR triplets\n",
        "        # to base 10 integers from 0 to 7.\n",
        "        bin2dec = np.array([1,2,4], dtype=int)\n",
        "        decimal_rep = convolve1d(cells, bin2dec, mode='wrap')\n",
        "\n",
        "        # Get updated patterns from the rule for all cells.\n",
        "        return rule[decimal_rep]\n",
        "    \n",
        "    # Apply the step function iteratively.\n",
        "    for i in range(steps):\n",
        "        cells[i+1,:] = step(cells[i,:], rule)\n",
        "    return cells"
      ]
    },
    {
      "cell_type": "markdown",
      "source": [
        "We also define helper functions to plot and animate the cell states:"
      ],
      "metadata": {
        "id": "tq5GB0AHHa4A"
      }
    },
    {
      "cell_type": "code",
      "execution_count": null,
      "metadata": {
        "id": "-JFvG_eKFUy3"
      },
      "outputs": [],
      "source": [
        "# simple function to plot states.\n",
        "def plot_cells(cells, figsize=(9,9)):\n",
        "    plt.figure(figsize=figsize)\n",
        "    plt.imshow(cells, interpolation='nearest')\n",
        "    plt.axis('off')\n",
        "    plt.show()\n",
        "\n",
        "#generate a sequence of plots assembled into an animation.\n",
        "def make_animation1d(cells, vmin=0, vmax=1, cmap=plt.cm.viridis):\n",
        "    frames = len(cells)\n",
        "    fig, ax = plt.subplots(1,1,figsize=(6,6))\n",
        "    plot_cells = np.zeros_like(cells)\n",
        "    plot_cells[0] = cells[0]\n",
        "    im = ax.imshow(plot_cells, vmin=vmin, vmax=vmax, interpolation='nearest', cmap=cmap)\n",
        "    ax.axis('off'); fig.tight_layout()\n",
        "\n",
        "    def animate(i):\n",
        "        '''Plot updates for animation.'''\n",
        "        plot_cells[i] = cells[i]\n",
        "        im.set_array(plot_cells)\n",
        "        return im,\n",
        "\n",
        "    ani = animation.FuncAnimation(fig, animate, frames=frames, interval=64, blit=True)\n",
        "    plt.close(fig)\n",
        "    return ani"
      ]
    },
    {
      "cell_type": "markdown",
      "metadata": {
        "id": "DhgNSZs7jq0R"
      },
      "source": [
        "Below, we test our implementation on a system of 201 cells following Rule 18. We start by only turning on the center-most cell as our initial condition."
      ]
    },
    {
      "cell_type": "code",
      "execution_count": null,
      "metadata": {
        "id": "irdSVGiAjn-0"
      },
      "outputs": [],
      "source": [
        "n = 18 # rule to follow\n",
        "rule = get_rule(n)"
      ]
    },
    {
      "cell_type": "code",
      "execution_count": null,
      "metadata": {
        "id": "fQCcinznkHZz"
      },
      "outputs": [],
      "source": [
        "N = 201 # number of cells\n",
        "T = 100  # number of time steps\n",
        "\n",
        "# set the initial condition to a single \"on\" cell in the middle.\n",
        "init = np.zeros(N, dtype=np.uint8); init[N//2] = 1\n",
        "cells = cellular_automaton(rule, T, init)\n",
        "\n",
        "# create animation\n",
        "ani = make_animation1d(cells)\n",
        "\n",
        "# display the animation\n",
        "HTML(ani.to_html5_video())"
      ]
    },
    {
      "cell_type": "markdown",
      "metadata": {
        "id": "AXe389EDkvKJ"
      },
      "source": [
        "We can also randomly initialize the cell states:"
      ]
    },
    {
      "cell_type": "code",
      "execution_count": null,
      "metadata": {
        "id": "iXt-5sSUk6uK"
      },
      "outputs": [],
      "source": [
        "n = 30 # rule to follow\n",
        "rule = get_rule(n)\n",
        "\n",
        "N = 201 # number of cells\n",
        "T = 100  # number of time steps\n",
        "\n",
        "# set a random initial condition.\n",
        "np.random.seed(12)\n",
        "init = (np.random.random(N)>0.5).astype(np.uint8)\n",
        "cells = cellular_automaton(rule, T, init)\n",
        "\n",
        "# create animation\n",
        "ani = make_animation1d(cells)\n",
        "\n",
        "# display the animation\n",
        "HTML(ani.to_html5_video())"
      ]
    },
    {
      "cell_type": "markdown",
      "metadata": {
        "id": "gWXv90D1kgD8"
      },
      "source": [
        "[Rule 30](https://en.wikipedia.org/wiki/Rule_30) is a notable one due to its striking resemblance to biological shell patterns (See [here](https://www.wolframscience.com/nks/p423--biological-pigmentation-patterns/) for more examples)! Try and experiment with different rules: How many possible rules are there in 1D?"
      ]
    },
    {
      "cell_type": "markdown",
      "metadata": {
        "id": "lzH33cQjlqZZ"
      },
      "source": [
        "## Cellular Automata in 2D\n",
        "The principle of update rules based on nearest-neighbor states can also be extended to 2D. Two types of neighborhoods are commonly considered: a 5-cell (von Neumann) and a 9-cell (Moore) neighboorhood.\n",
        "![neighborhoods](https://raw.githubusercontent.com/yue-sun/generative-art/d3_cell_automata/03_wednesday/figs/2d_neigh.png)\n",
        "\n",
        "Here we will consider a two examples of cellular automata in 2D: Conway's Game of Life, and diffusion-limited aggregation.\n",
        "\n",
        "## Conway's Game of Life\n",
        "\n",
        "Conway's Game of Life is a 2D cellular automaton that obeys the following rules for updating cell states:\n",
        "1. A live cell with less than two or more than three live neighbors dies in the next iteration (under and overpopulation effects).\n",
        "2. A dead cell with exactly three live neighbors becomes a live cell in the next iteration (reproduction).\n",
        "3. All other cell states remain unchanged.\n",
        "\n",
        "As the system evolves from an initial state, it can exhibit a wide variety of motifs, some of which occur frequently. Some common patterns are **still lifes**, which do not change in the next iteration, **oscillators**, which are periodic after some number of iterations, and **spaceships**, which translate in space. A summary of frequently occurring patterns can be found [here](https://en.wikipedia.org/wiki/Conway%27s_Game_of_Life#Examples_of_patterns).\n",
        "\n",
        "The function below implements the rules for Conway's Game of Life. Again, we'll make use of convolution to efficiently count the number of live cells in each cell neighborhood. The following convolution kernel allows us to compute the sum of all neighboring cell states, therefore giving us the number of neighboring live cells:\n",
        "\n",
        "$$\n",
        "\\begin{pmatrix}\n",
        "1 & 1 & 1 \\\\\n",
        "1 & 0 & 1 \\\\\n",
        "1 & 1 & 1\n",
        "\\end{pmatrix}\n",
        "$$\n",
        "\n",
        "Though different from the traditional Game of Life, here we will also use periodic boundary conditions to keep our cells bounded.\n"
      ]
    },
    {
      "cell_type": "code",
      "execution_count": null,
      "metadata": {
        "id": "PCsSqizCEIAn"
      },
      "outputs": [],
      "source": [
        "from scipy.signal import convolve2d\n",
        "\n",
        "def game_of_life(steps, init):\n",
        "    \"\"\"Simulate Conway's game of life.\n",
        "    steps - the number of iterations to perform.\n",
        "    init - the initial state of the cells.\n",
        "    \"\"\"\n",
        "    cells = np.zeros((steps+1, init.shape[0], init.shape[1]), dtype=np.uint8)\n",
        "    cells[0] = np.copy(init)\n",
        "\n",
        "    # Set up convolution kernel for summing up neighbor states in a Moore neighborhood,\n",
        "    # excluding the center cell's state.\n",
        "    kernel = np.ones((3,3), dtype=int); kernel[1,1] = 0\n",
        "    \n",
        "    def step(cells_prev, cells):\n",
        "        # copy the current cell states\n",
        "        cells[:] = cells_prev[:]\n",
        "\n",
        "        # Use convolution to compute the neighbor sums in a Moore neighborhood\n",
        "        \n",
        "        neigh_sum = convolve2d(cells_prev, kernel,\n",
        "                                 mode = 'same',\n",
        "                                 boundary = 'wrap') # periodic boundaries\n",
        "        # Apply rules:\n",
        "        # 1. A live cell with exactly two or three live neighbours survives\n",
        "        # (others die due to over or under population).\n",
        "        # 2. A dead cell with exactly three live neighbours becomes a live cell (reproduction).\n",
        "        cells[(cells_prev == 1)&((neigh_sum < 2)|(neigh_sum > 3))] = 0\n",
        "        cells[(cells_prev == 0)&(neigh_sum == 3)] = 1\n",
        "        \n",
        "    # Apply the step function iteratively.\n",
        "    for i in range(steps):\n",
        "        step(cells[i], cells[i+1])\n",
        "    return cells"
      ]
    },
    {
      "cell_type": "markdown",
      "source": [
        "Let's generate a random initial state for our game. In order to avoid too many single live cells with no neighbors, which disappear after one iteration, we use the ```binary_blobs``` library function to produce some larger cell clusters."
      ],
      "metadata": {
        "id": "BHNvIY19yJ4T"
      }
    },
    {
      "cell_type": "code",
      "execution_count": null,
      "metadata": {
        "id": "USv1gaT2HkUS"
      },
      "outputs": [],
      "source": [
        "from skimage.data import binary_blobs\n",
        "\n",
        "N = 101\n",
        "T = 200\n",
        "\n",
        "init = binary_blobs(N, blob_size_fraction=5./N, volume_fraction=5./N)\n",
        "plot_cells(init)"
      ]
    },
    {
      "cell_type": "markdown",
      "source": [
        "Let's run the simulation!"
      ],
      "metadata": {
        "id": "e20cBIKQyycb"
      }
    },
    {
      "cell_type": "code",
      "execution_count": null,
      "metadata": {
        "id": "z0G6dnE478rr"
      },
      "outputs": [],
      "source": [
        "# run the simulation and visualize the last frame\n",
        "cells = game_of_life(T, init)\n",
        "plot_cells(cells[-1]) # plot the last frame"
      ]
    },
    {
      "cell_type": "markdown",
      "metadata": {
        "id": "hrmXZTYqIS_U"
      },
      "source": [
        "Next we add an animation routine to visualize the evolution of the system:"
      ]
    },
    {
      "cell_type": "code",
      "execution_count": null,
      "metadata": {
        "id": "J8Y2nRr9tQq7"
      },
      "outputs": [],
      "source": [
        "#generate a sequence of plots assembled into an animation.\n",
        "def make_animation2d(cells, vmin=0, vmax=1, cmap=plt.cm.viridis, skip=1):\n",
        "    frames = len(cells)//skip\n",
        "    fig, ax = plt.subplots(1,1,figsize=(6,6))\n",
        "    im = ax.imshow(cells[0], vmin=vmin, vmax=vmax, interpolation='nearest', cmap=cmap)\n",
        "    ax.axis('off'); fig.tight_layout()\n",
        "\n",
        "    def animate(i):\n",
        "        '''Plot updates for animation.'''\n",
        "        im.set_array(cells[i*skip])\n",
        "        return im,\n",
        "\n",
        "    ani = animation.FuncAnimation(fig, animate, frames=frames, interval=64, blit=True)\n",
        "    plt.close(fig)\n",
        "    return ani"
      ]
    },
    {
      "cell_type": "code",
      "execution_count": null,
      "metadata": {
        "id": "LJGl7Bo_IWTl"
      },
      "outputs": [],
      "source": [
        "# create animation\n",
        "ani = make_animation2d(cells)\n",
        "\n",
        "# display the animation\n",
        "HTML(ani.to_html5_video())"
      ]
    },
    {
      "cell_type": "markdown",
      "metadata": {
        "id": "fAMsrGQ9h-Lq"
      },
      "source": [
        "### Methuselahs\n",
        "\n",
        "Methuselahs are initial seed patterns in Conway's Game of Life that take a long time to stabilize (or reach a dynamic steady state). A few examples are provided as images on the course website that can be loaded in to initialize the simulation. You can find a list of notable methuselahs [here](https://conwaylife.com/wiki/List_of_long-lived_methuselahs)!"
      ]
    },
    {
      "cell_type": "code",
      "execution_count": null,
      "metadata": {
        "id": "Ke1W4pdkZ6qi"
      },
      "outputs": [],
      "source": [
        "# path to test images on course website\n",
        "path = \"https://raw.githubusercontent.com/yue-sun/generative-art/d3_cell_automata/03_wednesday/figs/methuselahs/\"\n",
        "\n",
        "init = imread(path+'queen_bee_gliders.png', as_gray=True).astype(np.uint8)\n",
        "#init = imread(path+'thunderbird.png', as_gray=True).astype(np.uint8)\n",
        "#init = imread(path+'pi_heptomino.png', as_gray=True).astype(np.uint8)\n",
        "plot_cells(init)"
      ]
    },
    {
      "cell_type": "code",
      "execution_count": null,
      "metadata": {
        "id": "i6V5eo4Ba2DE"
      },
      "outputs": [],
      "source": [
        "T = 300\n",
        "cells = game_of_life(T, init)\n",
        "\n",
        "# create animation\n",
        "ani = make_animation2d(cells)\n",
        "\n",
        "# display the animation\n",
        "HTML(ani.to_html5_video())"
      ]
    },
    {
      "cell_type": "markdown",
      "metadata": {
        "id": "zeH1CV6Uy52l"
      },
      "source": [
        "## Diffusion-Limited Aggregation\n",
        "The final application of cellular automata we'll consider here is diffusion-limited aggregation (DLA). This model dates back to 1981 in a [paper by Witten and Sander](https://ifisc.uib-csic.es/~tomas/MFCS/EdenDLA/PhysRevLett.47.1400.pdf), who proposed the model as a way to study dendritic structures of metal particles. In DLA, we imagine there are particles housed on a grid of cells. Each particle may be mobile or fixed, and each grid cell may be empty or occupied. When mobile particles come into contact with a fixed particle, they stick! We thus use three colors to refer to three different possible cell states: empty cell (0), cell with mobile particle (1), cell with fixed particle (2). DLA can be used to model processes like crystal growth through the diffusion of ions or molecules, or the condensation of water vapor to form snowflakes. The tree-like structures that develop in DLA systems also have fractal characteristics.\n",
        "\n",
        "![dla_grid](https://raw.githubusercontent.com/yue-sun/generative-art/d3_cell_automata/03_wednesday/figs/dla_grid.png)\n",
        "\n",
        "The rules are as follows:\n",
        "1. If a mobile particle neighbors at least one fixed particle within its Moore neighborhood, it becomes fixed.\n",
        "2. If a mobile particle does not neighbor a fixed particle, it moves to an empty cell in its neighborhood, chosen at random. If no empty cells are available, the mobile particle stays in its current position.\n",
        "\n",
        "![dla_rules](https://raw.githubusercontent.com/yue-sun/generative-art/d3_cell_automata/03_wednesday/figs/dla_rules.png)\n",
        "\n",
        "In contrast to the 1D cellular automata and Conway's Game of Life, these rules are *not* simultaneous: Each particle is updated one at a time. That is, when one particle moves or becomes fixed, subsequent particles must refer to the new position and state of that particle.\n",
        "\n",
        "We will use two separate data structures to keep track of the particles and cells. We'll create an $N\\times 2$ array that stores the $(j,k)$ index of each particle's location:\n",
        "\n",
        "$$\n",
        "\\begin{matrix}\n",
        "\\text{particle 1} \\\\\n",
        "\\text{particle 2} \\\\\n",
        "\\vdots \\\\\n",
        "\\text{particle }N\n",
        "\\end{matrix}\n",
        "\\begin{bmatrix}\n",
        "j_1 & k_1 \\\\\n",
        "j_2 & k_2 \\\\\n",
        "\\vdots & \\vdots \\\\\n",
        "j_N & k_N\n",
        "\\end{bmatrix},\n",
        "$$\n",
        "\n",
        "and an $m\\times n$ grid of cells storing the cell states: empty (0), occupied by a mobile particle (1), or occupied by a fixed particle (2):\n",
        "\n",
        "$$\n",
        "\\begin{bmatrix}\n",
        "0 & 1 & 0 & \\cdots & 0 & 0 & 1 \\\\\n",
        "1 & 0 & 0 & \\cdots & 2 & 1 & 0 \\\\\n",
        "& & & \\vdots & & & \\\\\n",
        "1 & 2 & 2 & \\cdots & 1 & 0 & 0\n",
        "\\end{bmatrix}.\n",
        "$$\n",
        "\n",
        "The particle array allows us to quickly iterate over only the cells containing particles. The cell grid then allows us to retrieve the type of particle (mobile or fixed) and determine its neighbors.\n",
        "\n",
        "Let's start by defining a function to initialize an $m\\times n$ grid and populate it with $N$ particles, $N_f$ of which are fixed.\n",
        "\n"
      ]
    },
    {
      "cell_type": "code",
      "execution_count": null,
      "metadata": {
        "id": "iD_Ypze8eKUc"
      },
      "outputs": [],
      "source": [
        "def initialize_dla(m, n, N, Nf=1, seed=12, proba=None):\n",
        "    \"\"\"Initialize a grid and particles for diffusion-limited aggregation.\n",
        "    m, n - grid dimensions (rows and columns).\n",
        "    N - number of total particles, must be smaller than m times n.\n",
        "    Nf - number of initial fixed particles.\n",
        "    seed - random seed.\n",
        "    proba - an m by n array of the relative probability with which each grid cell\n",
        "            should be chosen, for the mobile particles.\n",
        "    \"\"\"\n",
        "    if N > m*n:\n",
        "        raise ValueError(\"Number of particles must be smaller than m times n.\")\n",
        "\n",
        "    if proba is None:\n",
        "        # Each grid cell is equally likely to be chosen.\n",
        "        proba=np.ones((m,n))\n",
        "    proba = proba.ravel() # reshape into linear array.\n",
        "\n",
        "    np.random.seed(seed)\n",
        "\n",
        "    # Enumerate all possible particle locations (j,k).\n",
        "    spots = np.array([index_pair for index_pair in np.ndindex(m, n)])\n",
        "\n",
        "    # Select the positions of the Nf fixed particles.\n",
        "    # If Nf = 1, reserve the center spot (m//2,n//2) for the initial particle.\n",
        "    if Nf == 1:\n",
        "        fixed_spots = spots[n*(m//2)+(n//2)]\n",
        "        spots = np.delete(spots, n*(m//2)+(n//2), axis=0) # remove chosen spot from selection\n",
        "        proba = np.delete(proba, n*(m//2)+(n//2), axis=0)\n",
        "    \n",
        "    # Otherwise, initialize Nf seed particles randomly.\n",
        "    else:\n",
        "        fixed_indices = np.random.choice(m*n, size=Nf, replace=False) # choose Nf spots at random\n",
        "        fixed_spots = spots[fixed_indices]\n",
        "        spots = np.delete(spots, fixed_indices, axis=0) # remove chosen spots from selection\n",
        "        proba = np.delete(proba, fixed_indices, axis=0)\n",
        "    \n",
        "    # Randomly initialize the N-Nf mobile particles on the remaining spots.\n",
        "    mobile_indices = np.random.choice(m*n-Nf, size=N-Nf, replace=False, p=proba/np.sum(proba))\n",
        "    mobile_spots = spots[mobile_indices]\n",
        "\n",
        "    # Construct the particles array.\n",
        "    particles = np.zeros((N,2), dtype=int)\n",
        "    particles[:Nf] = fixed_spots\n",
        "    particles[Nf:] = mobile_spots\n",
        "\n",
        "    # Construct and populate the grid of cell states.\n",
        "    # (0=empty, 1=mobile particle, 2=fixed particle)\n",
        "    cells = np.zeros((m,n), dtype=np.uint8)\n",
        "    for i in range(N):\n",
        "        j,k = particles[i]\n",
        "        if i < Nf:\n",
        "            cells[j,k] = 2 # fixed particles\n",
        "        else:\n",
        "            cells[j,k] = 1 # mobile particles\n",
        "\n",
        "    return particles, cells # return the initial state of our two data structures\n"
      ]
    },
    {
      "cell_type": "code",
      "execution_count": null,
      "metadata": {
        "id": "ottDPMqCjx3b"
      },
      "outputs": [],
      "source": [
        "m, n = 101, 101\n",
        "N, Nf = 3000, 1\n",
        "seed = 12\n",
        "particles, init = initialize_dla(m, n, N, Nf=Nf, seed=seed)\n",
        "plot_cells(init)"
      ]
    },
    {
      "cell_type": "markdown",
      "source": [
        "Finally, we define a routine to simulate diffusion-limited aggregation according to the defined rules."
      ],
      "metadata": {
        "id": "onRpnSP_EdYo"
      }
    },
    {
      "cell_type": "code",
      "execution_count": null,
      "metadata": {
        "id": "mPeBDqAxy5Je"
      },
      "outputs": [],
      "source": [
        "def diffusion_limited_aggregation(particles, init, T, seed=12):\n",
        "    \"\"\"Simulate diffusion-limited-aggregation.\n",
        "    particles - array of initial particle positions (j,k).\n",
        "    init - initial grid of cell states.\n",
        "    T - number of time steps.\n",
        "    seed - random seed.\n",
        "    \"\"\"\n",
        "    np.random.seed(seed)\n",
        "\n",
        "    # Set up grid for tracking cell states in time, and fill the initial state.\n",
        "    m, n = init.shape\n",
        "    cells = np.zeros((T+1,m,n), dtype=np.uint8)\n",
        "    cells[0] = np.copy(init)\n",
        "\n",
        "    # Particle index list to shuffle for random traversal order each time.\n",
        "    N = len(particles)\n",
        "    idx = np.arange(N).astype(int)\n",
        "    \n",
        "    @njit\n",
        "    def step(cells_prev, cells, particles, idx):\n",
        "        # copy the current cell states\n",
        "        cells[:] = cells_prev[:]\n",
        "\n",
        "        # loop over all particles\n",
        "        for i in idx:\n",
        "            j,k = particles[i]\n",
        "            neigh_spots = np.array([((j-1)%m,k), (j,(k-1)%n),\n",
        "                                    ((j+1)%m,k), (j,(k+1)%n),\n",
        "                                    ((j-1)%m,(k-1)%n), ((j-1)%m,(k+1)%n),\n",
        "                                    ((j+1)%m,(k-1)%n), ((j+1)%m,(k+1)%n)]) # Moore neighbors\n",
        "\n",
        "            # If a fixed particle, particle stays fixed (nothing to do).\n",
        "            # Only need to take action if mobile particle:\n",
        "            if cells[j,k] == 1:\n",
        "                # check the neighbors for any fixed cells\n",
        "                neighs = np.array([cells[spot[0],spot[1]] for spot in neigh_spots])\n",
        "                \n",
        "                # if at least one neighbor is fixed, particle becomes fixed\n",
        "                if np.any(neighs == 2):\n",
        "                    cells[j,k] = 2\n",
        "\n",
        "                # otherwise, randomly move the particle into an empty neighboring cell,\n",
        "                # if an empty cell exists.\n",
        "                else:\n",
        "                    if np.any(neighs == 0):\n",
        "                        empty_spots = neigh_spots[neighs == 0]\n",
        "                        particles[i] = empty_spots[np.random.choice(len(empty_spots), size=1)]\n",
        "                        cells[j,k] = 0\n",
        "                        p, q = particles[i]\n",
        "                        cells[p,q] = 1\n",
        "\n",
        "    # Apply the step function iteratively.\n",
        "    for i in range(T):\n",
        "        # loop through particles in random order each time\n",
        "        np.random.shuffle(idx)\n",
        "        step(cells[i], cells[i+1], particles, idx)\n",
        "        \n",
        "    return cells"
      ]
    },
    {
      "cell_type": "code",
      "execution_count": null,
      "metadata": {
        "id": "9mE3TtKW60bt"
      },
      "outputs": [],
      "source": [
        "m, n = 301, 301\n",
        "N, Nf = 15000, 5\n",
        "seed = 0\n",
        "\n",
        "particles, init = initialize_dla(m, n, N, Nf=Nf, seed=seed)\n",
        "\n",
        "plot_cells(init)\n",
        "\n",
        "T = 1000\n",
        "cells = diffusion_limited_aggregation(particles, init, T, seed=seed)"
      ]
    },
    {
      "cell_type": "code",
      "execution_count": null,
      "metadata": {
        "id": "gVXBjRK__zUL"
      },
      "outputs": [],
      "source": [
        "# create animation\n",
        "ani = make_animation2d(cells, vmin=0, vmax=2, skip=5) # skip=5 animates every 5th frame\n",
        "\n",
        "# display the animation\n",
        "HTML(ani.to_html5_video())"
      ]
    },
    {
      "cell_type": "markdown",
      "source": [
        "We can also only color cells with fixed particles, and vary the color with the time at which cells become incorporated."
      ],
      "metadata": {
        "id": "NcZ2smD3FjX7"
      }
    },
    {
      "cell_type": "code",
      "execution_count": null,
      "metadata": {
        "id": "zNrtwOCGPi_f"
      },
      "outputs": [],
      "source": [
        "fixed_cells = (cells == 2).astype(float)\n",
        "\n",
        "for i in range(1,T+1):\n",
        "    fixed_cells[i] *= (T-i)/T\n",
        "    fixed_cells[i][fixed_cells[i-1] > 0] = fixed_cells[i-1][fixed_cells[i-1] > 0]"
      ]
    },
    {
      "cell_type": "code",
      "execution_count": null,
      "metadata": {
        "id": "vTnB4cETP47N"
      },
      "outputs": [],
      "source": [
        "# create animation\n",
        "ani = make_animation2d(fixed_cells, vmin=0, vmax=1, skip=5)\n",
        "\n",
        "# display the animation\n",
        "HTML(ani.to_html5_video())"
      ]
    },
    {
      "cell_type": "markdown",
      "metadata": {
        "id": "Ba4tCe2Y4w_7"
      },
      "source": [
        "Play around with the simulation - how do the branching patterns change when there is a higher or lower density of particles?\n",
        "\n",
        "# Seeding with an image\n",
        "\n",
        "Let's vary the distribution of mobile particles across the grid by seeding our initial state with an image! A set of sample images is provided on the course website:"
      ]
    },
    {
      "cell_type": "code",
      "execution_count": null,
      "metadata": {
        "id": "kBufkhk34wZt"
      },
      "outputs": [],
      "source": [
        "# path to test images on course website\n",
        "path = \"https://raw.githubusercontent.com/yue-sun/generative-art/main/03_wednesday/figs/seeds/\"\n",
        "\n",
        "im = imread(path+\"dragon.png\", as_gray=True)\n",
        "m, n = im.shape\n",
        "print(\"Image dimensions:\", m, n)\n",
        "\n",
        "fig, ax = plt.subplots(1,1,figsize=(5,5))\n",
        "ax.imshow(im, interpolation='nearest')\n",
        "ax.axis('equal')\n",
        "ax.axis('off')\n",
        "plt.show()"
      ]
    },
    {
      "cell_type": "markdown",
      "source": [
        "Suppose we'd like the cells inside our shape to be three times more likely to be selected as the location of a mobile particle in the initial configuration. Let's define an array of the same size as our image that encodes these odds:"
      ],
      "metadata": {
        "id": "DCqAjDLCGbUL"
      }
    },
    {
      "cell_type": "code",
      "execution_count": null,
      "metadata": {
        "id": "5k7C3CqvA__3"
      },
      "outputs": [],
      "source": [
        "proba = np.ones(im.shape)\n",
        "proba[im < 0.5] = 3"
      ]
    },
    {
      "cell_type": "markdown",
      "source": [
        "Initialize the cell states with the new sampling probabilities:"
      ],
      "metadata": {
        "id": "2OdpIIkCGzOA"
      }
    },
    {
      "cell_type": "code",
      "execution_count": null,
      "metadata": {
        "id": "mtT1YqfFjzXN"
      },
      "outputs": [],
      "source": [
        "seed = 0\n",
        "particles, init = initialize_dla(m, n, 15000, Nf=1, seed=seed, proba=proba)\n",
        "\n",
        "plot_cells(init)"
      ]
    },
    {
      "cell_type": "code",
      "execution_count": null,
      "metadata": {
        "id": "nQYRoB2LoFLc"
      },
      "outputs": [],
      "source": [
        "T = 1000\n",
        "cells = diffusion_limited_aggregation(particles, init, T, seed=seed)\n",
        "plot_cells(cells[-1])"
      ]
    },
    {
      "cell_type": "code",
      "execution_count": null,
      "metadata": {
        "id": "-UbMAZtpoOsI"
      },
      "outputs": [],
      "source": [
        "# create animation\n",
        "ani = make_animation2d(cells, vmin=0, vmax=2, skip=5)\n",
        "\n",
        "# display the animation\n",
        "HTML(ani.to_html5_video())"
      ]
    },
    {
      "cell_type": "code",
      "execution_count": null,
      "metadata": {
        "id": "a-Gs2j_Up6ey"
      },
      "outputs": [],
      "source": [
        "fixed_cells = (cells == 2).astype(float)\n",
        "\n",
        "for i in range(1,T+1):\n",
        "    fixed_cells[i] *= (T-i)/T\n",
        "    fixed_cells[i][fixed_cells[i-1] > 0] = fixed_cells[i-1][fixed_cells[i-1] > 0]\n",
        "\n",
        "# create animation\n",
        "ani = make_animation2d(fixed_cells, vmin=0, vmax=1, skip=5)\n",
        "\n",
        "# display the animation\n",
        "HTML(ani.to_html5_video())"
      ]
    },
    {
      "cell_type": "markdown",
      "metadata": {
        "id": "KReArzu8y-3z"
      },
      "source": [
        "## References\n",
        "- 1D Cellular automata: http://mathworld.wolfram.com/ElementaryCellularAutomaton.html\n",
        "- Conway's Game of Life: https://en.wikipedia.org/wiki/Conway%27s_Game_of_Life\n",
        "- Diffusion-Limited Aggregation: Witten Jr, T. A., & Sander, L. M. (1981). Diffusion-limited aggregation, a kinetic critical phenomenon. Physical review letters, 47(19), 1400. https://ifisc.uib-csic.es/~tomas/MFCS/EdenDLA/PhysRevLett.47.1400.pdf"
      ]
    }
  ],
  "metadata": {
    "colab": {
      "provenance": [],
      "include_colab_link": true
    },
    "kernelspec": {
      "display_name": "Python 3",
      "language": "python",
      "name": "python3"
    },
    "language_info": {
      "codemirror_mode": {
        "name": "ipython",
        "version": 3
      },
      "file_extension": ".py",
      "mimetype": "text/x-python",
      "name": "python",
      "nbconvert_exporter": "python",
      "pygments_lexer": "ipython3",
      "version": "3.8.3"
    }
  },
  "nbformat": 4,
  "nbformat_minor": 0
}