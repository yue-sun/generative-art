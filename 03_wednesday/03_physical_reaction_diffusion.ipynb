{
 "cells": [
  {
   "cell_type": "markdown",
   "metadata": {},
   "source": [
    "[![Open In Colab](https://colab.research.google.com/assets/colab-badge.svg)](http://colab.research.google.com/github/yue-sun/generative-art/blob/main/03_wednesday/03_physical_reaction_diffusion.ipynb)"
   ]
  },
  {
   "cell_type": "markdown",
   "metadata": {},
   "source": [
    "# Gray–Scott Model of Reaction–Diffusion Patterns"
   ]
  },
  {
   "cell_type": "markdown",
   "metadata": {},
   "source": [
    "![reaction-diffusion](https://raw.githubusercontent.com/yue-sun/generative-art/master/03_wednesday/figs/reaction_diffusion.png)\n",
    "\n",
    "The Gray–Scott model of reaction–diffusion models two interacting components, $U$ and $V$ with concentrations $u$ and $v$ respectively, that both react and diffuse on a 2D grid. This simple model can simulate complex, dynamic, and mesmerizing spatial–temporal patterns like spots, stripes, and mitosis. In this notebook, we will build an interactive Python Gray–Scott simulator with varying patterns and color palettes."
   ]
  },
  {
   "cell_type": "markdown",
   "metadata": {},
   "source": [
    "## A little bit of math and physics\n",
    "\n",
    "Before we start coding, let us delve into the formulation of the Gray–Scott model to see how reaction, diffusion, and other parameters impact the concentrations $u$ and $v$. As implied by the name, $U$ and $V$ react with each other and diffuse in space.\n",
    "\n",
    "![gray-scott-label](https://raw.githubusercontent.com/yue-sun/generative-art/master/03_wednesday/figs/gray_scott_label.png)\n",
    "\n",
    "The reaction between the two components is given by:\n",
    "$$\n",
    "\\begin{aligned}\n",
    "U + 2V &\\rightarrow 3V \\\\\n",
    "V &\\rightarrow P\n",
    "\\end{aligned}\n",
    "$$\n",
    "where $P$ represents an inert product that depletes the amount of $V$ present. The evolution of concentrations $u$ and $v$ with respect to (w.r.t.) time is given by the following system of partial differential equations (PDEs):\n",
    "\n",
    "![gray-scott-eq](https://raw.githubusercontent.com/yue-sun/generative-art/master/03_wednesday/figs/gray_scott_eq.png)\n",
    "\n",
    "Let's break down the contributions to these equations.\n",
    "\n",
    "### Reaction\n",
    "\n",
    "According to the chemical reaction, one $U$ and two $V$ produce $3V$; as a result, the reaction _rate_ is proportional to $uv^2$. This reaction effectively converts $U$ into $V$: the increase in $v$ is equivalent to the decrease in $u$.\n",
    "\n",
    "### Diffusion\n",
    "\n",
    "$D_u$ and $D_v$ represent the diffusion constants of each component (assuming constants for simplicity), and $\\nabla^2$ is the Laplace operator in 2D:\n",
    "$$\n",
    "\\nabla^2=\\frac{\\partial^2}{\\partial x^2}+\\frac{\\partial^2}{\\partial y^2}\n",
    "$$\n",
    "Both $U$ and $V$ respond to the concentrations of their surroundings. Naturally, higher-concentration regions diffuse to lower regions. For example, when the concentration of $U$ is higher at a point than its surroundings, $\\nabla^2u$ will be negative, and $u$ will decrease at that point.\n",
    "\n",
    "### Replenishment\n",
    "\n",
    "$U$ is replenished from the environment in proportion to $f(1-u)$, where $f$ is a constant known as the _feed rate_. This is the first key parameter we will tune to observe different patterns.\n",
    "\n",
    "### Depletion\n",
    "\n",
    "$V$ depletes by forming an inert product $P$. Without depletion, $v$ could increase without limit. This depletion proceeds at a rate proportional to $v$ and the sum $f+k$, where $k$ is a constant known as the _kill rate_. This is the second term we will tune to vary the pattern formation. "
   ]
  },
  {
   "cell_type": "markdown",
   "metadata": {},
   "source": [
    "## A basic Gray–Scott simulator\n",
    "\n",
    "Our goal in this session is to explore the variety of interesting visual patterns this simple yet rich interacting system can exhibit, which have analogs in biological pattern formation. For reference, the following websites offer excellent interactive views of the phase diagram spanned by the $f$ and $k$ parameters (and other neat features!):\n",
    "\n",
    "- **[Reaction Diffusion Explorer Tool](https://www.karlsims.com/rdtool.html)** by [Karl Sims](https://www.karlsims.com/)\n",
    "- **[Reaction-Diffusion by the Gray-Scott Model: Pearson's Parametrization](http://mrob.com/pub/comp/xmorphia/index.html)** by Robert Munafo\n",
    "\n",
    "We will use numerical integration to simulate the Gray–Scott model, which can be broken down into about five steps:\n",
    "\n",
    "0. Import libraries\n",
    "1. Set physical and simulation parameters\n",
    "2. Initialize two concentrations $u$ and $v$\n",
    "3. Convert PDEs into systems of ordinary differential equations (ODEs)\n",
    "4. Define a function for the right-hand side of ODEs\n",
    "5. Use `solve_ivp` to numerically integrate the function w.r.t. time\n",
    "\n",
    "We will start by importing the necessary libraries:"
   ]
  },
  {
   "cell_type": "code",
   "execution_count": null,
   "metadata": {},
   "outputs": [],
   "source": [
    "import numpy as np\n",
    "import matplotlib.pyplot as plt\n",
    "import matplotlib.animation as animation\n",
    "import time\n",
    "import ipywidgets as widgets\n",
    "\n",
    "from skimage.data import binary_blobs\n",
    "from skimage.io import imread\n",
    "from scipy.integrate import solve_ivp\n",
    "from IPython.display import HTML, display"
   ]
  },
  {
   "cell_type": "markdown",
   "metadata": {},
   "source": [
    "Below, we define two helper functions to format and make plots and animations."
   ]
  },
  {
   "cell_type": "code",
   "execution_count": null,
   "metadata": {},
   "outputs": [],
   "source": [
    "def plot_pattern(u, colormap='twilight'):\n",
    "    ''' Plot the concentration as a colored image.\n",
    "        Inputs:\n",
    "            u - grid of concentrations of one component\n",
    "            colormap - an optional specification for a colormap to use\n",
    "        Outputs:\n",
    "            fig, ax, im - handles to figure, axis, and image\n",
    "    '''\n",
    "    fig, ax = plt.subplots(1, 1, figsize=(6,6))\n",
    "    im = ax.imshow(u, cmap=plt.get_cmap(colormap),\n",
    "                   vmin=0.2, vmax=1.0,\n",
    "                   interpolation='bicubic',\n",
    "                   extent=[-1,1,-1,1], alpha=0.8)\n",
    "    ax.tick_params(labelsize=14)\n",
    "    ax.set_xlim(-1, 1)\n",
    "    ax.set_ylim(-1, 1)\n",
    "    ax.axis('off')\n",
    "    ax.grid(False)\n",
    "\n",
    "    return fig, ax, im\n",
    "\n",
    "def animate_pattern(out, colormap='twilight'):\n",
    "    ''' Animate the concentration over time.\n",
    "        Inputs:\n",
    "            out - 3D array of frames\n",
    "            colormap - an optional specification for a colormap to use\n",
    "        Outputs:\n",
    "            ani - handle to animation\n",
    "    '''\n",
    "    frames = out.shape[-1]\n",
    "    fig, ax, im = plot_pattern(out[:,:,0], colormap);\n",
    "\n",
    "    def animate(i):\n",
    "        ''' Plot updates for animation.'''\n",
    "        im.set_array(out[:,:,i])\n",
    "        return im,\n",
    "\n",
    "    ani = animation.FuncAnimation(fig, animate, frames=frames, interval=100, blit=True)\n",
    "    plt.close(fig)\n",
    "    return ani"
   ]
  },
  {
   "cell_type": "markdown",
   "metadata": {},
   "source": [
    "We first initialize our reaction–diffusion system, which requires instantiating two $N\\times N$ grids:\n",
    "- one for the concentration $u$ of the first component\n",
    "- the other for the concentration $v$ of the second component\n",
    "\n",
    "We will use a built-in function `binary_blobs` to generate a binary image of random, blob-like structures. This image indicates the initial concentration values of the two components:\n",
    "- where image is 1, set $u=0.5$ and $v=0.25$\n",
    "- where image is 0, set $u=1$ and $v=0$\n",
    "\n",
    "We also provide an optional argument to invert the background (where image is 0): instead of a $U$-dominant background, we have $V$-dominant instead. Some patterns can only be realized via this inverted type of initialization."
   ]
  },
  {
   "cell_type": "code",
   "execution_count": null,
   "metadata": {},
   "outputs": [],
   "source": [
    "def init_concentrations(N, inverse=False):\n",
    "    ''' Initialize concentrations of a two-components system randomly.'''\n",
    "    mask = binary_blobs(N, blob_size_fraction=0.1, volume_fraction=0.2)\n",
    "    if inverse:\n",
    "        u = np.zeros((N, N)); u[mask] = 0.5\n",
    "        v = np.ones((N, N));  v[mask] = 0.25\n",
    "    else:\n",
    "        u = np.ones((N, N));  u[mask] = 0.5\n",
    "        v = np.zeros((N, N)); v[mask] = 0.25\n",
    "    return u, v"
   ]
  },
  {
   "cell_type": "markdown",
   "metadata": {},
   "source": [
    "Let us start with plotting an example of the initial state. Note that you can change the color palette used for plotting by changing the `colormap` argument in `plot_pattern` to the name of one of these [colormaps](https://matplotlib.org/stable/tutorials/colors/colormaps.html)."
   ]
  },
  {
   "cell_type": "code",
   "execution_count": null,
   "metadata": {},
   "outputs": [],
   "source": [
    "# Initialize\n",
    "N = 128\n",
    "u, v = init_concentrations(N)\n",
    "\n",
    "# Plot the u concentration\n",
    "fig, ax, im = plot_pattern(u, colormap='twilight');"
   ]
  },
  {
   "cell_type": "markdown",
   "metadata": {},
   "source": [
    "Next, we need to define another helper function to discretize the Laplacian of each concentration. For example, $\\nabla^2u$ is:\n",
    "$$\n",
    "\\nabla^2u_{i,j} \\approx \\frac{-4u_{i,j}+u_{i+1,j}+u_{i-1,j}+u_{i,j+1}+u_{i,j-1}}{h^2}\n",
    "$$\n",
    "where $h$ is the lattice spacing. We'll use a square domain on $[-1,1]\\times [-1,1]$ discretized into $N\\times N$ grid points with periodic boundaries; thus our spacing is given by $h=2/N$.\n",
    "\n",
    "You will notice that the sum of the coefficients of the discrete Laplacian is zero. This enforces mass conservation; since the Laplacian of the concentration is proportional to the rate of inflow or outflow from any point in space, the outflow from any given point must equal the sum of inflow contributions that point makes to any of its neighbors. \n",
    "\n",
    "Since we will need to perform two Laplace operations at each integration step, one for each concentration, we define a general function for the Laplace operator that can be repurposed several times."
   ]
  },
  {
   "cell_type": "code",
   "execution_count": null,
   "metadata": {},
   "outputs": [],
   "source": [
    "def laplacian_2d(u, N):\n",
    "    ''' Compute the Laplacian of concentration over a 2D grid.\n",
    "        Inputs:\n",
    "            u - an array of concentrations\n",
    "            N - the system size in each dimension (2D)\n",
    "        Outputs:\n",
    "            lap - the Laplacian of concentration\n",
    "    '''\n",
    "    h = 2./N\n",
    "    invh2 = 1./(h*h)\n",
    "    lap = (-4*u + np.roll(u, 1, axis=0) \\\n",
    "                + np.roll(u, -1, axis=0) \\\n",
    "                + np.roll(u, 1, axis=1) \\\n",
    "                + np.roll(u, -1, axis=1)) * invh2\n",
    "    return lap"
   ]
  },
  {
   "cell_type": "markdown",
   "metadata": {},
   "source": [
    "Our original set of equations is a system of PDEs, but by discretizing the spatial dimensions on an $N\\times N$ grid, we convert our system to a set of ODEs with time as the continuous integration variable. The Gray-Scott system of ODEs is defined in the function ```gray_scott``` below."
   ]
  },
  {
   "cell_type": "code",
   "execution_count": null,
   "metadata": {},
   "outputs": [],
   "source": [
    "def gray_scott(t, y, N, Du, Dv, f, k):\n",
    "    ''' Spatially discretized PDE for the Gray–Scott reaction diffusion system.\n",
    "        Inputs:\n",
    "            t - the current time\n",
    "            y - a flattened array of concentrations u and v\n",
    "            N - the system size in each dimension\n",
    "            Du, Dv - the diffusion constants\n",
    "            f - the feed rate\n",
    "            k - the kill rate\n",
    "        Outputs:\n",
    "            dy - a flattened array of first derivatives of u and v\n",
    "    '''\n",
    "    # Unpack concentrations of each component\n",
    "    u = y[:N*N].reshape(N, N)\n",
    "    v = y[N*N:].reshape(N, N)\n",
    "\n",
    "    # Compute the Laplacians\n",
    "    Lu = laplacian_2d(u, N)\n",
    "    Lv = laplacian_2d(v, N)\n",
    "\n",
    "    # Define the first derivatives of u and v w.r.t. time\n",
    "    du = Du*Lu - u*v*v + f*(1.-u)\n",
    "    dv = Dv*Lv + u*v*v - (f+k)*v\n",
    "\n",
    "    # Concatenate two derivatives into one linear array\n",
    "    dy = np.hstack([du.ravel(), dv.ravel()])\n",
    "    return dy"
   ]
  },
  {
   "cell_type": "markdown",
   "metadata": {},
   "source": [
    "Finally, the function `solve` integrates the ODEs using the function `solve_ivp` from the Python `scipy` library."
   ]
  },
  {
   "cell_type": "code",
   "execution_count": null,
   "metadata": {},
   "outputs": [],
   "source": [
    "def solve(func, ti, tf, nt, yi, args):\n",
    "    ''' Integrates the Gray–Scott model.\n",
    "        Inputs:\n",
    "            func - the function to integrate\n",
    "            ti, tf - start and end integration times\n",
    "            nt - number of evenly spaced output time points in [ti, tf]\n",
    "            yi - initial concentrations [u, v]\n",
    "            args - tuples of model parameters (Du, Dv, a, b, c)\n",
    "            rtol, atol - tolerance for tuning the accuracy of the solver\n",
    "        Outputs:\n",
    "            u - the current concentration of u at the end time\n",
    "    '''\n",
    "    u, v = yi                        # unpack initial concentrations\n",
    "    N = len(u)                       # extract grid dimension\n",
    "    t_eval = np.linspace(ti, tf, nt) # evaluation time points\n",
    "    Du, Dv, f, k = args              # unpack extra arguments\n",
    "\n",
    "    start_time = time.time()         # time the integration\n",
    "\n",
    "    # Integrate the differential equation using finite differences\n",
    "    sol = solve_ivp(lambda t, y: func(t, y, N, Du, Dv, f, k), t_span=[ti, tf],\n",
    "                    y0=np.hstack([u.ravel(), v.ravel()]), t_eval=t_eval, method='RK23')\n",
    "    u = sol.y[:N*N,:].reshape(N, N, len(t_eval))\n",
    "    v = sol.y[N*N:,:].reshape(N, N, len(t_eval))\n",
    "\n",
    "    # Print elapsed time\n",
    "    print('elapsed time (s):', time.time() - start_time)\n",
    "\n",
    "    return u"
   ]
  },
  {
   "cell_type": "code",
   "execution_count": null,
   "metadata": {},
   "outputs": [],
   "source": [
    "# Set parameters\n",
    "Du = 2e-5    # diffusion constant of u\n",
    "Dv = 1e-5    # diffusion constant of v\n",
    "f = 0.058    # feed rate\n",
    "k = 0.065    # kill rate\n",
    "\n",
    "ti = 0       # start time\n",
    "tf = 6000    # end time\n",
    "frames = 100 # number of output time points\n",
    "\n",
    "# Solve and plot u concentration\n",
    "out = solve(gray_scott, ti, tf, frames, [u, v], args=(Du, Dv, f, k))\n",
    "fig, ax, im = plot_pattern(out[:,:,-1], colormap='twilight');"
   ]
  },
  {
   "cell_type": "code",
   "execution_count": null,
   "metadata": {},
   "outputs": [],
   "source": [
    "# Create and display animation\n",
    "ani = animate_pattern(out, colormap='twilight')\n",
    "HTML(ani.to_html5_video())"
   ]
  },
  {
   "cell_type": "markdown",
   "metadata": {},
   "source": [
    "## Adding variations\n",
    "\n",
    "Now that we have set up our integration routine, let us explore some varied patterns of the Gray–Scott model using an interactive widget! The following widget features some presets of the feed and kill rates as starting points. Reference values and type classifications can be found in [Pearson's Classification (Extended) of Gray–Scott System Parameter Values](http://mrob.com/pub/comp/xmorphia/pearson-classes.html)."
   ]
  },
  {
   "cell_type": "code",
   "execution_count": null,
   "metadata": {},
   "outputs": [],
   "source": [
    "@widgets.interact_manual(presets = ['spirals', 'stripes', 'cells', 'worms', 'corals', 'bubbles'])\n",
    "def interactive_menu_plot(presets='spirals'):\n",
    "    h = display(display_id=True)\n",
    "    \n",
    "    # Preset feed and kill rates\n",
    "    spirals = [0.010, 0.047] # type alpha\n",
    "    stripes = [0.026, 0.055] # type gamma\n",
    "    cells   = [0.026, 0.061] # type lambda\n",
    "    worms   = [0.058, 0.065] # type mu\n",
    "    corals  = [0.058, 0.063] # type kappa\n",
    "    bubbles = [0.090, 0.059] # type rho\n",
    "\n",
    "    # Get parameters\n",
    "    f, k = eval(presets)\n",
    "    Du, Dv = 2e-5, 1e-5\n",
    "\n",
    "    # Some patterns need to have V-dominant background\n",
    "    inverse = False\n",
    "    if presets in ['bubbles']:\n",
    "        inverse = True\n",
    "        Du, Dv = 4e-5, 2e-5\n",
    "\n",
    "    # Initialize u and v\n",
    "    N = 128\n",
    "    u, v = init_concentrations(N, inverse)\n",
    "\n",
    "    # Solve\n",
    "    ti, tf = 0, 6000\n",
    "    frames = 100\n",
    "    out = solve(gray_scott, ti, tf, frames, [u, v], args=(Du, Dv, f, k))\n",
    "\n",
    "    # Create and display animation\n",
    "    print('creating animation...')\n",
    "    ani = animate_pattern(out, colormap='twilight')\n",
    "    h.display(HTML(ani.to_html5_video()))"
   ]
  },
  {
   "cell_type": "markdown",
   "metadata": {},
   "source": [
    "To more easily vary the model parameters, we add two sliders to change the feed and kill rates."
   ]
  },
  {
   "cell_type": "code",
   "execution_count": null,
   "metadata": {},
   "outputs": [],
   "source": [
    "feed_slider = widgets.FloatSlider(\n",
    "    value=0.03, min=0.01, max=0.11, step=0.001,\n",
    "    description='Feed rate:', readout_format='.3f',)\n",
    "kill_slider = widgets.FloatSlider(\n",
    "    value=0.057, min=0.04, max=0.07, step=0.001,\n",
    "    description='Kill rate:', readout_format='.3f',)\n",
    "\n",
    "@widgets.interact_manual(f=feed_slider, k=kill_slider, inverse=['True', 'False'])\n",
    "def interactive_slider_plot(f=0.03, k=0.057, inverse='False'):\n",
    "    h = display(display_id=True)\n",
    "\n",
    "    # Initialize u and v\n",
    "    N = 128\n",
    "    u, v = init_concentrations(N, eval(inverse))\n",
    "\n",
    "    # Solve\n",
    "    Du, Dv = 2e-5, 1e-5\n",
    "    ti, tf = 0, 6000\n",
    "    frames = 100\n",
    "    out = solve(gray_scott, ti, tf, frames, [u, v], args=(Du, Dv, f, k))\n",
    "\n",
    "    # Create and display animation\n",
    "    print('creating animation...')\n",
    "    ani = animate_pattern(out, colormap='twilight')\n",
    "    h.display(HTML(ani.to_html5_video()))"
   ]
  },
  {
   "cell_type": "markdown",
   "metadata": {},
   "source": [
    "We can also seed the reaction with an image! A number of different silhouettes are provided in the GitHub repository."
   ]
  },
  {
   "cell_type": "code",
   "execution_count": null,
   "metadata": {},
   "outputs": [],
   "source": [
    "import cv2\n",
    "\n",
    "# Convert a black and white image to a mask (resizing as necessary)\n",
    "def init_seed_concentrations(N, image, inverse=False):\n",
    "    ''' Initialize concentrations of a two-components system based on seed image.'''\n",
    "    mask = imread('figs/seeds/'+image+'.png', as_gray=True)\n",
    "    m, n = mask.shape\n",
    "    scale = 128./min(m, n)\n",
    "    width = int(n*scale)\n",
    "    height = int(m*scale)\n",
    "    dim = (width, height)\n",
    "    mask = cv2.resize(mask, dim)\n",
    "    m, n = mask.shape\n",
    "    mask = mask[m//2-N//2:m//2+N//2, n//2-N//2:n//2+N//2]\n",
    "    mask[mask > 0] = 1\n",
    "    mask = np.logical_not(mask)\n",
    "\n",
    "    # Initialize concentrations\n",
    "    if inverse:\n",
    "        u = np.zeros((N, N)); u[mask] = 0.5\n",
    "        v = np.ones((N, N));  v[mask] = 0.25\n",
    "    else:\n",
    "        u = np.ones((N, N));  u[mask] = 0.5\n",
    "        v = np.zeros((N, N)); v[mask] = 0.25\n",
    "    return u, v"
   ]
  },
  {
   "cell_type": "code",
   "execution_count": null,
   "metadata": {},
   "outputs": [],
   "source": [
    "# Run the cell if you are running the notebook on Google Colab\n",
    "!git clone https://github.com/yue-sun/generative-art.git\n",
    "%cd generative-art/03_wednesday\n",
    "# Print contents\n",
    "%ls figs/seeds"
   ]
  },
  {
   "cell_type": "code",
   "execution_count": null,
   "metadata": {},
   "outputs": [],
   "source": [
    "# Initialize u and v based on seed image\n",
    "N = 128\n",
    "u, v = init_seed_concentrations(N, 'shield')\n",
    "plot_pattern(u, colormap='twilight');"
   ]
  },
  {
   "cell_type": "code",
   "execution_count": null,
   "metadata": {},
   "outputs": [],
   "source": [
    "# Set parameters\n",
    "Du, Dv = 2e-5, 1e-5\n",
    "f, k = 0.0545, 0.062\n",
    "ti, tf = 0, 6000\n",
    "frames = 100\n",
    "\n",
    "# Solve and plot u concentration\n",
    "out = solve(gray_scott, ti, tf, frames, [u, v], args=(Du, Dv, f, k))\n",
    "fig, ax, im = plot_pattern(out[:,:,-1], colormap='twilight');"
   ]
  },
  {
   "cell_type": "code",
   "execution_count": null,
   "metadata": {},
   "outputs": [],
   "source": [
    "# Create and display animation\n",
    "ani = animate_pattern(out, colormap='twilight')\n",
    "HTML(ani.to_html5_video())"
   ]
  },
  {
   "cell_type": "markdown",
   "metadata": {},
   "source": [
    "Finally, let us combine everything together with options to add custom color palettes! To design your own colormap, you can add to the Hex color codes in `reaction_diffusion_utils.py`. _You may need to restart the kernel after making adjustments to the file given how Jupyter notebook import works._ We also need to modify `plot_pattern` and `animate_pattern` because the custom colormaps cannot be return by `plt.get_cmap()`."
   ]
  },
  {
   "cell_type": "code",
   "execution_count": null,
   "metadata": {},
   "outputs": [],
   "source": [
    "from reaction_diffusion_utils import custom_cmap\n",
    "\n",
    "def plot_pattern(u, colormap='twilight', custom=False):\n",
    "    ''' Plot the concentration as a colored image.\n",
    "        Inputs:\n",
    "            u - grid of concentrations of one component\n",
    "            colormap - an optional specification for a colormap to use\n",
    "            custom - whether to use built-in or custom colormap\n",
    "        Outputs:\n",
    "            fig, ax, im - handles to figure, axis, and image\n",
    "    '''\n",
    "    fig, ax = plt.subplots(1, 1, figsize=(6,6))\n",
    "    if custom:\n",
    "        cmap=custom_cmap(colormap)\n",
    "    else:\n",
    "        cmap=plt.get_cmap(colormap)\n",
    "    im = ax.imshow(u, cmap=cmap,\n",
    "                   vmin=0.2, vmax=1.0,\n",
    "                   interpolation='bicubic',\n",
    "                   extent=[-1,1,-1,1], alpha=0.8)\n",
    "    ax.tick_params(labelsize=14)\n",
    "    ax.set_xlim(-1, 1)\n",
    "    ax.set_ylim(-1, 1)\n",
    "    ax.axis('off')\n",
    "    ax.grid(False)\n",
    "\n",
    "    return fig, ax, im\n",
    "\n",
    "def animate_pattern(out, colormap='twilight', custom=False):\n",
    "    ''' Animate the concentration over time.\n",
    "        Inputs:\n",
    "            out - 3D array of frames\n",
    "            colormap - an optional specification for a colormap to use\n",
    "            custom - whether to use built-in or custom colormap\n",
    "        Outputs:\n",
    "            ani - handle to animation\n",
    "    '''\n",
    "    frames = out.shape[-1]\n",
    "    fig, ax, im = plot_pattern(out[:,:,0], colormap, custom);\n",
    "\n",
    "    def animate(i):\n",
    "        ''' Plot updates for animation.'''\n",
    "        im.set_array(out[:,:,i])\n",
    "        return im,\n",
    "\n",
    "    ani = animation.FuncAnimation(fig, animate, frames=frames, interval=100, blit=True)\n",
    "    plt.close(fig)\n",
    "    return ani\n",
    "\n",
    "@widgets.interact_manual(presets = ['spirals', 'stripes', 'cells', 'worms', 'corals', 'bubbles'],\n",
    "                         colormaps = ['pastel rainbow', 'great wave', 'girl pearl earring', 'starry night', 'water lilies', 'sunset'],\n",
    "                         seeds = ['dinosaur','dot', 'heart', 'moon', 'pretzel', 'shield'])\n",
    "def interactive_menu_plot(presets='spirals', colormaps='great wave', seeds='shield'):\n",
    "    h = display(display_id=True)\n",
    "    \n",
    "    # Preset feed and kill rates\n",
    "    spirals = [0.010, 0.047] # type alpha\n",
    "    stripes = [0.026, 0.055] # type gamma\n",
    "    cells   = [0.026, 0.061] # type lambda\n",
    "    worms   = [0.058, 0.065] # type mu\n",
    "    corals  = [0.058, 0.063] # type kappa\n",
    "    bubbles = [0.090, 0.059] # type rho\n",
    "\n",
    "    # Get parameters\n",
    "    f, k = eval(presets)\n",
    "    Du, Dv = 2e-5, 1e-5\n",
    "\n",
    "    # Some patterns need to have V-dominant background\n",
    "    inverse = False\n",
    "    if presets in ['bubbles']:\n",
    "        inverse = True\n",
    "        Du, Dv = 4e-5, 2e-5\n",
    "\n",
    "    # Initialize u and v\n",
    "    N = 128\n",
    "    u, v = init_seed_concentrations(N, seeds, inverse)\n",
    "\n",
    "    # Solve\n",
    "    ti, tf = 0, 6000\n",
    "    frames = 100\n",
    "    out = solve(gray_scott, ti, tf, frames, [u, v], args=(Du, Dv, f, k))\n",
    "\n",
    "    # Create and display animation\n",
    "    print('creating animation...')\n",
    "    ani = animate_pattern(out, colormap=colormaps, custom=True)\n",
    "    h.display(HTML(ani.to_html5_video()))"
   ]
  },
  {
   "cell_type": "code",
   "execution_count": null,
   "metadata": {},
   "outputs": [],
   "source": []
  }
 ],
 "metadata": {
  "kernelspec": {
   "display_name": "Python 3 (ipykernel)",
   "language": "python",
   "name": "python3"
  },
  "language_info": {
   "codemirror_mode": {
    "name": "ipython",
    "version": 3
   },
   "file_extension": ".py",
   "mimetype": "text/x-python",
   "name": "python",
   "nbconvert_exporter": "python",
   "pygments_lexer": "ipython3",
   "version": "3.9.12"
  },
  "vscode": {
   "interpreter": {
    "hash": "b0fa6594d8f4cbf19f97940f81e996739fb7646882a419484c72d19e05852a7e"
   }
  }
 },
 "nbformat": 4,
 "nbformat_minor": 2
}
