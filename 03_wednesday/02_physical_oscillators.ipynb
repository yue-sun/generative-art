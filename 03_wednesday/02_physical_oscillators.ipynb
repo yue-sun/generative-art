{
 "cells": [
  {
   "attachments": {},
   "cell_type": "markdown",
   "metadata": {},
   "source": [
    "[![Open In Colab](https://colab.research.google.com/assets/colab-badge.svg)](http://colab.research.google.com/github/yue-sun/generative-art/blob/main/03_wednesday/02_physical_oscillators.ipynb)"
   ]
  },
  {
   "attachments": {},
   "cell_type": "markdown",
   "metadata": {},
   "source": [
    "# Continuous Physical Systems for Swarming and Synchronization"
   ]
  },
  {
   "attachments": {},
   "cell_type": "markdown",
   "metadata": {},
   "source": [
    "![swarm.gif](https://raw.githubusercontent.com/yue-sun/generative-art/master/03_wednesday/figs/swarmalator_header.gif)\n",
    "\n",
    "As we gradually relax the discrete properties of our physical systems to continuous ones, the next model we will look at is the two-dimensional [**Kuramoto model**](https://en.wikipedia.org/wiki/Kuramoto_model) of interacting oscillators. This is a system designed to model synchronization, such as of circadian systems of plants and animals. We will simulate three variations of the Kuramoto model:\n",
    "- A basic version where oscillators are fixed in space\n",
    "- A generalized version (also known as the _Swarmalator_ model) where oscillators can move freely in space\n",
    "- An even more generalized version with additional external forces\n",
    "\n",
    "Much like the cells in our cellular automata, here we consider a lattice of oscillators which interact with one another. However, rather than assigning a binary state, $0$ or $1$, each oscillator carries a continuous state - _a phase_ - which varies from $0$ to $2\\pi$. These phases evolve continuously in time, governed by an ordinary differential equation (ODE) which prescribes their evolution based on nearest-neighbor interactions.\n",
    "\n",
    "![swarm.gif](https://raw.githubusercontent.com/yue-sun/generative-art/master/03_wednesday/figs/ca_vs_kuramoto.png)\n",
    "\n",
    "We will follow the same numerical integration approach to simulate the Kuramoto models:\n",
    "\n",
    "0. import libraries\n",
    "1. set physical and simulation parameters\n",
    "2. initialize variables (e.g. phase and/or positions of oscillators)\n",
    "3. define a function for the ODE\n",
    "4. numerically integrate with `solve_ivp`\n",
    "\n",
    "In visualizations, we will color each oscillators with an RGB value corresponding to its phase, i.e. colors represent phases."
   ]
  },
  {
   "attachments": {},
   "cell_type": "markdown",
   "metadata": {},
   "source": [
    "## A basic Kuramoto model (fixed in space)"
   ]
  },
  {
   "attachments": {},
   "cell_type": "markdown",
   "metadata": {},
   "source": [
    "First, let us import some necessary libraries."
   ]
  },
  {
   "cell_type": "code",
   "execution_count": null,
   "metadata": {},
   "outputs": [],
   "source": [
    "import numpy as np\n",
    "from numba import njit # enable compiling for speedup\n",
    "from scipy.integrate import solve_ivp\n",
    "from scipy.signal import convolve2d\n",
    "import matplotlib.pyplot as plt\n",
    "import matplotlib.animation as animation\n",
    "from matplotlib.colors import Normalize\n",
    "import ipywidgets as widgets\n",
    "from IPython.display import HTML, display"
   ]
  },
  {
   "attachments": {},
   "cell_type": "markdown",
   "metadata": {},
   "source": [
    "Before we delve into the mathematical model, let us write a function to randomly initialize a $N\\times N$ lattice of such oscillators, with random phases in the range $[0,2\\pi)$.\n",
    "> Note: The `numpy` function `np.random.rand(N,N)` will return an $N\\times N$ array of random numbers in the range $[0,1)$ and `np.pi` returns the value of $\\pi$."
   ]
  },
  {
   "cell_type": "code",
   "execution_count": null,
   "metadata": {},
   "outputs": [],
   "source": [
    "def init_kuramoto(N, seed):\n",
    "    ''' Initialize an NxN lattice of oscillators with random phases.'''\n",
    "    # Set random seed\n",
    "    np.random.seed(seed)\n",
    "    # Create lattice\n",
    "    lat = 2*np.pi * np.random.rand(N, N)\n",
    "    return lat"
   ]
  },
  {
   "attachments": {},
   "cell_type": "markdown",
   "metadata": {},
   "source": [
    "Next, we need to create helper functions for plotting and animation."
   ]
  },
  {
   "cell_type": "code",
   "execution_count": null,
   "metadata": {},
   "outputs": [],
   "source": [
    "def plot_kuramoto(theta, colormap='hsv'):\n",
    "    ''' Plot a single snapshot of the Kuramoto model via\n",
    "        a lattice of oscillators (phases) as a colored image.\n",
    "        Inputs:\n",
    "            theta - the array of oscillator phases\n",
    "            colormap - an optional specification for a colormap to use\n",
    "        Outputs:\n",
    "            fig, ax, im - handles to figure, axis, and image\n",
    "    '''\n",
    "    fig, ax = plt.subplots(1, 1, figsize=(6,6))\n",
    "    colors = get_colors(theta, colormap)\n",
    "    im = ax.imshow(colors, extent=[-1,1,-1,1])\n",
    "    ax.tick_params(labelsize=14)\n",
    "    ax.set_xlim(-1, 1)\n",
    "    ax.set_ylim(-1, 1)\n",
    "    ax.axis('off')\n",
    "    ax.grid(False)\n",
    "    fig.tight_layout()\n",
    "\n",
    "    return fig, ax, im\n",
    "\n",
    "def animate_kuramoto(out, colormap='hsv'):\n",
    "    ''' Animate the Kuramoto model over time.\n",
    "        Inputs:\n",
    "            out - 3D array of frames\n",
    "            colormap - an optional specification for a colormap to use\n",
    "        Outputs:\n",
    "            ani - handle to animation\n",
    "    '''\n",
    "    frames = out.shape[-1]\n",
    "    fig, ax, im = plot_kuramoto(out[:,:,0], colormap);\n",
    "\n",
    "    def animate(i):\n",
    "        ''' Plot updates for animation.'''\n",
    "        colors = get_colors(out[:,:,i], colormap)\n",
    "        im.set_data(colors)\n",
    "        return im,\n",
    "\n",
    "    ani = animation.FuncAnimation(fig, animate, frames=frames, interval=50, blit=True)\n",
    "    plt.close(fig)\n",
    "    return ani\n",
    "\n",
    "def get_colors(theta, colormap='hsv'):\n",
    "    ''' Calculate RGB colors from a matplotlib colormap by\n",
    "        mapping an array of periodic values (0 to 2*pi) to\n",
    "        RGBA color channels of a matplotlib colormap.\n",
    "        Inputs:\n",
    "            theta - the array of values\n",
    "            colormap - the name of the colormap to use\n",
    "        Outputs:\n",
    "            colors - RGB colors\n",
    "    '''\n",
    "    theta = np.mod(theta, 2*np.pi)         # shift all theta to [0,2*pi], since all values are cyclic\n",
    "    norm = Normalize(vmin=0., vmax=2*np.pi) # set the color range from [0,2*pi]\n",
    "    cmap = plt.get_cmap(colormap)           # get the colormap object\n",
    "    colors = cmap(norm(theta))              # evaluate the colormap to get color channels (RGBA)\n",
    "    colors[..., -1] = 0.8                   # change the opacity\n",
    "    return colors"
   ]
  },
  {
   "attachments": {},
   "cell_type": "markdown",
   "metadata": {},
   "source": [
    "Let us test these helper functions by creating a system of $100\\times100$ oscillators."
   ]
  },
  {
   "cell_type": "code",
   "execution_count": null,
   "metadata": {},
   "outputs": [],
   "source": [
    "# Set parameters\n",
    "N = 100   # lattice size\n",
    "seed = 12 # random seed\n",
    "\n",
    "# Generate the random lattice\n",
    "lat = init_kuramoto(N, seed)\n",
    "\n",
    "# Plot initial snapshot\n",
    "plot_kuramoto(lat);"
   ]
  },
  {
   "attachments": {},
   "cell_type": "markdown",
   "metadata": {},
   "source": [
    "The ordinary differential equation (ODE) governs the evolution of each oscillator's phase $\\theta_i$ is given by:\n",
    "$$\n",
    "\\frac{d\\theta_i}{dt} = \\omega + K\\sum_{j\\in N(i)}\\sin(\\theta_j-\\theta_i)\n",
    "$$\n",
    "where $\\omega$ is a constant angular velocity, and $K$ is a global coupling strength between neighbors. The sum is performed over all oscillators $j$ in the neighborhood $N(i)$ of oscillator $i$:\n",
    "\n",
    "![swarm.gif](https://raw.githubusercontent.com/yue-sun/generative-art/master/03_wednesday/figs/kuramoto_kernel.png)\n",
    "\n",
    "Our goal here is to define a function that takes its inputs ($t$, all $\\theta_i$, and $K$), and returns an array $d\\theta_i/dt$. Since the ODE involves a sum over discrete neighbors, we could use discrete convolution to perform this sum. However, in its current form, $\\sum_{j\\in N(i)}\\sin(\\theta_j-\\theta_i)$ cannot be carried out by convolution since $\\theta_j$ is coupled with $\\theta_i$ in a nonlinear function. So what can we do?\n",
    "\n",
    "Trigonometric identity comes to the rescue! Let us try:\n",
    "$$\n",
    "\\sin(a-b) = \\sin(a)\\cos(b) - \\cos(a)\\sin(b)\n",
    "$$\n",
    "to rewrite the above summation to\n",
    "$$\n",
    "\\sum_{j\\in N(i)}\\sin(\\theta_j-\\theta_i) = \\cos(\\theta_i)\\sum_{j\\in N(i)}\\sin(\\theta_j) - \\sin(\\theta_i)\\sum_{j\\in N(i)}\\cos(\\theta_j)\n",
    "$$\n",
    "given $\\theta_i$ is a constant with respect to (w.r.t.) the summation and can be pulled out. Now we can perform our convolution! While each of the two summations is not linear in $\\theta_i$ and $\\theta_j$, it *is* linear in their individual trigonometric transformations $\\sin(\\theta_i)$ and $\\sin(\\theta_j)$ (and $\\cos(\\theta_i)$ and $\\cos(\\theta_j)$).\n",
    "\n",
    "To make our code more generalizable, we add two small extensions to the ODE by introducing a constant phase shift $\\alpha$ between $\\theta_i$ and $\\theta_j$, and a variable coupling strength $a_{ij}$:\n",
    "$$\n",
    "\\frac{d\\theta_i}{dt} = \\omega + K\\sum_{j\\in N(i)}a_{ij}\\sin(\\theta_j-\\theta_i-\\alpha)\n",
    "$$\n",
    "Grouping $\\theta_i$ and $\\alpha$ together and performing the trigonometric identity again, we can rewrite this updated ODE in a convolution-friendly form:\n",
    "$$\n",
    "\\boxed{\n",
    "\\frac{d\\theta_i}{dt} = \\omega + K\\cos(\\theta_i+\\alpha)\\sum_{j\\in N(i)}a_{ij}\\sin(\\theta_j) - K\\sin(\\theta_i+\\alpha)\\sum_{j\\in N(i)}a_{ij}\\cos(\\theta_j)\n",
    "}\n",
    "$$\n",
    "\n",
    "We implemented the ODE in the function `kuramoto` below. We will start with a von Neumann neighborhood of range $r=2$, which corresponds to the convolution kernel:\n",
    "$$\n",
    "\\begin{bmatrix}\n",
    "0 & 0 & 1 & 0 & 0 \\\\\n",
    "0 & 1 & 1 & 1 & 0 \\\\\n",
    "1 & 1 & 0 & 1 & 1 \\\\\n",
    "0 & 1 & 1 & 1 & 0 \\\\\n",
    "0 & 0 & 1 & 0 & 0 \n",
    "\\end{bmatrix}\n",
    "$$\n",
    "with $a_{ij}=1$ for all $j\\in N(i)$. Notice that the center cell is $0$, as only the neighbors contribute to the summation."
   ]
  },
  {
   "cell_type": "code",
   "execution_count": null,
   "metadata": {},
   "outputs": [],
   "source": [
    "def kuramoto(t, theta, N, w, K, alpha, kernel):\n",
    "    ''' ODE for the Kuramoto oscillator system.\n",
    "        Inputs:\n",
    "            t - the current time\n",
    "            theta - a flattened array of oscillator phases\n",
    "            N - the system size in each dimension\n",
    "            w - the constant angular velocity\n",
    "            K - the global coupling strength\n",
    "            alpha - the phase shift\n",
    "        Outputs:\n",
    "            dtheta - a flattened array of first derivatives of theta\n",
    "    '''\n",
    "    theta = theta.reshape(N, N) # reshape into square format for convolution\n",
    "    sth = np.sin(theta)\n",
    "    cth = np.cos(theta)\n",
    "    sum_sth = convolve2d(sth, kernel, mode='same',\n",
    "                         boundary='wrap') # periodic boundary conditions\n",
    "    sum_cth = convolve2d(cth, kernel, mode='same',\n",
    "                         boundary='wrap') # periodic boundary conditions\n",
    "\n",
    "    # Define the first derivative and return the flattened array\n",
    "    dtheta = w + K*np.cos(theta+alpha)*sum_sth - K*np.sin(theta+alpha)*sum_cth\n",
    "    return dtheta.ravel()"
   ]
  },
  {
   "attachments": {},
   "cell_type": "markdown",
   "metadata": {},
   "source": [
    "Finally, the wrapper function `solve_kuramoto` below integrates the ODE using the function `solve_ivp` from the Python `scipy` library."
   ]
  },
  {
   "cell_type": "code",
   "execution_count": null,
   "metadata": {},
   "outputs": [],
   "source": [
    "def solve_kuramoto(func, ti, tf, nt, thetai, args, rtol=1e-6, atol=1e-6):\n",
    "    ''' Integrates the Kuramoto model.\n",
    "        Inputs:\n",
    "            func - the function to integrate\n",
    "            ti, tf - start and end integration times\n",
    "            nt - number of evenly spaced output time points in [ti, tf]\n",
    "            yi - initial concentrations [u, v]\n",
    "            args - tuples of model parameters\n",
    "            rtol, atol - tolerance for tuning the accuracy of the solver\n",
    "        Outputs:\n",
    "            theta - the current theta at the end time\n",
    "    '''\n",
    "    N = args[0]                              # extract grid dimension\n",
    "    t_eval = np.linspace(ti, tf, nt)         # evaluation time points\n",
    "\n",
    "    # Integrate the differential equation using finite differences (default RK45)\n",
    "    sol = solve_ivp(lambda t, y: func(t, y, *args), t_span=[ti, tf],\n",
    "                    y0=thetai.ravel(), t_eval=t_eval, rtol=rtol, atol=atol)\n",
    "    theta = sol.y.reshape(N, N, len(t_eval)) # collection of all theta snapshots\n",
    "\n",
    "    return theta"
   ]
  },
  {
   "attachments": {},
   "cell_type": "markdown",
   "metadata": {},
   "source": [
    "Let us test our Kuramoto simulation."
   ]
  },
  {
   "cell_type": "code",
   "execution_count": null,
   "metadata": {},
   "outputs": [],
   "source": [
    "# Set model parameters\n",
    "N = 100      # system size\n",
    "alpha = 0.6  # phase shift\n",
    "w = 0.5      # angular velocity\n",
    "K = 0.2      # global coupling strength\n",
    "\n",
    "ti = 0       # start time\n",
    "tf = 60      # end time\n",
    "frames = 120 # number of output time points\n",
    "\n",
    "# Convolution kernel to test: von Neumann neighborhood of radius 2\n",
    "kernel = np.array([[0, 0, 1, 0, 0],\n",
    "                   [0, 1, 1, 1, 0],\n",
    "                   [1, 1, 0, 1, 1],\n",
    "                   [0, 1, 1, 1, 0],\n",
    "                   [0, 0, 1, 0, 0]])\n",
    "\n",
    "# Solve and plot final snapshot\n",
    "lat = init_kuramoto(N, seed=12)\n",
    "out = solve_kuramoto(kuramoto, ti, tf, frames, lat, args=(N, w, K, alpha, kernel))\n",
    "plot_kuramoto(out[:,:,-1]);"
   ]
  },
  {
   "attachments": {},
   "cell_type": "markdown",
   "metadata": {},
   "source": [
    "And animate our outputs!"
   ]
  },
  {
   "cell_type": "code",
   "execution_count": null,
   "metadata": {},
   "outputs": [],
   "source": [
    "# Create and display animation\n",
    "ani = animate_kuramoto(out, colormap='hsv')\n",
    "HTML(ani.to_html5_video())"
   ]
  },
  {
   "cell_type": "code",
   "execution_count": null,
   "metadata": {},
   "outputs": [],
   "source": [
    "# Save animation as a gif\n",
    "ani.save('kuramoto.gif', writer='pillow', fps=20)"
   ]
  },
  {
   "attachments": {},
   "cell_type": "markdown",
   "metadata": {},
   "source": [
    "We can also test what happens when the coupling strengths $a_{ij}$ vary. We use the following convolution kernel:\n",
    "$$\n",
    "\\begin{bmatrix}\n",
    "0 & 0 & -1 & 0 & 0 \\\\\n",
    "0 & 0 & 4 & 0 & 0 \\\\\n",
    "-1 & 4 & -12 & 4 & -1 \\\\\n",
    "0 & 0 & 4 & 0 & 0 \\\\\n",
    "0 & 0 & -1 & 0 & 0 \n",
    "\\end{bmatrix}\n",
    "$$\n",
    "which is a discrete approximation of the biharmonic operator:\n",
    "$$\n",
    "-\\nabla^4=-\\dfrac{\\partial^4}{\\partial x^4}-\\dfrac{\\partial^4}{\\partial y^4}\n",
    "$$\n",
    "often appeared in linear elasticity theory and solutions to the Stokes flows."
   ]
  },
  {
   "cell_type": "code",
   "execution_count": null,
   "metadata": {},
   "outputs": [],
   "source": [
    "# Set model parameters\n",
    "N = 100      # system size\n",
    "alpha = 0.6  # phase shift\n",
    "w = 0.0      # angular velocity\n",
    "K = 1.0      # global coupling strength\n",
    "\n",
    "ti = 0       # start time\n",
    "tf = 120     # end time\n",
    "frames = 240 # number of output time points\n",
    "\n",
    "# Convolution kernel to test: von Neumann neighborhood of radius 2\n",
    "kernel = np.array([[0,  0,  -1, 0,  0],\n",
    "                   [0,  0,   4, 0,  0],\n",
    "                   [-1, 4, -12, 4, -1],\n",
    "                   [0,  0,   4, 0,  0],\n",
    "                   [0,  0,  -1, 0,  0]])\n",
    "\n",
    "# Solve and plot final snapshot\n",
    "lat = init_kuramoto(N, seed=12)\n",
    "out = solve_kuramoto(kuramoto, ti, tf, frames, lat, args=(N, w, K, alpha, kernel))\n",
    "plot_kuramoto(out[:,:,-1]);"
   ]
  },
  {
   "cell_type": "code",
   "execution_count": null,
   "metadata": {},
   "outputs": [],
   "source": [
    "# Create and display animation\n",
    "ani = animate_kuramoto(out, colormap='hsv')\n",
    "HTML(ani.to_html5_video())"
   ]
  },
  {
   "attachments": {},
   "cell_type": "markdown",
   "metadata": {},
   "source": [
    "We can see that the effect of this new kernel makes the phase correlations more short-ranged, as closer neighbors couple more strongly."
   ]
  },
  {
   "cell_type": "code",
   "execution_count": null,
   "metadata": {},
   "outputs": [],
   "source": [
    "# Save animation as a gif\n",
    "ani.save('kuramoto.gif', writer='pillow', fps=20)"
   ]
  },
  {
   "attachments": {},
   "cell_type": "markdown",
   "metadata": {},
   "source": [
    "## A generalized Kuramoto model (free in space) "
   ]
  },
  {
   "attachments": {},
   "cell_type": "markdown",
   "metadata": {},
   "source": [
    "Next, let us examine what happens if we allow our oscillators to move freely in space. Such systems exhibit _spatial_ self-organization, much like swarms of insects or flocks of birds. The example presented here is based on the following paper:\n",
    ">O’Keeffe, K.P., Hong, H. & Strogatz, S.H. Oscillators that sync and swarm. Nat Commun 8, 1504 (2017) doi:10.1038/s41467-017-01190-3 https://www.nature.com/articles/s41467-017-01190-3.\n",
    "\n",
    "![swarm.gif](https://raw.githubusercontent.com/yue-sun/generative-art/master/03_wednesday/figs/ca_vs_swarmalator.png)\n",
    "\n",
    "Not only are the oscillators free to move continuously in 2D space, their interactions are no longer limited to nearest neighbors, but are long-ranged. We will see that this model system has interesting analogues to the concept of phases and phase separation in physics, while maintaining the notion of continuous states (or phases) or each oscillators. Due to the collective swarm-like behaviors of these oscillators, as well as the oscillatory nature of their internal states, the authors name such agents \"swarmalators\".\n",
    "\n",
    "Again, let us first write a function to randomly initialize our swarmalator positions in a square $[-1,1]\\times[-1,1]$, with random phases in the range $[0,2\\pi)$, before we start building the Swarmalator model."
   ]
  },
  {
   "cell_type": "code",
   "execution_count": null,
   "metadata": {},
   "outputs": [],
   "source": [
    "def init_swarm(N, seed):\n",
    "    ''' Initialize N swarmalators in [-1,1]x[-1,1] with random phases.\n",
    "        Inputs:\n",
    "            N - number of swarmalators\n",
    "            seed - random seed\n",
    "        Outputs:\n",
    "            x - initial x-coordinates of the swarmalators\n",
    "            y - initial y-coordinates of the swarmalators\n",
    "            phase - initial phases of the swarmalators\n",
    "    '''\n",
    "    # Set random seed\n",
    "    np.random.seed(seed)\n",
    "    # Create positions and phases\n",
    "    x = 2*np.random.rand(N) - 1.\n",
    "    y = 2*np.random.rand(N) - 1.\n",
    "    phase = 2*np.pi * np.random.rand(N)\n",
    "    return x, y, phase"
   ]
  },
  {
   "attachments": {},
   "cell_type": "markdown",
   "metadata": {},
   "source": [
    "We also create helper functions for plotting and animation."
   ]
  },
  {
   "cell_type": "code",
   "execution_count": null,
   "metadata": {},
   "outputs": [],
   "source": [
    "def plot_swarm(x, y, theta, colormap='hsv'):\n",
    "    ''' Plot swarmalators in 2D with phases represented by color.\n",
    "        Inputs:\n",
    "            x - the x-coordinates of the swarmalators\n",
    "            y - the y-coordinates of the swarmalators\n",
    "            theta - the phases pf the swarmalators\n",
    "            colormap - an optional specification for a colormap to use\n",
    "        Outputs:\n",
    "            fig, ax, im - handles to figure, axis, and image\n",
    "    '''\n",
    "    fig, ax = plt.subplots(1, 1, figsize=(6,6))\n",
    "    colors = get_colors(theta, colormap)\n",
    "    im = ax.scatter(x, y, color=colors, s=110)\n",
    "    ax.set_xlim(-3, 3)\n",
    "    ax.set_ylim(-3, 3)\n",
    "    ax.get_xaxis().set_visible(False)\n",
    "    ax.get_yaxis().set_visible(False)\n",
    "    fig.tight_layout()\n",
    "\n",
    "    return fig, ax, im\n",
    "\n",
    "def animate_swarm(out, colormap='hsv'):\n",
    "    ''' Animate the Swarmalator model over time.\n",
    "        Inputs:\n",
    "            out - 3D array of frames\n",
    "            colormap - an optional specification for a colormap to use\n",
    "        Outputs:\n",
    "            ani - handle to animation\n",
    "    '''\n",
    "    frames = out.shape[-1]\n",
    "    x, y, theta = out[0,:,0], out[1,:,0], out[2,:,0]\n",
    "    fig, ax, im = plot_swarm(x, y, theta, colormap);\n",
    "\n",
    "    def animate(i):\n",
    "        ''' Plot updates for animation.'''\n",
    "        x, y, theta = out[0,:,i], out[1,:,i], out[2,:,i]\n",
    "        im.set_offsets(np.stack((x,y), axis=-1))\n",
    "        colors = get_colors(theta, colormap)\n",
    "        im._facecolors = colors\n",
    "        im._edgecolors = colors\n",
    "        return im,\n",
    "\n",
    "    ani = animation.FuncAnimation(fig, animate, frames=frames, interval=50, blit=True)\n",
    "    plt.close(fig)\n",
    "    return ani"
   ]
  },
  {
   "attachments": {},
   "cell_type": "markdown",
   "metadata": {},
   "source": [
    "Now, let us visualize an initial population of $N=200$ swarmalators."
   ]
  },
  {
   "cell_type": "code",
   "execution_count": null,
   "metadata": {},
   "outputs": [],
   "source": [
    "# Set parameters\n",
    "N = 200   # number of swarmalators\n",
    "seed = 12 # random seed\n",
    "\n",
    "# Initialize the swarmalators\n",
    "x, y, theta = init_swarm(N, seed)\n",
    "\n",
    "# Plot initial snapshot\n",
    "plot_swarm(x, y, theta);"
   ]
  },
  {
   "attachments": {},
   "cell_type": "markdown",
   "metadata": {},
   "source": [
    "The evolution of the swarmalators in time is governed by a set of ODEs which prescribe the agent's motion in space, in addition to the phase evolution we have examined before. We will consider a particular case of the model:\n",
    "$$\n",
    "\\begin{aligned}\n",
    "\\frac{dx_i}{dt} &= u_i + \\frac{1}{N}\\sum_{j\\neq{i}}^N\\Bigg(\\frac{x_j-x_i}{r_{ij}}(1 + J\\cos(\\theta_j-\\theta_i)) - \\frac{x_j-x_i}{r^2_{ij}}\\Bigg) \\\\\n",
    "\\frac{dy_i}{dt} &= v_i + \\frac{1}{N}\\sum_{j\\neq{i}}^N\\Bigg(\\frac{y_j-y_i}{r_{ij}}(1 + J\\cos(\\theta_j-\\theta_i)) - \\frac{y_j-y_i}{r_{ij}^2}\\Bigg) \\\\\n",
    "\\frac{d\\theta_i}{dt} &= \\omega_i + \\frac{K}{N}\\sum_{j\\neq{i}}^N\\frac{\\sin(\\theta_j-\\theta_i)}{r_{ij}}\n",
    "\\end{aligned}\n",
    "$$\n",
    "where $N$ is the total number of swarmalators, $r_{ij}=\\sqrt{\\left(x_j-x_i\\right)^2+\\left(y_j-y_i\\right)^2}$ is the distance between two swarmalators, $u_i$ and $v_i$ are the constant velocity in x and y coordinates, and $\\omega_i$ is the constant angular velocity. Note that $u_i$, $v_i$ and $\\omega_i$ can be individually controlled for each agent. $J$ and $K$ are model parameters:\n",
    "- $J$ tunes the influence of phase on spatial proximity\n",
    "- $K$ adjusts the phases interaction\n",
    "\n",
    "The first term in the expressions for $dx_i/dt$ and $dy_i/dt$ captures the spatially attractive interaction between swarmalators, and the second term a repulsive one. What are some preliminary conclusions we can draw about the model based on these equations?\n",
    "\n",
    "For simplicity, we assume $u_i=v_i=\\omega_i=0$ for all agents. Let us define the ODEs in the function `swarm`."
   ]
  },
  {
   "cell_type": "code",
   "execution_count": null,
   "metadata": {},
   "outputs": [],
   "source": [
    "@njit\n",
    "def swarm(t, q, N, J, K):\n",
    "    ''' ODE for the Swarmalator system.\n",
    "        Inputs:\n",
    "            t - the current time\n",
    "            q - a flattened array of the current x, y, and theta\n",
    "            N - the number of swarmalators\n",
    "            J - coupling constant (influence of phase on spatial rearrangement)\n",
    "            K - coupling constant (phase–phase interaction)\n",
    "        Outputs:\n",
    "            dq - a flattened array of first derivatives of x, y, and theta\n",
    "    '''\n",
    "    # Unpack the x-coordinates, y-coordinates, and phases\n",
    "    x, y, theta = q[:N], q[N:2*N], q[2*N:]\n",
    "\n",
    "    # Set up arrays to store the derivatives\n",
    "    dx, dy, dtheta = np.zeros(N), np.zeros(N), np.zeros(N)\n",
    "\n",
    "    for i in range(N):\n",
    "        for j in range(i+1,N):\n",
    "            # Compute recurring quantities for easy reuse\n",
    "            xij = x[j] - x[i]                    # x_i - x_i\n",
    "            yij = y[j] - y[i]                    # y_j - y_i\n",
    "            tij = theta[j] - theta[i]            # theta_j - theta_i\n",
    "            rij = np.sqrt(xij*xij + yij*yij)     # r_ij (distance between agents)\n",
    "\n",
    "            # Spatial attraction (x and y components)\n",
    "            x_att = xij/rij * (1. + J*np.cos(tij))\n",
    "            y_att = yij/rij * (1. + J*np.cos(tij))\n",
    "\n",
    "            # Spatial repulsion (x and y components)\n",
    "            x_rep = -xij/(rij*rij)\n",
    "            y_rep = -yij/(rij*rij)\n",
    "\n",
    "            # Phase coupling\n",
    "            tcouple = K * np.sin(tij)/rij\n",
    "\n",
    "            # Add contribution to the derivative arrays\n",
    "            dx[i] += (x_att + x_rep)/float(N)\n",
    "            dy[i] += (y_att + y_rep)/float(N)\n",
    "            dtheta[i] += tcouple/float(N)\n",
    "\n",
    "            # Add contribution to the interaction pair j\n",
    "            dx[j] -= (x_att + x_rep)/float(N)\n",
    "            dy[j] -= (y_att + y_rep)/float(N)\n",
    "            dtheta[j] -= tcouple/float(N)\n",
    "\n",
    "    # Define the first derivative and normalize by the number of agents\n",
    "    # Note: np.hstack is slower with njit\n",
    "    dq = np.zeros(3*N)\n",
    "    dq[:N], dq[N:2*N], dq[-N:] = dx, dy, dtheta\n",
    "    return dq"
   ]
  },
  {
   "attachments": {},
   "cell_type": "markdown",
   "metadata": {},
   "source": [
    "Next, we define our wrapper function `solve_swarm` that integrates the Swarmalator system."
   ]
  },
  {
   "cell_type": "code",
   "execution_count": null,
   "metadata": {},
   "outputs": [],
   "source": [
    "def solve_swarm(func, ti, tf, nt, xi, yi, thetai, args, rtol=1e-6, atol=1e-6):\n",
    "    ''' Integrates the Swarmalator model.\n",
    "        Inputs:\n",
    "            func - the function to integrate\n",
    "            ti, tf - start and end integration times\n",
    "            nt - number of evenly spaced output time points in [ti, tf]\n",
    "            xi, yi, thetai - initial conditions\n",
    "            args - tuples of model parameters\n",
    "            rtol, atol - tolerance for tuning the accuracy of the solver\n",
    "        Outputs:\n",
    "            q - the current x, y, theta at the end time\n",
    "    '''\n",
    "    N = args[0]                          # extract grid dimension\n",
    "    t_eval = np.linspace(ti, tf, nt)     # evaluation time points\n",
    "    q0 = np.hstack([xi, yi, thetai])     # concatenate initial conditions\n",
    "\n",
    "    # Integrate the differential equation using finite differences (default RK45)\n",
    "    sol = solve_ivp(lambda t, y: func(t, y, *args), t_span=[ti, tf],\n",
    "                    y0=q0, t_eval=t_eval, rtol=rtol, atol=atol)\n",
    "    q = sol.y.reshape(3, N, len(t_eval)) # collection of all theta snapshots\n",
    "\n",
    "    return q"
   ]
  },
  {
   "attachments": {},
   "cell_type": "markdown",
   "metadata": {},
   "source": [
    "In the first example, let us look at the case where the influence of phase on spatial movement is weak; i.e. $J$ is small. The spatial attractive force will outweigh the repulsive one except at short distances, so we expect our system to form a cohesive cluster. We simulate our system of $N$ swarmalators, outputting evenly spaced snapshots along the way."
   ]
  },
  {
   "cell_type": "code",
   "execution_count": null,
   "metadata": {},
   "outputs": [],
   "source": [
    "# Set model parameters\n",
    "N = 200     # number of agents\n",
    "J = 0.1     # influence of phase on spatial rearrangement\n",
    "K = 0.5     # phase–phase interaction\n",
    "\n",
    "ti = 0      # start time\n",
    "tf = 30     # end time\n",
    "frames = 60 # number of output time points\n",
    "\n",
    "# Solve and plot final snapshot\n",
    "x, y, theta = init_swarm(N, seed=12)\n",
    "out = solve_swarm(swarm, ti, tf, frames, x, y, theta, args=(N, J, K))\n",
    "plot_swarm(out[0,:,-1], out[1,:,-1], out[2,:,-1]);"
   ]
  },
  {
   "attachments": {},
   "cell_type": "markdown",
   "metadata": {},
   "source": [
    "The swarmalators cluster and synchronize into a single phase! Since the swarmalators remain static, this phase is often called _static synchrony_."
   ]
  },
  {
   "cell_type": "code",
   "execution_count": null,
   "metadata": {},
   "outputs": [],
   "source": [
    "# Create and display animation\n",
    "ani = animate_swarm(out, colormap='hsv')\n",
    "HTML(ani.to_html5_video())"
   ]
  },
  {
   "cell_type": "code",
   "execution_count": null,
   "metadata": {},
   "outputs": [],
   "source": [
    "# Save animation as a gif\n",
    "ani.save('swarm.gif', writer='pillow', fps=20)"
   ]
  },
  {
   "attachments": {},
   "cell_type": "markdown",
   "metadata": {},
   "source": [
    "Now, let us observe what happens if $K$ becomes negative."
   ]
  },
  {
   "cell_type": "code",
   "execution_count": null,
   "metadata": {},
   "outputs": [],
   "source": [
    "# Set model parameters\n",
    "N = 200     # number of agents\n",
    "J = 0.1     # influence of phase on spatial rearrangement\n",
    "K = -0.5    # phase–phase interaction\n",
    "\n",
    "ti = 0      # start time\n",
    "tf = 30     # end time\n",
    "frames = 60 # number of output time points\n",
    "\n",
    "# Solve and plot final snapshot\n",
    "x, y, theta = init_swarm(N, seed=12)\n",
    "out = solve_swarm(swarm, ti, tf, frames, x, y, theta, args=(N, J, K))\n",
    "plot_swarm(out[0,:,-1], out[1,:,-1], out[2,:,-1]);"
   ]
  },
  {
   "cell_type": "code",
   "execution_count": null,
   "metadata": {},
   "outputs": [],
   "source": [
    "# Create and display animation\n",
    "ani = animate_swarm(out, colormap='hsv')\n",
    "HTML(ani.to_html5_video())"
   ]
  },
  {
   "attachments": {},
   "cell_type": "markdown",
   "metadata": {},
   "source": [
    "While we still have a cohesive cluster, the swarmalators resist synchronization. This state is often referred to as _static asynchrony_. How can we understand this from the model equations? Let us look at the ODEs again:\n",
    "$$\n",
    "\\begin{aligned}\n",
    "\\frac{dx_i}{dt} &= \\frac{1}{N}\\sum_{j\\neq{i}}^N\\Bigg(\\frac{x_j-x_i}{r_{ij}}(1 + J\\cos(\\theta_j-\\theta_i)) - \\frac{x_j-x_i}{r^2_{ij}}\\Bigg) \\\\\n",
    "\\frac{dy_i}{dt} &= \\frac{1}{N}\\sum_{j\\neq{i}}^N\\Bigg(\\frac{y_j-y_i}{r_{ij}}(1 + J\\cos(\\theta_j-\\theta_i)) - \\frac{y_j-y_i}{r_{ij}^2}\\Bigg) \\\\\n",
    "\\frac{d\\theta_i}{dt} &= \\frac{K}{N}\\sum_{j\\neq{i}}^N\\frac{\\sin(\\theta_j-\\theta_i)}{r_{ij}}\n",
    "\\end{aligned}\n",
    "$$\n",
    "Consider two swarmalators with nearby phases $\\theta_i$ and $\\theta_j$. When $K$ is positive, $\\theta_i$ and $\\theta_j$ tend to minimize their difference, favoring synchronization. If $K$ is negative, $\\theta_i$ and $\\theta_j$ tend to maximize their difference.\n",
    "\n",
    "Now let's explore the regime of strong spatial effects of phase. For positive $J$, spatial proximity of *like* phases is favored, and thus swarmalators of similar phases should rearrange near each other. To start, let's set $K=0$; that is, phases remain fixed throughout, influencing only the spatial arrangement."
   ]
  },
  {
   "cell_type": "code",
   "execution_count": null,
   "metadata": {},
   "outputs": [],
   "source": [
    "# Set model parameters\n",
    "N = 200     # number of agents\n",
    "J = 1.0     # influence of phase on spatial rearrangement\n",
    "K = 0.0     # phase–phase interaction\n",
    "\n",
    "ti = 0      # start time\n",
    "tf = 50     # end time\n",
    "frames = 100 # number of output time points\n",
    "\n",
    "# Solve and plot final snapshot\n",
    "x, y, theta = init_swarm(N, seed=12)\n",
    "out = solve_swarm(swarm, ti, tf, frames, x, y, theta, args=(N, J, K))\n",
    "plot_swarm(out[0,:,-1], out[1,:,-1], out[2,:,-1]);"
   ]
  },
  {
   "attachments": {},
   "cell_type": "markdown",
   "metadata": {},
   "source": [
    "The swarmalators quickly arrange to position like phases together! This is often known as the _static phase wave_."
   ]
  },
  {
   "cell_type": "code",
   "execution_count": null,
   "metadata": {},
   "outputs": [],
   "source": [
    "# Create and display animation\n",
    "ani = animate_swarm(out, colormap='hsv')\n",
    "HTML(ani.to_html5_video())"
   ]
  },
  {
   "attachments": {},
   "cell_type": "markdown",
   "metadata": {},
   "source": [
    "If $K$ is positive, we can expect the effects of spatial rearrangement and phase alignment to create a positive feedback loop, which should lead to a uniform phase as we saw in our first example.\n",
    "\n",
    "However if $K$ is negative, our intuition may not be as clear. Let's slightly perturb $K$ in the negative direction."
   ]
  },
  {
   "cell_type": "code",
   "execution_count": null,
   "metadata": {},
   "outputs": [],
   "source": [
    "# Set model parameters\n",
    "N = 200      # number of agents\n",
    "J = 1.0      # influence of phase on spatial rearrangement\n",
    "K = -0.1     # phase–phase interaction\n",
    "\n",
    "ti = 0       # start time\n",
    "tf = 120     # end time\n",
    "frames = 240 # number of output time points\n",
    "\n",
    "# Solve and plot final snapshot\n",
    "x, y, theta = init_swarm(N, seed=12)\n",
    "out = solve_swarm(swarm, ti, tf, frames, x, y, theta, args=(N, J, K))\n",
    "plot_swarm(out[0,:,-1], out[1,:,-1], out[2,:,-1]);"
   ]
  },
  {
   "attachments": {},
   "cell_type": "markdown",
   "metadata": {},
   "source": [
    "This system does not stabilize, but remains in an active state throughout. This is often known as the _splintered phase wave_."
   ]
  },
  {
   "cell_type": "code",
   "execution_count": null,
   "metadata": {},
   "outputs": [],
   "source": [
    "# Create and display animation\n",
    "ani = animate_swarm(out, colormap='hsv')\n",
    "HTML(ani.to_html5_video())"
   ]
  },
  {
   "attachments": {},
   "cell_type": "markdown",
   "metadata": {},
   "source": [
    "In this last example, let us amplify the negative coupling of phases to $K=-0.75$:"
   ]
  },
  {
   "cell_type": "code",
   "execution_count": null,
   "metadata": {},
   "outputs": [],
   "source": [
    "# Set model parameters\n",
    "N = 200      # number of agents\n",
    "J = 1.0      # influence of phase on spatial rearrangement\n",
    "K = -0.75    # phase–phase interaction\n",
    "\n",
    "ti = 0       # start time\n",
    "tf = 150     # end time\n",
    "frames = 300 # number of output time points\n",
    "\n",
    "# Solve and plot final snapshot\n",
    "x, y, theta = init_swarm(N, seed=12)\n",
    "out = solve_swarm(swarm, ti, tf, frames, x, y, theta, args=(N, J, K))\n",
    "plot_swarm(out[0,:,-1], out[1,:,-1], out[2,:,-1]);"
   ]
  },
  {
   "attachments": {},
   "cell_type": "markdown",
   "metadata": {},
   "source": [
    "This state is often referred to as _active phase wave_."
   ]
  },
  {
   "cell_type": "code",
   "execution_count": null,
   "metadata": {},
   "outputs": [],
   "source": [
    "# Create and display animation\n",
    "ani = animate_swarm(out, colormap='hsv')\n",
    "HTML(ani.to_html5_video())"
   ]
  },
  {
   "cell_type": "code",
   "execution_count": null,
   "metadata": {},
   "outputs": [],
   "source": [
    "# Save animation as a gif\n",
    "ani.save('swarm.gif', writer='pillow', fps=20)"
   ]
  },
  {
   "attachments": {},
   "cell_type": "markdown",
   "metadata": {},
   "source": [
    "## Adding additional variations\n",
    "\n",
    "Finally, let us look at an even more generalized version of the Kuramoto model by introducing an external periodic stimulus to simulate forced swarmalators. This example is based on this paper:\n",
    ">Lizarraga, J. U., & de Aguiar, M. A. Synchronization and spatial patterns in forced swarmalators. Chaos 30, 053112 (2020) https://doi.org/10.1063/1.5141343\n",
    "\n",
    "We can think of this stimulus as a flashlight to fireflies: fireflies are attracted to its position, and fireflies can also change their lighting patterns to match with the flashlight. We can model this external stimulus as an additional periodic forcing to the phase:\n",
    "$$\n",
    "\\begin{aligned}\n",
    "\\frac{dx_i}{dt} &= \\frac{1}{N}\\sum_{j\\neq{i}}^N\\Bigg(\\frac{x_j-x_i}{r_{ij}}(1 + J\\cos(\\theta_j-\\theta_i)) - \\frac{x_j-x_i}{r^2_{ij}}\\Bigg) \\\\\n",
    "\\frac{dy_i}{dt} &= \\frac{1}{N}\\sum_{j\\neq{i}}^N\\Bigg(\\frac{y_j-y_i}{r_{ij}}(1 + J\\cos(\\theta_j-\\theta_i)) - \\frac{y_j-y_i}{r_{ij}^2}\\Bigg) \\\\\n",
    "\\frac{d\\theta_i}{dt} &= \\frac{K}{N}\\sum_{j\\neq{i}}^N\\frac{\\sin(\\theta_j-\\theta_i)}{r_{ij}} + \\boxed{F\\frac{\\cos(\\Omega t-\\theta_i)}{\\sqrt{\\left(x_0-x_i\\right)^2+\\left(y_0-y_i\\right)^2}}}\n",
    "\\end{aligned}\n",
    "$$\n",
    "where $F, \\Omega, (x_0,y_0)$ represent the amplitude, frequency, and position of the stimulus. Here we assume the stimulus is placed at the center of the domain $(0,0)$. (It is possible to make the stimulus position as another interactive variable and observe its impact on the synchronization.)\n",
    "\n",
    "Now let us rewrite our ODE by adding this external forcing."
   ]
  },
  {
   "cell_type": "code",
   "execution_count": null,
   "metadata": {},
   "outputs": [],
   "source": [
    "@njit\n",
    "def swarm_force(t, q, N, J, K, F, freq):\n",
    "    ''' ODE for the Swarmalator system with external forcing on phases.\n",
    "        Inputs:\n",
    "            t - the current time\n",
    "            q - a flattened array of the current x, y, and theta\n",
    "            N - the number of swarmalators\n",
    "            J - coupling constant (influence of phase on spatial rearrangement)\n",
    "            K - coupling constant (phase–phase interaction)\n",
    "            F - amplitude of external forcing stimulus\n",
    "            freq - frequency of external forcing stimulus\n",
    "        Outputs:\n",
    "            dq - a flattened array of first derivatives of x, y, and theta\n",
    "    '''\n",
    "    # Unpack the x-coordinates, y-coordinates, and phases\n",
    "    x, y, theta = q[:N], q[N:2*N], q[2*N:]\n",
    "\n",
    "    # Set up arrays to store the derivatives\n",
    "    dx, dy, dtheta = np.zeros(N), np.zeros(N), np.zeros(N)\n",
    "\n",
    "    for i in range(N):\n",
    "        for j in range(i+1,N):\n",
    "            # Compute recurring quantities for easy reuse\n",
    "            xij = x[j] - x[i]                    # x_i - x_i\n",
    "            yij = y[j] - y[i]                    # y_j - y_i\n",
    "            tij = theta[j] - theta[i]            # theta_j - theta_i\n",
    "            rij = np.sqrt(xij*xij + yij*yij)     # r_ij (distance between agents)\n",
    "\n",
    "            # Spatial attraction (x and y components)\n",
    "            x_att = xij/rij * (1. + J*np.cos(tij))\n",
    "            y_att = yij/rij * (1. + J*np.cos(tij))\n",
    "\n",
    "            # Spatial repulsion (x and y components)\n",
    "            x_rep = -xij/(rij*rij)\n",
    "            y_rep = -yij/(rij*rij)\n",
    "\n",
    "            # Phase coupling with external forcing\n",
    "            tcouple = K * np.sin(tij)/rij\n",
    "\n",
    "            # Add contribution to the derivative arrays\n",
    "            dx[i] += (x_att + x_rep)/float(N)\n",
    "            dy[i] += (y_att + y_rep)/float(N)\n",
    "            dtheta[i] += tcouple/float(N)\n",
    "\n",
    "            # Add contribution to the interaction pair j\n",
    "            dx[j] -= (x_att + x_rep)/float(N)\n",
    "            dy[j] -= (y_att + y_rep)/float(N)\n",
    "            dtheta[j] -= tcouple/float(N)\n",
    "        \n",
    "        # Add external force on i\n",
    "        r0i = np.sqrt(x[i]*x[i] + y[i]*y[i]) # r_0i (distance to stimulus)\n",
    "        force = F * np.cos(freq*t-theta[i])/r0i\n",
    "        dtheta[i] += force\n",
    "\n",
    "\n",
    "    # Define the first derivative and normalize by the number of agents\n",
    "    # Note: np.hstack is slower with njit\n",
    "    dq = np.zeros(3*N)\n",
    "    dq[:N], dq[N:2*N], dq[-N:] = dx, dy, dtheta\n",
    "    return dq"
   ]
  },
  {
   "attachments": {},
   "cell_type": "markdown",
   "metadata": {},
   "source": [
    "Let us test our new Swarmalator model!"
   ]
  },
  {
   "cell_type": "code",
   "execution_count": null,
   "metadata": {},
   "outputs": [],
   "source": [
    "# Set model parameters\n",
    "N = 200           # number of agents\n",
    "J = 1.0           # influence of phase on spatial rearrangement\n",
    "K = -0.1          # phase–phase interaction\n",
    "F = 1.0           # amplitude of external stimulus\n",
    "freq = 3./2*np.pi # frequency of external stimulus\n",
    "\n",
    "ti = 0            # start time\n",
    "tf = 100          # end time\n",
    "frames = 100      # number of output time points\n",
    "\n",
    "# Solve and plot animation\n",
    "x, y, theta = init_swarm(N, seed=12)\n",
    "out = solve_swarm(swarm_force, ti, tf, frames, x, y, theta, args=(N, J, K, F, freq))\n",
    "ani = animate_swarm(out, colormap='hsv')\n",
    "HTML(ani.to_html5_video())"
   ]
  },
  {
   "attachments": {},
   "cell_type": "markdown",
   "metadata": {},
   "source": [
    "In the reference paper, authors have categorized the $(J,K)$ combinations into five states with some reference values:\n",
    "\n",
    "| static synchrony | static asynchrony | static phase wave | splintered phase wave | active phase wave |\n",
    "|:----------------:|:-----------------:|:-----------------:|:---------------------:|:-----------------:|\n",
    "|    $(0.1,1)$    |     $(0.1,-1)$     |      $(1,0)$      |       $(1,-0.1)$      |    $(1,-0.75)$    |\n",
    " \n",
    "Below is a collage of patterns formed by $250$ swarmalators under external stimulus $F=1$ placed at the center at the five representative states."
   ]
  },
  {
   "attachments": {},
   "cell_type": "markdown",
   "metadata": {},
   "source": [
    "![swarm_force_speed.gif](https://raw.githubusercontent.com/yue-sun/generative-art/master/03_wednesday/figs/swarmalator_force_speedup.gif)"
   ]
  },
  {
   "attachments": {},
   "cell_type": "markdown",
   "metadata": {},
   "source": [
    "Play around with the $F$ values and see what patterns you could generate!\n",
    "\n",
    "We can also make $F$ time-dependent by setting the $F$ value to be linearly increasing with respect to (w.r.t.) time. The example below uses `swarm_force_time` as the ODE, where we manually set the $F$ to increase from $0$ to $4$."
   ]
  },
  {
   "cell_type": "code",
   "execution_count": null,
   "metadata": {},
   "outputs": [],
   "source": [
    "@njit\n",
    "def swarm_force_time(t, q, N, J, K, F, freq):\n",
    "    ''' ODE for the Swarmalator system with time-dependent external forcing on phases.\n",
    "        Inputs:\n",
    "            t - the current time\n",
    "            q - a flattened array of the current x, y, and theta\n",
    "            N - the number of swarmalators\n",
    "            J - coupling constant (influence of phase on spatial rearrangement)\n",
    "            K - coupling constant (phase–phase interaction)\n",
    "            F - amplitude of external forcing stimulus\n",
    "            freq - frequency of external forcing stimulus\n",
    "        Outputs:\n",
    "            dq - a flattened array of first derivatives of x, y, and theta\n",
    "    '''\n",
    "    # Unpack the x-coordinates, y-coordinates, and phases\n",
    "    x, y, theta = q[:N], q[N:2*N], q[2*N:]\n",
    "\n",
    "    # Set up arrays to store the derivatives\n",
    "    dx, dy, dtheta = np.zeros(N), np.zeros(N), np.zeros(N)\n",
    "\n",
    "    # Set time-dependent force\n",
    "    # Hard-code, should use a more general definition\n",
    "    F = t / 100\n",
    "\n",
    "    for i in range(N):\n",
    "        for j in range(i+1,N):\n",
    "            # Compute recurring quantities for easy reuse\n",
    "            xij = x[j] - x[i]                    # x_i - x_i\n",
    "            yij = y[j] - y[i]                    # y_j - y_i\n",
    "            tij = theta[j] - theta[i]            # theta_j - theta_i\n",
    "            rij = np.sqrt(xij*xij + yij*yij)     # r_ij (distance between agents)\n",
    "\n",
    "            # Spatial attraction (x and y components)\n",
    "            x_att = xij/rij * (1. + J*np.cos(tij))\n",
    "            y_att = yij/rij * (1. + J*np.cos(tij))\n",
    "\n",
    "            # Spatial repulsion (x and y components)\n",
    "            x_rep = -xij/(rij*rij)\n",
    "            y_rep = -yij/(rij*rij)\n",
    "\n",
    "            # Phase coupling with external forcing\n",
    "            tcouple = K * np.sin(tij)/rij\n",
    "\n",
    "            # Add contribution to the derivative arrays\n",
    "            dx[i] += (x_att + x_rep)/float(N)\n",
    "            dy[i] += (y_att + y_rep)/float(N)\n",
    "            dtheta[i] += tcouple/float(N)\n",
    "\n",
    "            # Add contribution to the interaction pair j\n",
    "            dx[j] -= (x_att + x_rep)/float(N)\n",
    "            dy[j] -= (y_att + y_rep)/float(N)\n",
    "            dtheta[j] -= tcouple/float(N)\n",
    "        \n",
    "        # Add external force on i\n",
    "        r0i = np.sqrt(x[i]*x[i] + y[i]*y[i]) # r_0i (distance to stimulus)\n",
    "        force = F * np.cos(freq*t-theta[i])/r0i\n",
    "        dtheta[i] += force\n",
    "\n",
    "\n",
    "    # Define the first derivative and normalize by the number of agents\n",
    "    # Note: np.hstack is slower with njit\n",
    "    dq = np.zeros(3*N)\n",
    "    dq[:N], dq[N:2*N], dq[-N:] = dx, dy, dtheta\n",
    "    return dq"
   ]
  },
  {
   "attachments": {},
   "cell_type": "markdown",
   "metadata": {},
   "source": [
    "> Note: The following cell will take a VERY LONG time (about 2 minutes) to run!"
   ]
  },
  {
   "cell_type": "code",
   "execution_count": null,
   "metadata": {},
   "outputs": [],
   "source": [
    "# Set model parameters\n",
    "N = 200           # number of agents\n",
    "J = 1.0           # influence of phase on spatial rearrangement\n",
    "K = -0.1          # phase–phase interaction\n",
    "F = 1.0           # amplitude of external stimulus\n",
    "freq = 3./2*np.pi # frequency of external stimulus\n",
    "\n",
    "ti = 0            # start time\n",
    "tf = 400          # end time\n",
    "frames = 400      # number of output time points\n",
    "\n",
    "# Solve and plot animation\n",
    "x, y, theta = init_swarm(N, seed=12)\n",
    "out = solve_swarm(swarm_force_time, ti, tf, frames, x, y, theta, args=(N, J, K, F, freq))\n",
    "ani = animate_swarm(out, colormap='hsv')\n",
    "HTML(ani.to_html5_video())"
   ]
  },
  {
   "attachments": {},
   "cell_type": "markdown",
   "metadata": {},
   "source": [
    "## The final touch\n",
    "\n",
    "Let us put everything together! We use an interactive widget to switch between the five states, enable external forcing, changing forcing values, and visualize the trails of swarmalators!\n",
    "\n",
    "We have provided a helper function to visualize the trails of swarmalators in `oscillators_utils.py`."
   ]
  },
  {
   "cell_type": "code",
   "execution_count": null,
   "metadata": {},
   "outputs": [],
   "source": [
    "# Run the cell if you are running the notebook on Google Colab\n",
    "!git clone https://github.com/yue-sun/generative-art.git\n",
    "%cd generative-art/03_wednesday"
   ]
  },
  {
   "cell_type": "code",
   "execution_count": null,
   "metadata": {},
   "outputs": [],
   "source": [
    "from oscillators_utils import animate_swarm_trail\n",
    "\n",
    "force_slider = widgets.FloatSlider(\n",
    "    value=1.0, min=0.0, max=5.0, step=0.1,\n",
    "    description='force:', readout_format='.1f',)\n",
    "@widgets.interact_manual(states = ['static_synchrony', 'static_asynchrony','static_phase_wave', 'splintered_phase_wave', 'active_phase_wave'],\n",
    "                         trail = ['True', 'False'], F = force_slider, force_time = ['True', 'False'])\n",
    "def interactive_menu_plot(states='splintered_phase_wave', trail='True', F=1.0, force_time='True'):\n",
    "    h = display(display_id=True)\n",
    "    \n",
    "    # Reference states J and K values\n",
    "    static_synchrony      = [0.1,   1.0]\n",
    "    static_asynchrony     = [0.1,  -1.0]\n",
    "    static_phase_wave     = [1.0,   0.0]\n",
    "    splintered_phase_wave = [1.0,  -0.1]\n",
    "    active_phase_wave     = [1.0, -0.75]\n",
    "    \n",
    "    # Get parameters\n",
    "    J, K = eval(states)\n",
    "\n",
    "    # Set model parameters\n",
    "    N = 200           # number of agents\n",
    "    freq = 3./2*np.pi # frequency of external stimulus\n",
    "\n",
    "    ti = 0            # start time\n",
    "    tf = 200          # end time\n",
    "    frames = 400      # number of output time points\n",
    "    ntrail = 30       # length of trail\n",
    "\n",
    "    # Solve and plot animation\n",
    "    x, y, theta = init_swarm(N, seed=12)\n",
    "    print('running simulation...')\n",
    "    if eval(force_time):\n",
    "        out = solve_swarm(swarm_force_time, ti, tf, frames, x, y, theta, args=(N, J, K, F, freq))\n",
    "    else:\n",
    "        out = solve_swarm(swarm_force, ti, tf, frames, x, y, theta, args=(N, J, K, F, freq))\n",
    "\n",
    "    # Create and display animation\n",
    "    print('creating animation...')\n",
    "    if eval(trail):\n",
    "        ani = animate_swarm_trail(out, ntrail, colormap='hsv')\n",
    "    else:\n",
    "        ani = animate_swarm(out, colormap='hsv')\n",
    "    h.display(HTML(ani.to_html5_video()))"
   ]
  },
  {
   "attachments": {},
   "cell_type": "markdown",
   "metadata": {},
   "source": [
    "There are a few additional changes you could try:\n",
    "- add velocity and angular velocity for individual swarmalators, i.e. $u_i, v_i, \\omega_i\\neq0$\n",
    "- change the position of the stimulus w.r.t. time\n",
    "- change the time-dependent forcing rhythm (i.e. not linearly increasing amplitude)"
   ]
  },
  {
   "attachments": {},
   "cell_type": "markdown",
   "metadata": {},
   "source": [
    "## References\n",
    "\n",
    "- Kuramoto, Y. Self-entrainment of a population of coupled non-linear oscillators. In: Araki, H. (eds) International Symposium on Mathematical Problems in Theoretical Physics. Lecture Notes in Physics, vol 39. (1975). https://doi.org/10.1007/BFb0013365\n",
    "- O’Keeffe, K.P., Hong, H. & Strogatz, S.H. Oscillators that sync and swarm. Nat Commun 8, 1504 (2017) doi:10.1038/s41467-017-01190-3 https://www.nature.com/articles/s41467-017-01190-3.\n",
    "- Lizarraga, J. U., & de Aguiar, M. A. Synchronization and spatial patterns in forced swarmalators. Chaos 30, 053112 (2020) https://doi.org/10.1063/1.5141343"
   ]
  },
  {
   "cell_type": "markdown",
   "metadata": {},
   "source": []
  }
 ],
 "metadata": {
  "kernelspec": {
   "display_name": "Python 3",
   "language": "python",
   "name": "python3"
  },
  "language_info": {
   "codemirror_mode": {
    "name": "ipython",
    "version": 3
   },
   "file_extension": ".py",
   "mimetype": "text/x-python",
   "name": "python",
   "nbconvert_exporter": "python",
   "pygments_lexer": "ipython3",
   "version": "3.10.7 (main, Sep 14 2022, 22:38:23) [Clang 14.0.0 (clang-1400.0.29.102)]"
  },
  "orig_nbformat": 4,
  "vscode": {
   "interpreter": {
    "hash": "b0fa6594d8f4cbf19f97940f81e996739fb7646882a419484c72d19e05852a7e"
   }
  }
 },
 "nbformat": 4,
 "nbformat_minor": 2
}
