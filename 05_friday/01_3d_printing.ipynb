{
 "cells": [
  {
   "cell_type": "markdown",
   "id": "c62b4fef",
   "metadata": {},
   "source": [
    "[![Open In Colab](https://colab.research.google.com/assets/colab-badge.svg)](http://colab.research.google.com/github/yue-sun/generative-art/blob/main/05_friday/01_3d_printing.ipynb)"
   ]
  },
  {
   "cell_type": "markdown",
   "id": "35cf10f4",
   "metadata": {},
   "source": [
    "# 3D Printing of Mathematical Art\n",
    "\n",
    "Jiayin Lu, Jan 2023, Jan 2023 mini-course"
   ]
  },
  {
   "cell_type": "markdown",
   "id": "47898e47",
   "metadata": {},
   "source": [
    "## Learning goals:\n",
    " - Intro to 3D printing\n",
    " - Try out some useful design tools: Mathematica, Blender, Inkscape\n",
    " - Make some printable models!\n",
    "\n",
    "## Artistic goal: \n",
    "  - Make a few models, and you may print them out yourself later.\n",
    "        -- Voronoi cylindrical lamp \n",
    "             1. Pattern generation (Python)\n",
    "             2. Convert PNG to SVG (Inkscape)\n",
    "             3. Shape manipulation (Blender)\n",
    "  \n",
    "        -- Tea light holder\n",
    "             1. top piece: regular polygon shape with wireframe (Mathematica)\n",
    "             2. bottom piece: wavy bottom with pattern (Mathematica)\n",
    "             3. Shape manipulation (Blender)\n",
    "             \n",
    "        -- Delaunay art: Year of the Rabbit 2023\n",
    "             1. Patter and shape design (Inkscape)\n",
    "             2. Shape generation (Blender)\n",
    "        \n",
    "        -- Further on your own: \n",
    "             1. Rose design (Python)\n",
    "             2. Designs inspired from geometric fractals from day 1? Tetrahedron shape lamp with Sierpinski triangle designs?\n",
    "         "
   ]
  },
  {
   "cell_type": "markdown",
   "id": "a04f78eb",
   "metadata": {},
   "source": [
    "## 1. 3D printing"
   ]
  },
  {
   "cell_type": "markdown",
   "id": "6f192c56",
   "metadata": {},
   "source": [
    "https://en.wikipedia.org/wiki/3D_printing : 3D printing or additive manufacturing is the construction of a three-dimensional object from a CAD model or a digital 3D model. It can be done in a variety of processes in which material is deposited, joined or solidified under computer control, with material being added together (such as plastics, liquids or powder grains being fused), typically layer by layer."
   ]
  },
  {
   "cell_type": "markdown",
   "id": "57034d8b",
   "metadata": {},
   "source": [
    "## 1.1. 3D printer and how it works: "
   ]
  },
  {
   "cell_type": "markdown",
   "id": "49ba31f0",
   "metadata": {},
   "source": [
    "Let's look at a video: https://www.youtube.com/watch?v=m_QhY1aABsE (Baby Groot - 3D Printing Time Lapse)"
   ]
  },
  {
   "cell_type": "markdown",
   "id": "92bb0518",
   "metadata": {},
   "source": [
    "Traditional 3D printer: \n",
    "- The 3D model is printed layer by layer.\n",
    "- At each layer: the printer melts some plastic filaments (usually PLA, ABS) at high temperature at the nozzle. The nozzle then deposits the melted plastic at a fine resolution (milimeter) onto the current printing layer. Once the hot melted plastic touches the cold layer surface, it cools down immediately, and solidifies immediately at the deposited location. \n",
    "- Layer by layer, we get our final shape of the 3D model. "
   ]
  },
  {
   "cell_type": "markdown",
   "id": "676d3ee2",
   "metadata": {},
   "source": [
    "As we can imaging, since the model is printed layer by later, for regions of the model that's overhanging in the air, some support structure is needed to suport the printing of them, as seen in the image below: \n",
    "(Image source: https://www.printables.com/model/272073-dachshund-low-poly/comments/397148)"
   ]
  },
  {
   "cell_type": "markdown",
   "id": "f2f70be9",
   "metadata": {},
   "source": [
    "![support_structure](https://raw.githubusercontent.com/yue-sun/generative-art/main/05_friday/figs/support_structure.PNG)"
   ]
  },
  {
   "cell_type": "markdown",
   "id": "6f5c071d",
   "metadata": {},
   "source": [
    "The support structure is usually generated automatically by the 3D printing softwares of the 3D printers. There are some settings that users can adjust, that can customize the:\n",
    "- Support structure inner filling percentage, i.e. how solid/dense the plastic in the support structures are.\n",
    "- The inner mesh type of the support structure, eg. hexagonal, or rectangular, or triangular\n",
    "- The maximum angle allowed before using support structure (a safe value is 45 degree; usually 60 degrees is fine too; more than 60 degrees probably needs support)"
   ]
  },
  {
   "cell_type": "markdown",
   "id": "7094c104",
   "metadata": {},
   "source": [
    "![support_illus_1](https://raw.githubusercontent.com/yue-sun/generative-art/main/05_friday/figs/support_illus_1.PNG)"
   ]
  },
  {
   "cell_type": "markdown",
   "id": "5a1de481",
   "metadata": {},
   "source": [
    "Overhanging angles illustration: (image source: https://omni3d.com/blog/how-to-calculate-maximum-overhang-angle/)"
   ]
  },
  {
   "cell_type": "markdown",
   "id": "a0983335",
   "metadata": {},
   "source": [
    "![support_illus_2](https://raw.githubusercontent.com/yue-sun/generative-art/main/05_friday/figs/support_illus_2.png)"
   ]
  },
  {
   "cell_type": "markdown",
   "id": "b946356f",
   "metadata": {},
   "source": [
    "## 1.2. The 3D design and printing pipeline"
   ]
  },
  {
   "cell_type": "markdown",
   "id": "0530c889",
   "metadata": {},
   "source": [
    "The 3D design and printing pipeline is as such: \n",
    "- First, designers design 3D models. These 3D models are represented on the computer with triangular mesh. \n",
    "- Next, we load the 3D models onto the 3D printers. The 3D printing software would convert our triangular mesh 3D model into machine readable code, called G-code. G-code specifies precise machine instructions on how to print each layer of the model. \n",
    "- Lastly, the 3D printer reads the G-code instructions, and print out the model layer by layer. \n",
    "\n",
    "We will look at each of these steps in what follows. "
   ]
  },
  {
   "cell_type": "markdown",
   "id": "cfdfa593",
   "metadata": {},
   "source": [
    "## 1.2.1. Representation of 3D models"
   ]
  },
  {
   "cell_type": "markdown",
   "id": "e4339fd4",
   "metadata": {},
   "source": [
    "We as the designers, can design our 3D shapes. On computer design softwares, these 3d shapes are computed and represented by Delauney tetrohedronization. \n",
    "(image source: http://persson.berkeley.edu/distmesh/persson04mesh.pdf)"
   ]
  },
  {
   "cell_type": "markdown",
   "id": "c436e037",
   "metadata": {},
   "source": [
    "![tet_mesh.png](https://raw.githubusercontent.com/yue-sun/generative-art/main/05_friday/figs/tet_mesh.PNG)"
   ]
  },
  {
   "cell_type": "markdown",
   "id": "4956a91f",
   "metadata": {},
   "source": [
    "But for most cases, we only need to have the surface triangle mesh to represent the shapes, rather than the full tetrahedronization. So only the surface triangles of the tetrahedron mesh need to be extracted, to represent our 3D model. \n",
    "(image source: http://web4.cs.ucl.ac.uk/research/vis/toast/demo_meshgen1/demo_meshgen1.html)"
   ]
  },
  {
   "cell_type": "markdown",
   "id": "221e7996",
   "metadata": {},
   "source": [
    "![surface_mesh.png](https://raw.githubusercontent.com/yue-sun/generative-art/main/05_friday/figs/surface_mesh.PNG)"
   ]
  },
  {
   "cell_type": "markdown",
   "id": "9cdac868",
   "metadata": {},
   "source": [
    "The mesh info can be saved in .STL file, which stores each surface triangle's:\n",
    " - vertex indices\n",
    " - vertex coordinates\n",
    " - triangle face normals (orientation: which side is inside of shape, which side is facing outside of shape)"
   ]
  },
  {
   "cell_type": "markdown",
   "id": "234d23b0",
   "metadata": {},
   "source": [
    "![stl_example_text.png](https://raw.githubusercontent.com/yue-sun/generative-art/main/05_friday/figs/stl_example_text.png)"
   ]
  },
  {
   "cell_type": "markdown",
   "id": "ca3d8a9c",
   "metadata": {},
   "source": [
    "## 1.3. Convert 3D model to machine code G-code: "
   ]
  },
  {
   "cell_type": "markdown",
   "id": "6536103c",
   "metadata": {},
   "source": [
    "The 3D printer reads G-code, which are instructions on how to print each layer of the model. "
   ]
  },
  {
   "cell_type": "markdown",
   "id": "16c2e5fc",
   "metadata": {},
   "source": [
    "First video: https://www.youtube.com/watch?v=2TByiMNduss\n",
    "\n",
    "Second video: https://www.youtube.com/watch?v=weyQViiTMVE"
   ]
  },
  {
   "cell_type": "markdown",
   "id": "d0329e9f",
   "metadata": {},
   "source": [
    "You can use Slic3r for your own G-code generation and preview. \n",
    "When you import your 3D STL model into a 3D pinter computer, the 3D printer's software will convert your model to G-code too, and you will be able to preview the printing on the computer interface. "
   ]
  },
  {
   "cell_type": "markdown",
   "id": "21ca88dc",
   "metadata": {},
   "source": [
    "Let's jump straight into making our models, and I will introuce some useful tools along the way. "
   ]
  },
  {
   "cell_type": "markdown",
   "id": "6697a955",
   "metadata": {},
   "source": [
    "## Model A: Tea light holder"
   ]
  },
  {
   "cell_type": "markdown",
   "id": "cc5e55bf",
   "metadata": {},
   "source": [
    "Preview of sample final result!"
   ]
  },
  {
   "cell_type": "markdown",
   "id": "0460f898",
   "metadata": {},
   "source": [
    "![lamp_example_view1.png](https://raw.githubusercontent.com/yue-sun/generative-art/main/05_friday/figs/lamp_example_view1.png)"
   ]
  },
  {
   "cell_type": "markdown",
   "id": "8f1e2089",
   "metadata": {},
   "source": [
    "1. First, let's use Mathematica to make our basic shapes of the top and bottom pieces. Please open \"lamp_pieces_model.nb\" and follow along. In the end, we will have generated four \"STL\" format files, which we will use for model editing later. "
   ]
  },
  {
   "cell_type": "markdown",
   "id": "2d598d7b",
   "metadata": {},
   "source": [
    "2. Secondly, let's open Blender. Now, we will import our four STL files into Blender. Please follow along for the editing. Some useful tips: \n",
    "- \"Object\" mode for adding modifiers to meshes. For our purpose, the modifiers most useful are: Remesh (Voxel), Boolean. \n",
    "- If we have loose parts after Boolean Difference operations, we need to go to \"Edit\" mode, then \"Mesh->Separate by Loose parts\" to make them into different objects. \n",
    "- Eventually, we will export our final model as \"STL\" file. "
   ]
  },
  {
   "cell_type": "markdown",
   "id": "ab66793f",
   "metadata": {},
   "source": [
    "3. Lastly, we will use MeshLab to simplify our models (Reduce their triangle meshes for a smaller file size). Tip:\n",
    "-  We can use \"Filters -> Remeshing, Simplification and Reconstruction -> Simplification: Quadric Edge Collapse Decimation\", we can input \"Percentage reduction: 0.9\", so in each application, the resulting number of triangle faces would be $n_{k+1}=0.9n_k$. Let's also select \"Preserve boundary of the mesh\". Then we will do a few applications of the reduction. "
   ]
  },
  {
   "cell_type": "markdown",
   "id": "fc2da2bb",
   "metadata": {},
   "source": [
    "## Model B: Year of the Rabbit 2023!"
   ]
  },
  {
   "cell_type": "markdown",
   "id": "fac63319",
   "metadata": {},
   "source": [
    "Preview of sample final result!"
   ]
  },
  {
   "cell_type": "markdown",
   "id": "03cc0c0e",
   "metadata": {},
   "source": [
    "![rabbit_2023_model_view.png](https://raw.githubusercontent.com/yue-sun/generative-art/main/05_friday/figs/rabbit_2023_model_view.png)"
   ]
  },
  {
   "cell_type": "markdown",
   "id": "fbdecc44",
   "metadata": {},
   "source": [
    "### Inkscape creating 2D vectorized design (.svg)"
   ]
  },
  {
   "cell_type": "markdown",
   "id": "4868dfaa",
   "metadata": {},
   "source": [
    "1. First, let's open Inkscape and copy+paste the \"rabbit_image\" into Inkscape. "
   ]
  },
  {
   "cell_type": "markdown",
   "id": "ca8f9c0b",
   "metadata": {},
   "source": [
    "2. Secondly, let's vectorize the image by applying the \"Trace bitmap\" tool."
   ]
  },
  {
   "cell_type": "markdown",
   "id": "5f74be05",
   "metadata": {},
   "source": [
    "3. Thirdly, let's create a circle object for our generator points. We can do \"Extensions -> Generate from Path -> Scatter\", and input \"spcae between copies\" 7 to 10. Select \"Live preview\". We want the shape boundary points to capture the rough features of the shape, but not too dense - so after adding thickness to the line, it is suitable for 3D printing. "
   ]
  },
  {
   "cell_type": "markdown",
   "id": "26b4b594",
   "metadata": {},
   "source": [
    "4. Next, let's randomly place ~20-25 inner points inside the bunny shape. "
   ]
  },
  {
   "cell_type": "markdown",
   "id": "38bb9766",
   "metadata": {},
   "source": [
    "5. Then, we can select these points, and do \"Extensions -> Generate from path -> Voronoi diagram\", and choose \"Type of diagram: Delaunay triangulation\" and \"Triangle color: Default\". Let's also select \"live preview\"."
   ]
  },
  {
   "cell_type": "markdown",
   "id": "7fb61aa4",
   "metadata": {},
   "source": [
    "6. Now, let's move our triangulation to another empty space (separated from the generator points). Then, we can overlay our original bunny vectorized image onto the triangulation. We can then delete triangles outside of the shape. "
   ]
  },
  {
   "cell_type": "markdown",
   "id": "bbb881c7",
   "metadata": {},
   "source": [
    "7. Lastly, let's group the resulting triangles as our triangulation. We can also do some final editing, like adding the \"2023\" text. Eventually, we can \"group\" our final designs, and output using \"File -> Export -> Selection -> Export Selected Only -> Plain SVG(*.svg)\"."
   ]
  },
  {
   "cell_type": "markdown",
   "id": "1d075248",
   "metadata": {},
   "source": [
    "### Blender adding thickness to 2D design for 3D mesh model (.STL)"
   ]
  },
  {
   "cell_type": "markdown",
   "id": "5ceaad49",
   "metadata": {},
   "source": [
    "- Import .SVG, quick key: \"S\" scaling, \"G\" move it around, \"G\", then \"x\" move along x axis; similarly for \"y\", \"z\".\n",
    "- Object mode: Object-> Convert -> Mesh.\n",
    "- Edit mode: \"Select ->All\", quick key \"e\" then move your mouse for desired thickness. click mouse to confirm. \n",
    "- Export mesh as STL."
   ]
  },
  {
   "cell_type": "markdown",
   "id": "33cba6d5",
   "metadata": {},
   "source": [
    "## Model C: Rose "
   ]
  },
  {
   "cell_type": "markdown",
   "id": "2fbd5a0a",
   "metadata": {},
   "source": [
    "Rose: https://en.wikipedia.org/wiki/Rose_(mathematics)"
   ]
  },
  {
   "cell_type": "markdown",
   "id": "da85e755",
   "metadata": {},
   "source": [
    "Play around the Rose code and make your own rose! You can play around Python and Inkscape for your 2D Rose design. And then use the previous procedure: Save your design as PNG, import to Inscape for editing, save as .SVG and use Blender to convert the 2D vector image (.SVG) to 3D printable mesh (.STL)."
   ]
  },
  {
   "cell_type": "code",
   "execution_count": null,
   "id": "9d63dd6e",
   "metadata": {},
   "outputs": [],
   "source": [
    "import numpy as np\n",
    "import matplotlib.pyplot as plt"
   ]
  },
  {
   "cell_type": "code",
   "execution_count": null,
   "id": "35fcaed1",
   "metadata": {},
   "outputs": [],
   "source": [
    "#Choose your n and d parameters\n",
    "n=7.0\n",
    "d=6.0"
   ]
  },
  {
   "cell_type": "code",
   "execution_count": null,
   "id": "54b14a60",
   "metadata": {},
   "outputs": [],
   "source": [
    "#Rose curve in polar coordinates\n",
    "k=n/d\n",
    "delta=np.linspace(0,d*2*np.pi,1000)\n",
    "r=np.sin(k*delta)"
   ]
  },
  {
   "cell_type": "code",
   "execution_count": null,
   "id": "ab3c07d1",
   "metadata": {},
   "outputs": [],
   "source": [
    "#Plot the curve\n",
    "#Note that plt.polar function does not plot r<=0 values\n",
    "#So we can manually add pi when r<0 (i.e. reflect across the origin), and replace r with abs(r).\n",
    "#Reference: https://stackoverflow.com/questions/67989467/plotting-rose-curve-in-python-with-even-petals\n",
    "#Customize your line width, etc, and export to image.\n",
    "plt.figure(figsize=(10,10))\n",
    "plt.polar(delta+(r<0)*np.pi, np.abs(r), 'g-', linewidth=15)\n",
    "plt.axis(\"off\")"
   ]
  },
  {
   "cell_type": "markdown",
   "id": "33c5179a",
   "metadata": {},
   "source": [
    "## 3. Other info"
   ]
  },
  {
   "cell_type": "markdown",
   "id": "93aa78a2",
   "metadata": {},
   "source": [
    "Some printing resources:\n",
    "- Harvard students have free access to SEAS MakerSpace. Once through a training session you will have swipe access 7am-12am. \n",
    "- shapeways.com"
   ]
  },
  {
   "cell_type": "markdown",
   "id": "c47d61a0",
   "metadata": {},
   "source": [
    "More to explore: \n",
    "- a powerful mesh manipulation/editing tool: MeshMixer, only available for Windows.\n",
    "- Other useful modeling tools: tinkercad.com, Fusion 360, Rhino, OpenSCAD, SketchUp, etc\n"
   ]
  },
  {
   "cell_type": "markdown",
   "id": "167750b8",
   "metadata": {},
   "source": [
    "## ~ Thank you ~"
   ]
  }
 ],
 "metadata": {
  "kernelspec": {
   "display_name": "Python 3",
   "language": "python",
   "name": "python3"
  },
  "language_info": {
   "codemirror_mode": {
    "name": "ipython",
    "version": 3
   },
   "file_extension": ".py",
   "mimetype": "text/x-python",
   "name": "python",
   "nbconvert_exporter": "python",
   "pygments_lexer": "ipython3",
   "version": "3.8.8"
  },
  "vscode": {
   "interpreter": {
    "hash": "31f2aee4e71d21fbe5cf8b01ff0e069b9275f58929596ceb00d14d90e3e16cd6"
   }
  }
 },
 "nbformat": 4,
 "nbformat_minor": 5
}
