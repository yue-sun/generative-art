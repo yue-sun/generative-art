{
 "cells": [
  {
   "cell_type": "markdown",
   "id": "c62b4fef",
   "metadata": {},
   "source": [
    "[![Open In Colab](https://colab.research.google.com/assets/colab-badge.svg)](http://colab.research.google.com/github/yue-sun/generative-art/blob/main/05_friday/01_3d_printing.ipynb)"
   ]
  },
  {
   "cell_type": "markdown",
   "id": "35cf10f4",
   "metadata": {},
   "source": [
    "# 3D Printing of Mathematical Art\n",
    "\n",
    "Jiayin Lu, Jan 2023, Jan 2023 mini-course"
   ]
  },
  {
   "cell_type": "markdown",
   "id": "47898e47",
   "metadata": {},
   "source": [
    "## Learning goals:\n",
    " - Intro to 3D printing and the design & print pipeline\n",
    " - Try out some useful design tools: Mathematica, Blender, Inkscape\n",
    " - Make some printable models!\n",
    "\n",
    "## Artistic goal: \n",
    "  - Make a few models, and you may print them out yourself later. (time permit, but we will try to finish at least the first two :D )\n",
    "  \n",
    "        -- Voronoi cylindrical lamp \n",
    "             1. Pattern generation (Python)\n",
    "             2. Convert PNG to SVG (Inkscape)\n",
    "             3. Shape manipulation (Blender)\n",
    "  \n",
    "        -- Tea light holder\n",
    "             1. top piece: regular polygon shape with wireframe (Mathematica)\n",
    "             2. bottom piece: wavy bottom with pattern (Mathematica)\n",
    "             3. Shape manipulation (Blender)\n",
    "             \n",
    "        -- Delaunay art: Year of the Rabbit 2023\n",
    "             1. Patter and shape design (Inkscape)\n",
    "             2. Shape generation (Blender)\n",
    "        \n",
    "        -- Further on your own: \n",
    "             1. Rose design (Python)\n",
    "             2. Designs inspired from geometric fractals from day 1? Tetrahedron shape lamp with Sierpinski triangle designs?\n",
    "         "
   ]
  },
  {
   "cell_type": "markdown",
   "id": "a04f78eb",
   "metadata": {},
   "source": [
    "## 1. 3D printing"
   ]
  },
  {
   "cell_type": "markdown",
   "id": "6f192c56",
   "metadata": {},
   "source": [
    "https://en.wikipedia.org/wiki/3D_printing : 3D printing or additive manufacturing is the construction of a three-dimensional object from a CAD model or a digital 3D model. It can be done in a variety of processes in which material is deposited, joined or solidified under computer control, with material being added together (such as plastics, liquids or powder grains being fused), typically layer by layer."
   ]
  },
  {
   "cell_type": "markdown",
   "id": "57034d8b",
   "metadata": {},
   "source": [
    "## 1.1. 3D printer and how it works: "
   ]
  },
  {
   "cell_type": "markdown",
   "id": "49ba31f0",
   "metadata": {},
   "source": [
    "Let's look at a video: https://www.youtube.com/watch?v=m_QhY1aABsE (Baby Groot - 3D Printing Time Lapse)"
   ]
  },
  {
   "cell_type": "markdown",
   "id": "92bb0518",
   "metadata": {},
   "source": [
    "Traditional 3D printer: \n",
    "- The 3D model is printed layer by layer.\n",
    "- At each layer: the printer melts some plastic filaments (usually PLA, ABS) at high temperature at the nozzle. The nozzle then deposits the melted plastic at a fine resolution (milimeter) onto the current printing layer. Once the hot melted plastic touches the cold layer surface, it cools down immediately, and solidifies immediately at the deposited location. \n",
    "- Layer by layer, we get our final shape of the 3D model. "
   ]
  },
  {
   "cell_type": "markdown",
   "id": "80f788f1",
   "metadata": {},
   "source": [
    "## 1.1.1. Support Structure"
   ]
  },
  {
   "cell_type": "markdown",
   "id": "676d3ee2",
   "metadata": {},
   "source": [
    "As we can imaging, since the model is printed layer by later, for regions of the model that's overhanging in the air, some support structure is needed to suport the printing of them, as seen in the image below: \n",
    "(Image source: https://www.printables.com/model/272073-dachshund-low-poly/comments/397148)"
   ]
  },
  {
   "cell_type": "markdown",
   "id": "f2f70be9",
   "metadata": {},
   "source": [
    "![support_structure](https://raw.githubusercontent.com/yue-sun/generative-art/main/05_friday/figs/support_structure.png)"
   ]
  },
  {
   "cell_type": "markdown",
   "id": "377d105b",
   "metadata": {},
   "source": [
    "The support structure is usually generated automatically by the 3D printing softwares of the 3D printers. As designers, we need to keep in mind the overhanging angles of the print in our design process, which is the maximum angle allowed before using support structure:\n",
    "- a safe value is 45 degree; usually 60 degrees is fine too; more than 60 degrees probably needs support"
   ]
  },
  {
   "cell_type": "markdown",
   "id": "5a1de481",
   "metadata": {},
   "source": [
    "Overhanging angles illustration: (image source: https://omni3d.com/blog/how-to-calculate-maximum-overhang-angle/)"
   ]
  },
  {
   "cell_type": "markdown",
   "id": "a0983335",
   "metadata": {},
   "source": [
    "![support_illus_2](https://raw.githubusercontent.com/yue-sun/generative-art/main/05_friday/figs/support_illus_2.png)"
   ]
  },
  {
   "cell_type": "markdown",
   "id": "dbd7a0a8",
   "metadata": {},
   "source": [
    "## 1.1.2. Infill Structure"
   ]
  },
  {
   "cell_type": "markdown",
   "id": "468ec79b",
   "metadata": {},
   "source": [
    "As designers, we specify the geometry surface shape. When the 3D printer reads in the geometry surface shape and prints out the shape, the inner region of the geometry will have infill printing too, that supports the surface geometry shape. The infil is usually generated automatically by the 3D printing softwares of the 3D printers. There are some settings that users can adjust, that can customize the:\n",
    "- Infill percentage, i.e. how solid/dense the plastic of the infill is. For example, 100% infill would give us a completely solid print.\n",
    "- The mesh type of the infill structure, eg. hexagonal, or rectangular, or triangular"
   ]
  },
  {
   "cell_type": "markdown",
   "id": "a08c2842",
   "metadata": {},
   "source": [
    "![support_illus_1](https://raw.githubusercontent.com/yue-sun/generative-art/main/05_friday/figs/support_illus_1.png)"
   ]
  },
  {
   "cell_type": "markdown",
   "id": "b58c8f33",
   "metadata": {},
   "source": [
    "![infill pattern](https://raw.githubusercontent.com/yue-sun/generative-art/main/05_friday/figs/infill_pattern.png)"
   ]
  },
  {
   "cell_type": "markdown",
   "id": "b946356f",
   "metadata": {},
   "source": [
    "## 1.2. The 3D design and printing pipeline"
   ]
  },
  {
   "cell_type": "markdown",
   "id": "636de921",
   "metadata": {},
   "source": [
    "Reference (Very useful/more detailed material from the MIT Advanced Computer Graphics Couse!): https://stellar.mit.edu/S/course/6/fa19/6.839/courseMaterial/topics/topic1/lectureNotes/02_PrintingPipeline/02_PrintingPipeline.pdf"
   ]
  },
  {
   "cell_type": "markdown",
   "id": "0530c889",
   "metadata": {},
   "source": [
    "The 3D design and printing pipeline is as such: \n",
    "- First, designers design 3D models. These 3D models are represented on the computer with triangular mesh. \n",
    "- Next, we load the 3D models onto the 3D printers. The 3D printing software would convert our triangular mesh 3D model into machine readable code, called G-code. G-code specifies precise machine instructions on how to print each layer of the model. \n",
    "- Lastly, the 3D printer reads the G-code instructions, and print out the model layer by layer. \n",
    "\n",
    "We will look at each of these steps in what follows. "
   ]
  },
  {
   "cell_type": "markdown",
   "id": "cfdfa593",
   "metadata": {},
   "source": [
    "## 1.2.1. Representation of 3D models"
   ]
  },
  {
   "cell_type": "markdown",
   "id": "e4339fd4",
   "metadata": {},
   "source": [
    "We as the designers, can design our 3D shapes. On computer design softwares, these 3d shapes are computed and represented by Delaunay tetrahedronization. \n",
    "(image source: http://persson.berkeley.edu/distmesh/persson04mesh.pdf)"
   ]
  },
  {
   "cell_type": "markdown",
   "id": "c436e037",
   "metadata": {},
   "source": [
    "![tet_mesh.png](https://raw.githubusercontent.com/yue-sun/generative-art/main/05_friday/figs/tet_mesh.png)"
   ]
  },
  {
   "cell_type": "markdown",
   "id": "4956a91f",
   "metadata": {},
   "source": [
    "But for most cases, we only need to have the surface triangle mesh to represent the shapes, rather than the full tetrahedronization. So only the surface triangles of the tetrahedron mesh need to be extracted and stored, to represent our 3D model. \n",
    "(image source: http://web4.cs.ucl.ac.uk/research/vis/toast/demo_meshgen1/demo_meshgen1.html)"
   ]
  },
  {
   "cell_type": "markdown",
   "id": "221e7996",
   "metadata": {},
   "source": [
    "![surface_mesh.png](https://raw.githubusercontent.com/yue-sun/generative-art/main/05_friday/figs/surface_mesh.png)"
   ]
  },
  {
   "cell_type": "markdown",
   "id": "9cdac868",
   "metadata": {},
   "source": [
    "The mesh info can be saved in .STL file, which stores each surface triangle's:\n",
    " - vertex coordinates\n",
    " - triangle face normals (orientation: which side is inside of shape, which side is facing outside of shape)"
   ]
  },
  {
   "cell_type": "markdown",
   "id": "234d23b0",
   "metadata": {},
   "source": [
    "![stl_example_text.png](https://raw.githubusercontent.com/yue-sun/generative-art/main/05_friday/figs/stl_example_text.png)"
   ]
  },
  {
   "cell_type": "markdown",
   "id": "ca3d8a9c",
   "metadata": {},
   "source": [
    "## 1.2.2. Convert 3D model (.STL file) to machine code (G-code): "
   ]
  },
  {
   "cell_type": "markdown",
   "id": "46c44725",
   "metadata": {},
   "source": [
    "Again, reference on materials/images in this part: https://stellar.mit.edu/S/course/6/fa19/6.839/courseMaterial/topics/topic1/lectureNotes/02_PrintingPipeline/02_PrintingPipeline.pdf"
   ]
  },
  {
   "cell_type": "markdown",
   "id": "a0a99bb1",
   "metadata": {},
   "source": [
    "## Step 1: Slicing"
   ]
  },
  {
   "cell_type": "markdown",
   "id": "24a3c591",
   "metadata": {},
   "source": [
    "![slicing](https://raw.githubusercontent.com/yue-sun/generative-art/main/05_friday/figs/slicing.png)"
   ]
  },
  {
   "cell_type": "markdown",
   "id": "88f015ca",
   "metadata": {},
   "source": [
    "## Step 2: G-code"
   ]
  },
  {
   "cell_type": "markdown",
   "id": "6536103c",
   "metadata": {},
   "source": [
    "The 3D printer reads G-code, which are instructions on how to print each layer of the model. "
   ]
  },
  {
   "cell_type": "markdown",
   "id": "1de402be",
   "metadata": {},
   "source": [
    "![g_code](https://raw.githubusercontent.com/yue-sun/generative-art/main/05_friday/figs/g_code_example.png)"
   ]
  },
  {
   "cell_type": "markdown",
   "id": "d0329e9f",
   "metadata": {},
   "source": [
    "You can use Repetier-Host (https://www.repetier.com) to view your model, slice it, and generate the G-code via connecting to a virtual 3D printer, and preview the printing process. \n",
    "\n",
    "- Demo with Repetier-Host:\n",
    "   \n",
    "    -- First, set up a virtual printer: Printer->Printer settings-> Port: Virtual printer-> \"Apply\", \"Ok\". Then, press \"Connect\".\n",
    "\n",
    "    -- Then, load the .STL model (\"Add STL File\"): https://www.thingiverse.com/thing:1545913/files (A very useful website for downloading models people made: thingiverse.com)\n",
    "\n",
    "    -- Then, slice: \"Slicer\" tab, click \"Slice with Slic3r\".\n",
    "\n",
    "    -- Next, we can view our G-Code. If you specify a range, and select \"show layer range\", you can see the layers that the G-code is printing."
   ]
  },
  {
   "cell_type": "markdown",
   "id": "913fa52f",
   "metadata": {},
   "source": [
    "When you load your 3D (.STL) model onto a 3D pinter, the 3D printer's software will also convert your model to G-code, and you will be able to preview the layer-by-layer printing on the computer screen interface as well. "
   ]
  },
  {
   "cell_type": "markdown",
   "id": "21ca88dc",
   "metadata": {},
   "source": [
    "Let's jump straight into making our models, and I will introuce some useful tools along the way. "
   ]
  },
  {
   "cell_type": "markdown",
   "id": "5ea80c0e",
   "metadata": {},
   "source": [
    "## 2. Modeling"
   ]
  },
  {
   "cell_type": "markdown",
   "id": "be04ef37",
   "metadata": {},
   "source": [
    "First, we will make some lamps. Why? Because they are always pretty with lights! :D\n",
    "\n",
    "PS. For lamp lights, personally, I like these types of small round LED lights with battery and switch: https://www.amazon.com/JJGoo-Waterproof-Birthday-Halloween-Christmas/dp/B07TMY9L3J/ref=sr_1_8?crid=1IJ91SXN6NNOJ&keywords=led%2Blights%2Bsmall&qid=1673518789&sprefix=led%2Blights%2Bsmall%2Caps%2C237&sr=8-8&th=1\n",
    "\n",
    "Many other options available on Amazon!"
   ]
  },
  {
   "cell_type": "markdown",
   "id": "68a7aa61",
   "metadata": {},
   "source": [
    "## 2.1. Voronoi cylindrical lamp "
   ]
  },
  {
   "cell_type": "markdown",
   "id": "5d534b86",
   "metadata": {},
   "source": [
    "Preview of the sample final result!"
   ]
  },
  {
   "cell_type": "markdown",
   "id": "81e82d5e",
   "metadata": {},
   "source": [
    "![VoroLamp_preview](https://raw.githubusercontent.com/yue-sun/generative-art/main/05_friday/figs/voro_lamp_preview.png)"
   ]
  },
  {
   "cell_type": "markdown",
   "id": "3a1ef94e",
   "metadata": {},
   "source": [
    "### Step 1. Pattern generation (Python)"
   ]
  },
  {
   "cell_type": "markdown",
   "id": "54e836c4",
   "metadata": {},
   "source": [
    "We want our Voronoi diagram to be bounded on the top and bottom, and periodic in the x-direction (left and right). So, we can wrap it around a cylinder, and the left and right ends of the Voronoi diagram will connect perfectly. "
   ]
  },
  {
   "cell_type": "code",
   "execution_count": null,
   "id": "d354df54",
   "metadata": {},
   "outputs": [],
   "source": [
    "#Import relevant libraries\n",
    "import numpy as np\n",
    "import matplotlib.pyplot as plt\n",
    "from scipy.spatial import Voronoi, voronoi_plot_2d\n",
    "from google.colab import files"
   ]
  },
  {
   "cell_type": "markdown",
   "id": "b2eb9679",
   "metadata": {},
   "source": [
    "Let's copy and paste the bounded_voronoi() functions from Tuesday's notebooks:"
   ]
  },
  {
   "cell_type": "code",
   "execution_count": null,
   "id": "09a923c6",
   "metadata": {},
   "outputs": [],
   "source": [
    "# Compute a Voronoi diagram with rectangular bounds.\n",
    "def bounded_voronoi(pts, bounds):\n",
    "    # create the initial Voronoi diagram.\n",
    "    vor = Voronoi(pts, incremental=True)\n",
    "\n",
    "    # find vertices that lie outside the bounded domain, and store their index.\n",
    "    # Also include -1, which is scipy's flag for a vertex outside the Voronoi diagram.\n",
    "    out_vert_ids = [-1]+[i for i,v in enumerate(vor.vertices) if not in_bounds(v, bounds)]\n",
    "\n",
    "    # identify which points have cell vertices outside the domain, and store their index.\n",
    "    bound_ids = [i for i,r in enumerate(vor.point_region)\n",
    "                 if any(v in out_vert_ids for v in vor.regions[r])]\n",
    "\n",
    "    # mirror the boundary points and add them to the diagram. This makes the cells of\n",
    "    # all our original points bounded in the rectangular domain.\n",
    "    pts_add = mirror_points(pts[bound_ids,:], bounds)\n",
    "    vor.add_points(pts_add)\n",
    "    return vor\n",
    "\n",
    "def mirror_points(pts, bounds):\n",
    "    # inspired by: https://stackoverflow.com/questions/28665491/getting-a-bounded-polygon\n",
    "    #-coordinates-from-voronoi-cells.\n",
    "    # mirror the points over the boundaries of the bounding box to obtain bounded\n",
    "    # polygons for all voronoi cells of interest.\n",
    "    xmin, xmax, ymin, ymax = bounds\n",
    "    xmid = 0.5*(xmin+xmax)\n",
    "    ymid = 0.5*(ymin+ymax)\n",
    "    pts_n = np.copy(pts[pts[:,1]>ymid]); pts_s = np.copy(pts[pts[:,1]<ymid])\n",
    "    pts_e = np.copy(pts[pts[:,0]>xmid]); pts_w = np.copy(pts[pts[:,0]<xmid])\n",
    "    pts_n[:,1] = ymax+(ymax-pts_n[:,1])\n",
    "    pts_s[:,1] = ymin-(pts_s[:,1]-ymin)\n",
    "    pts_e[:,0] = xmax+(xmax-pts_e[:,0])\n",
    "    pts_w[:,0] = xmin-(pts_w[:,0]-xmin)\n",
    "    pts_c = np.vstack([pts_n,pts_s,pts_e,pts_w])\n",
    "    return pts_c\n",
    "\n",
    "def in_bounds(pt, bounds):\n",
    "    xmin, xmax, ymin, ymax = bounds\n",
    "    return (xmin <= pt[0] <= xmax) and (ymin <= pt[1] <= ymax)\n"
   ]
  },
  {
   "cell_type": "markdown",
   "id": "6f311b1e",
   "metadata": {},
   "source": [
    "Let's define our interested domain bound, and generate the initial set of points"
   ]
  },
  {
   "cell_type": "code",
   "execution_count": null,
   "id": "6d1f72ad",
   "metadata": {},
   "outputs": [],
   "source": [
    "#domain bound\n",
    "x0=0\n",
    "x1=150\n",
    "lx=x1-x0\n",
    "y0=0\n",
    "y1=60\n",
    "ly=y1-y0\n",
    "\n",
    "#Initial set of points in the domain, random and uniform distribution\n",
    "seed=10\n",
    "rng = np.random.default_rng(seed) #random number generator\n",
    "neps=1\n",
    "Npt=50\n",
    "pts=[]\n",
    "for i in range(Npt):\n",
    "    pts.append([rng.integers(low=x0+neps,high=x1-neps,endpoint=False), \\\n",
    "                rng.integers(low=y0+neps,high=y1-neps,endpoint=False)])\n",
    "pts = np.array(pts)\n",
    "\n",
    "#Obtain new sets of points, by \n",
    "#shifting the original set of points to the left/right by lx (x range) amount\n",
    "pts_shift_left=pts-[lx,0]\n",
    "pts_shift_right=pts+[lx,0]\n",
    "\n",
    "#plot the set of points and see\n",
    "plt.figure(figsize=(30,10))\n",
    "plt.plot(pts[:,0],pts[:,1],\"*\")\n",
    "plt.plot(pts_shift_left[:,0],pts_shift_left[:,1],\"*\")\n",
    "plt.plot(pts_shift_right[:,0],pts_shift_right[:,1],\"*\")"
   ]
  },
  {
   "cell_type": "code",
   "execution_count": null,
   "id": "00aa488b",
   "metadata": {},
   "outputs": [],
   "source": [
    "#Get the full set of points\n",
    "full_pts=np.concatenate((pts,pts_shift_left,pts_shift_right),axis=0)\n",
    "#define bound for full_pts\n",
    "bound_full_pts=(x0-lx,x1+lx,y0,y1) \n",
    "#do the bounded Voronoi diagram calculation\n",
    "b_vor=bounded_voronoi(full_pts,bound_full_pts)\n",
    "\n",
    "fig = plt.figure(figsize=(30,6))\n",
    "ax = fig.add_subplot(111)\n",
    "voronoi_plot_2d(b_vor,ax)\n",
    "plt.show()"
   ]
  },
  {
   "cell_type": "markdown",
   "id": "fcc8405a",
   "metadata": {},
   "source": [
    "For our purpose, we only need the Voronoi diagram in our original defined domain:"
   ]
  },
  {
   "cell_type": "code",
   "execution_count": null,
   "id": "57d03176",
   "metadata": {},
   "outputs": [],
   "source": [
    "fig = plt.figure(figsize=(30,12))\n",
    "ax = fig.add_subplot(111)\n",
    "voronoi_plot_2d(b_vor,ax,show_points=False,show_vertices=False,line_width=25)\n",
    "eps=1\n",
    "plt.xlim((x0-eps,x1+eps)) #slightly larger here, to make sure after wrapping, there are some overlapping region for \"union\", to ensure a closed cylinder mesh.\n",
    "plt.ylim((y0-eps,y1+eps)) #slightly larger here, to show the full thick line_width at the top and bottom\n",
    "plt.axis(\"off\")\n",
    "plt.savefig(\"Voro_lamp_pattern.png\")\n",
    "files.download(\"Voro_lamp_pattern.png\") \n",
    "plt.show()"
   ]
  },
  {
   "cell_type": "markdown",
   "id": "dc579f22",
   "metadata": {},
   "source": [
    "### Step 2. Convert PNG to SVG (Inkscape)\n",
    "- SVG: Scalable Vector Graphics format, which represent shape boundaries with vectors. It will enable us to generate mesh on the shape later. \n",
    "- Let's save our Voronoi diagram as an image file. We can copy the image and paste it directly/import it into Inkscape.\n",
    "- Use \"trace bitmap\" tool to convert the image to a vectorized file. \n",
    "- Then, save it as a \"plain .svg\" file. Note: choose \"export selected only\"."
   ]
  },
  {
   "cell_type": "markdown",
   "id": "12cd93e1",
   "metadata": {},
   "source": [
    "### Step 3. Shape manipulation (Blender)\n",
    "\n",
    "#### Blender navigation: \n",
    "- Approach 1: Use the right hand side buttons on the view screen to navigate your view;\n",
    "- Approach 2: Laptop touch pad: \n",
    "\n",
    "        --- Rotate: two fingers touch & move around\n",
    "        --- Zoom: press \"control\" while two fingers touch & move around\n",
    "        --- Pan: press \"shift\" while two fingers touch & move around\n",
    "        --- Focus view on object: press object, then press keybroad button \"/\"\n",
    "\n",
    "\n",
    "#### A. import SVG & basic transformation\n",
    "\n",
    "(Object mode)\n",
    "\n",
    "- First, we will import the SVG. After importing, we can press \"s\" and then move the mouse to scale it up. \n",
    "- We can then press hotkey \"g\", and then \"x\"/\"y\"/\"z\" to move the object back to our center view.\n",
    "- We will then need to re-center our object's pivot point (for rotation later). To do so: Object -> Set origin -> Origin to geometry.\n",
    "- Next, we will rotate our imported plane .svg along the x-axis for 90 degrees, so it could \"stand up\" to be perpendicular to the bottom plane. \n",
    "\n",
    "#### B. make a 3D mesh out of it\n",
    "\n",
    "(Object mode)\n",
    "\n",
    "- Next, we will convert our svg to a mesh object, by: Object -> Convert -> Mesh. This converts it to triangular mesh. \n",
    "\n",
    "(Edit mode)\n",
    "\n",
    "- Now, with our mesh object, go to \"edit mode\", then press \"a\", which select all of the current objecct. \n",
    "- Then, press \"e\" and move the mouse slightly. This extrude our object surface and add thickness to the 2D deign. So we have a 3D mesh now!\n",
    "-Let's inspect our mesh, we see that the mesh is coarse in some parts. \n",
    "\n",
    "#### C. edit and bend the 3D mesh\n",
    "\n",
    "(Object mode - allow mesh modification)\n",
    "\n",
    "- Next, let's go back to object mode, which allow us to add modifier of the mesh. \n",
    "- First, let's do: \"Add modifier\"->\"Remesh\"->\"Smooth\"->\"Octree Depth 9\", and then click \"apply\" at the top right drop down menu of the modifier. Now, we have a much finer mesh. This would allow us to bend the mesh smoothly, since there are many triangles available to deform the shape smoothly. \n",
    "- Then, let's make visual our \"Cube\" again. Let's scale (\"s\") it down a little, and move it a little away from the mesh (\"g\"->\"y\"). \n",
    "- Then, let's select our mesh, and \"Add modifier\"->\"Simple Deform\"->\"Bend\", and choose \"Origin: Cube\", and \"Axis: Z\", and let's input the bending angle to be \"365\" degrees. We use 365 degrees, to account for the overlapping region in the x-direction boundary.  \n",
    "- Then, you can select the Cube, and press \"g\"->\"y\" to move the Cube along the y-axis, and see how the cylinder radius change for your lamp. \n",
    "- Once you are satisfied with a lamp cylindrical shape, click back the lamp object, and hit \"apply\" of the modifier. \n",
    "\n",
    "#### D. export and save as .STL\n",
    "\n",
    "(Object mode)\n",
    "\n",
    "- Lastly save the lamp as .STL: file->export->STL->\"Selection only\"->Choose your storage directory, and change the file name, and save. \n"
   ]
  },
  {
   "cell_type": "markdown",
   "id": "83376766",
   "metadata": {},
   "source": [
    "### Step 4. Mesh simplification & Scaling (MeshLab)\n",
    "\n",
    "- Next, we need to reduce/simplify the lamp mesh, because previously, we applied the \"Remesh\" modifier to convert it to a very fine mesh. However, to represent the shape of the lamp, it doesn't need the very fine mesh. Much less triangles are required to represent the shape well, and to have a small file size. This is necessary in many cases, as 3D printers have maximum loading file size requirement. \n",
    "- We can use \"Filters -> Remeshing, Simplification and Reconstruction -> Simplification: Quadric Edge Collapse Decimation\", we can input \"Percentage reduction: 0.9\", so in each application, the resulting number of triangle faces would be $n_{k+1}=0.9n_k$. Let's also select \"Preserve boundary of the mesh\", \"Preserve normal\", \"Preserve topology\". Then we will do a few applications of the reduction. \n",
    "- We can also resize (scale) our model here:\n",
    "\n",
    "    -- \"Render\" -> \"Show box corners\" displays the coordinates of the bounding box and dimensions\n",
    "\n",
    "    -- Scale: \"Filters\"->\"Normal, Curvatures and Orientation\"-> \"Transform: Scale, Normalize\". The numbers are usually interpreted as \"mm\" here.\n",
    "    \n",
    "- Lastly, save the mesh as STL file. We can compare the file size of the simplified mesh, with the original mesh. We see that the simplified mesh is now with a much smaller file size. "
   ]
  },
  {
   "cell_type": "markdown",
   "id": "6697a955",
   "metadata": {},
   "source": [
    "## 2.2. Tea light holder"
   ]
  },
  {
   "cell_type": "markdown",
   "id": "cc5e55bf",
   "metadata": {},
   "source": [
    "Preview of sample final result!"
   ]
  },
  {
   "cell_type": "markdown",
   "id": "0460f898",
   "metadata": {},
   "source": [
    "![lamp_example_view1.png](https://raw.githubusercontent.com/yue-sun/generative-art/main/05_friday/figs/lamp_example_view1.png)"
   ]
  },
  {
   "cell_type": "markdown",
   "id": "7f8456ba",
   "metadata": {},
   "source": [
    "![lamp_example_view2.png](https://raw.githubusercontent.com/yue-sun/generative-art/main/05_friday/figs/lamp_example_view2.png)"
   ]
  },
  {
   "cell_type": "markdown",
   "id": "8f1e2089",
   "metadata": {},
   "source": [
    "### Step 1: Shape creationc (Mathematica)\n",
    "First, let's use Mathematica to make our basic shapes of the top and bottom pieces. Please open \"lamp_pieces_model.nb\" and follow along. In the end, we will have generated four \"STL\" format files, which we will use for model editing later. "
   ]
  },
  {
   "cell_type": "markdown",
   "id": "2d598d7b",
   "metadata": {},
   "source": [
    "### Step 2: Shape manipulation (Blender)\n",
    "Secondly, let's open Blender. Now, we will import our four STL files into Blender. Please follow along for the editing. Some useful tips: \n",
    "- \"Object\" mode for adding modifiers to meshes. For our purpose, the modifiers most useful are: Remesh (Voxel), Boolean. \n",
    "- If we have loose parts after Boolean Difference operations, we need to go to \"Edit\" mode, then \"Mesh->Separate by Loose parts\" to make them into different objects. \n",
    "- Eventually, we will export our final model as \"STL\" file. "
   ]
  },
  {
   "cell_type": "markdown",
   "id": "ab66793f",
   "metadata": {},
   "source": [
    "### Step 3: Mesh simplification & scaling (MeshLab)\n",
    "Lastly, we will use MeshLab to simplify and scale our models. Tip:\n",
    "-  We can use \"Filters -> Remeshing, Simplification and Reconstruction -> Simplification: Quadric Edge Collapse Decimation\", we can input \"Percentage reduction: 0.9\", so in each application, the resulting number of triangle faces would be $n_{k+1}=0.9n_k$. Let's also select \"Preserve boundary of the mesh\". Then we will do a few applications of the reduction. "
   ]
  },
  {
   "cell_type": "markdown",
   "id": "fc2da2bb",
   "metadata": {},
   "source": [
    "## 2.3. Year of the Rabbit 2023! "
   ]
  },
  {
   "cell_type": "markdown",
   "id": "6ccf1c62",
   "metadata": {},
   "source": [
    "(If there is not enough time, this will be skipped. Detailed instructions on how to create this model is provided here. This model would also be the easiest after we have gone through the previous modelings. The only new tool added in here is the \"Delaunay triangulation\" generation functionality in Inkscape.)"
   ]
  },
  {
   "cell_type": "markdown",
   "id": "fac63319",
   "metadata": {},
   "source": [
    "Preview of sample final result!"
   ]
  },
  {
   "cell_type": "markdown",
   "id": "03cc0c0e",
   "metadata": {},
   "source": [
    "![rabbit_2023_model_view.png](https://raw.githubusercontent.com/yue-sun/generative-art/main/05_friday/figs/rabbit_2023_model_view.png)"
   ]
  },
  {
   "cell_type": "markdown",
   "id": "fbdecc44",
   "metadata": {},
   "source": [
    "### Step 1. Inkscape creating 2D vectorized design (.svg)"
   ]
  },
  {
   "cell_type": "markdown",
   "id": "4868dfaa",
   "metadata": {},
   "source": [
    "- First, let's open Inkscape and copy+paste the \"rabbit_image\" into Inkscape. "
   ]
  },
  {
   "cell_type": "markdown",
   "id": "ca8f9c0b",
   "metadata": {},
   "source": [
    "- Secondly, let's vectorize the image by applying the \"Trace bitmap\" tool."
   ]
  },
  {
   "cell_type": "markdown",
   "id": "5f74be05",
   "metadata": {},
   "source": [
    "- Thirdly, let's create a circle object for our generator points. We can do \"Extensions -> Generate from Path -> Scatter\", and input \"spcae between copies\" 7 to 10. Select \"Live preview\". We want the shape boundary points to capture the rough features of the shape, but not too dense - so after adding thickness to the line, it is suitable for 3D printing. "
   ]
  },
  {
   "cell_type": "markdown",
   "id": "26b4b594",
   "metadata": {},
   "source": [
    "- Next, let's randomly place ~20-25 inner points inside the bunny shape. "
   ]
  },
  {
   "cell_type": "markdown",
   "id": "38bb9766",
   "metadata": {},
   "source": [
    "- Then, we can select these points, and do \"Extensions -> Generate from path -> Voronoi diagram\", and choose \"Type of diagram: Delaunay triangulation\" and \"Triangle color: Default\". Let's also select \"live preview\"."
   ]
  },
  {
   "cell_type": "markdown",
   "id": "7fb61aa4",
   "metadata": {},
   "source": [
    "- Now, let's move our triangulation to another empty space (separated from the generator points). Then, we can overlay our original bunny vectorized image onto the triangulation. We can then delete triangles outside of the shape. "
   ]
  },
  {
   "cell_type": "markdown",
   "id": "bbb881c7",
   "metadata": {},
   "source": [
    "- Lastly, let's group the resulting triangles as our triangulation. We can also do some final editing, like adding the \"2023\" text. Eventually, we can \"group\" our final designs, and output using \"File -> Export -> Selection -> Export Selected Only -> Plain SVG(*.svg)\"."
   ]
  },
  {
   "cell_type": "markdown",
   "id": "1d075248",
   "metadata": {},
   "source": [
    "### Step 2. Blender adding thickness to 2D design for 3D mesh model (.STL)"
   ]
  },
  {
   "cell_type": "markdown",
   "id": "5ceaad49",
   "metadata": {},
   "source": [
    "- Import .SVG, quick key: \"S\" scaling, \"G\" move it around, \"G\", then \"x\" move along x axis; similarly for \"y\", \"z\".\n",
    "- Object mode: Object-> Convert -> Mesh.\n",
    "- Edit mode: \"Select ->All\", quick key \"e\" then move your mouse for desired thickness. click mouse to confirm. \n",
    "- Export mesh as STL."
   ]
  },
  {
   "cell_type": "markdown",
   "id": "2edf2b29",
   "metadata": {},
   "source": [
    "## ~Explore on your own~"
   ]
  },
  {
   "cell_type": "markdown",
   "id": "bf9472d4",
   "metadata": {},
   "source": [
    "From the above, we learned some useful 3D designing/modeling skills: \n",
    "- How to convert 2D design to 3D mesh\n",
    "- How to make a mesh finer, with the remesh tool\n",
    "- How to modify mesh, like bending it, or do operations (union, intersection, difference) on it\n",
    "- How to simplify mesh\n",
    "\n",
    "And that the design inspiration really can come from anywhere!\n",
    "Next are a few ideas that you can explore and try modeling on your own!"
   ]
  },
  {
   "cell_type": "markdown",
   "id": "33cba6d5",
   "metadata": {},
   "source": [
    "## 2.4. Rose "
   ]
  },
  {
   "cell_type": "markdown",
   "id": "2fbd5a0a",
   "metadata": {},
   "source": [
    "Rose: https://en.wikipedia.org/wiki/Rose_(mathematics)"
   ]
  },
  {
   "cell_type": "markdown",
   "id": "da85e755",
   "metadata": {},
   "source": [
    "Play around the Rose code and make your own rose! You can play around Python and Inkscape for your 2D Rose design. And then use the previous procedure: Save your design as PNG, import to Inscape for editing, save as .SVG and use Blender to convert the 2D vector image (.SVG) to 3D printable mesh (.STL)."
   ]
  },
  {
   "cell_type": "code",
   "execution_count": null,
   "id": "9d63dd6e",
   "metadata": {},
   "outputs": [],
   "source": [
    "import numpy as np\n",
    "import matplotlib.pyplot as plt"
   ]
  },
  {
   "cell_type": "code",
   "execution_count": null,
   "id": "35fcaed1",
   "metadata": {},
   "outputs": [],
   "source": [
    "#Choose your n and d parameters\n",
    "n=7.0\n",
    "d=6.0"
   ]
  },
  {
   "cell_type": "code",
   "execution_count": null,
   "id": "54b14a60",
   "metadata": {},
   "outputs": [],
   "source": [
    "#Rose curve in polar coordinates\n",
    "k=n/d\n",
    "delta=np.linspace(0,d*2*np.pi,1000)\n",
    "r=np.sin(k*delta)"
   ]
  },
  {
   "cell_type": "code",
   "execution_count": null,
   "id": "ab3c07d1",
   "metadata": {},
   "outputs": [],
   "source": [
    "#Plot the curve\n",
    "#Note that plt.polar function does not plot r<=0 values\n",
    "#So we can manually add pi when r<0 (i.e. reflect across the origin), and replace r with abs(r).\n",
    "#Reference: https://stackoverflow.com/questions/67989467/plotting-rose-curve-in-python-with-even-petals\n",
    "#Customize your line width, etc, and export to image.\n",
    "plt.figure(figsize=(10,10))\n",
    "plt.polar(delta+(r<0)*np.pi, np.abs(r), 'g-', linewidth=15)\n",
    "plt.axis(\"off\")"
   ]
  },
  {
   "cell_type": "markdown",
   "id": "336a8c50",
   "metadata": {},
   "source": [
    "## 2.5. Making a tetrahedron shaped lamp with Sierpinski triangle design? XD"
   ]
  },
  {
   "cell_type": "markdown",
   "id": "b80ac5e7",
   "metadata": {},
   "source": [
    "Image source: Tuesday \"geometric fractal\" material of this course!"
   ]
  },
  {
   "cell_type": "markdown",
   "id": "94dad2dd",
   "metadata": {},
   "source": [
    "![sierpinski](https://raw.githubusercontent.com/yue-sun/generative-art/main/05_friday/figs/sierpinski_triangle.png)"
   ]
  },
  {
   "cell_type": "markdown",
   "id": "2f77e0e0",
   "metadata": {},
   "source": [
    "An idea is to make a tetrahedron shaped (bottomless) lamp, and on each side of its faces, use a sierpinski triangle pattern as the design :D It should look very beautiful with light put in!"
   ]
  },
  {
   "cell_type": "markdown",
   "id": "33c5179a",
   "metadata": {},
   "source": [
    "## 3. Other info"
   ]
  },
  {
   "cell_type": "markdown",
   "id": "93aa78a2",
   "metadata": {},
   "source": [
    "Some printing resources:\n",
    "- Harvard students have free access to SEAS MakerSpace. Once through a training session you will have swipe access 7am-12am. \n",
    "- shapeways.com: A commercial printing service. They have really great 3D printers (SLS) that can print very finely some very complicated shapes. This avoids the \"supporting structure removal\" issue, because SLS is printing by layering nylon powder, and the support are also the powder. Once you get the shape, and take it out from the powder bed, the supporting powder will fall off naturally, without leaving a trace on your model. "
   ]
  },
  {
   "cell_type": "markdown",
   "id": "c47d61a0",
   "metadata": {},
   "source": [
    "More to explore: \n",
    "- a powerful mesh manipulation/editing tool: MeshMixer, only available for Windows.\n",
    "- Other useful modeling tools: tinkercad.com, Fusion 360, Rhino, OpenSCAD, SketchUp, etc\n",
    "- You can generate complicated generative shapes easily by using \"Codeblocks\" on tinkercad: \n",
    "        https://www.tinkercad.com/codeblocks/6O0Pm7BIbMm\n",
    "        \n",
    "- More modeling with TinkerCad: https://www.youtube.com/watch?v=yLJaogVy_Q4\n"
   ]
  },
  {
   "cell_type": "markdown",
   "id": "167750b8",
   "metadata": {},
   "source": [
    "## ~ Thank you ~"
   ]
  }
 ],
 "metadata": {
  "kernelspec": {
   "display_name": "Python 3",
   "language": "python",
   "name": "python3"
  },
  "language_info": {
   "codemirror_mode": {
    "name": "ipython",
    "version": 3
   },
   "file_extension": ".py",
   "mimetype": "text/x-python",
   "name": "python",
   "nbconvert_exporter": "python",
   "pygments_lexer": "ipython3",
   "version": "3.9.6"
  },
  "vscode": {
   "interpreter": {
    "hash": "31f2aee4e71d21fbe5cf8b01ff0e069b9275f58929596ceb00d14d90e3e16cd6"
   }
  }
 },
 "nbformat": 4,
 "nbformat_minor": 5
}
